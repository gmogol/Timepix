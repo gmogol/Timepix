{
 "cells": [
  {
   "cell_type": "code",
   "execution_count": 1,
   "metadata": {},
   "outputs": [],
   "source": [
    "import pandas as pd\n",
    "import matplotlib.pyplot as plt\n",
    "import numpy as np\n",
    "import seaborn as sns"
   ]
  },
  {
   "cell_type": "code",
   "execution_count": 5,
   "metadata": {},
   "outputs": [],
   "source": [
    "def preproces_tdcs(filename=None,debug=False,tdc_df=None):\n",
    "    ''' \n",
    "    Args:\n",
    "        filename : string\n",
    "            name of the file\n",
    "        debug : bool\n",
    "              if True returns all dataframes\n",
    "        tdc_df : pd.DataFrame Object\n",
    "            instead of reading from file one can give the df directly\n",
    "    Returns:\n",
    "        time_df : pd.DataFrame Object\n",
    "            \n",
    "    It takes the data file for TDC's ONLY, which is assumed to be in the form\n",
    "    TDCn: t0.\n",
    "    We first seperate TDC's apart and then merge them, which creates nulls.\n",
    "    The nulls for TDC2 are back filled i.e. if a cell N is null then it's filled \n",
    "    with the last cell <N which isn't null. TDC1 nulls aren't filled but rather dropped\n",
    "    because we are really interested in TDC2. Finally we calculate the time difference\n",
    "    between TD1 and TDC2. Finally we gate the difference by 5*10^4 ns = 50 us.\n",
    "    '''\n",
    "    if filename is not None:\n",
    "        tpx_df =pd.read_csv(filename,\n",
    "                    sep=':',\n",
    "                    error_bad_lines=False,\n",
    "                    warn_bad_lines=False,\n",
    "                    header=None)\n",
    "    elif tdc_df is not None:\n",
    "        tpx_df = tdc_df\n",
    "    else:\n",
    "        raise(Exception('Either a filename or a tdc data frame needs to be given!'))\n",
    "    tpx_df.columns = ['tdc','time']\n",
    "\n",
    "    print('tpx_df nulls\\n',tpx_df.isna().sum())\n",
    "    tdc_one = tpx_df[tpx_df.tdc == 'TDC1']\n",
    "    tdc_two = tpx_df[tpx_df.tdc == 'TDC2']\n",
    "    time_df = tdc_one[['time']].join(tdc_two.time,how='outer',lsuffix='1',rsuffix='2')\n",
    "    time_df['time2'] = time_df['time2'].fillna(method='bfill')\n",
    "    time_df.dropna(inplace=True)\n",
    "    time_df = time_df.astype(np.float64)\n",
    "    time_df['delta_t'] = (time_df.time2-time_df.time1)*1e9\n",
    "    time_df.reset_index(inplace=True)\n",
    "    time_df.drop('index',axis=1,inplace=True)\n",
    "    if debug:\n",
    "        return tpx_df, tdc_one, tdc_two, time_df\n",
    "    else:\n",
    "        print(time_df.head(10))\n",
    "        return time_df"
   ]
  },
  {
   "cell_type": "code",
   "execution_count": 6,
   "metadata": {},
   "outputs": [],
   "source": [
    "def line_hist(df,bins=10, background=None, bg_factor = 1, signal_factor =1,linestyle=None, normalized=True):  \n",
    "    '''\n",
    "    Plots a histogram of the given data or signal-background. \n",
    "    Args: \n",
    "        df : List-like object\n",
    "            Dataframe to be plotted\n",
    "        bins : Int or List-like\n",
    "            This input is the binning paramater. Either # bins or bin positions\n",
    "        background : Same type as df\n",
    "            background that will be subtracted\n",
    "        bg_factor : Float\n",
    "            If background is taken over a shorter period of time, this factor is used\n",
    "            to artificially increace # hits.\n",
    "        linestyle : String\n",
    "            Input for the linestyle of histograms\n",
    "        normalize : Bool\n",
    "            controls final normalization of x,y\n",
    "    Returns:\n",
    "        bin_centers : np.array\n",
    "            centers of bins\n",
    "        y_vals : np.array\n",
    "            normalized # hits\n",
    "    '''\n",
    "    if linestyle is None:\n",
    "        linestyle ='-'\n",
    "    x_vals=df\n",
    "    y_vals,bin_edges= np.histogram(x_vals,bins = bins)\n",
    "    y_vals = y_vals * signal_factor\n",
    "    bin_centers= 0.5*(bin_edges[1:]+bin_edges[:-1])\n",
    "    if normalized:\n",
    "        bin_centers = bin_centers-bin_centers.mean()\n",
    "    if background is not None:\n",
    "        x_vals2 = background\n",
    "        y_vals2,_ = np.histogram(x_vals2,bins = bins)\n",
    "        y_vals2 = y_vals2*bg_factor\n",
    "        if normalized:\n",
    "            y_out = (y_vals-y_vals2)/(y_vals-y_vals2).max()\n",
    "        else:\n",
    "            y_out = (y_vals-y_vals2)\n",
    "        plt.plot(bin_centers,y_out, linestyle=linestyle,marker='x')\n",
    "        plt.show()\n",
    "        return bin_centers,y_out\n",
    "    if normalized:\n",
    "        y_out = y_vals/y_vals.max()\n",
    "    else:\n",
    "        y_out = y_vals\n",
    "    plt.plot(bin_centers,y_out, linestyle=linestyle,marker='x')\n",
    "    plt.show()\n",
    "    return bin_centers, y_out"
   ]
  },
  {
   "cell_type": "code",
   "execution_count": 25,
   "metadata": {
    "scrolled": true
   },
   "outputs": [
    {
     "name": "stdout",
     "output_type": "stream",
     "text": [
      "tpx_df nulls\n",
      " tdc     0\n",
      "time    0\n",
      "dtype: int64\n",
      "      time1     time2       delta_t\n",
      "0  0.001015  0.001020  4.734113e+03\n",
      "1  0.001955  0.003840  1.884620e+06\n",
      "2  0.002895  0.003840  9.446786e+05\n",
      "3  0.003835  0.003840  4.737244e+03\n",
      "4  0.004775  0.006659  1.884621e+06\n",
      "5  0.005715  0.006659  9.446797e+05\n",
      "6  0.006655  0.006659  4.738281e+03\n",
      "7  0.007595  0.007599  4.741150e+03\n",
      "8  0.008534  0.008539  4.736462e+03\n",
      "9  0.009474  0.014179  4.704439e+06\n"
     ]
    }
   ],
   "source": [
    "signal_df = preproces_tdcs(filename='vert_8_tdc.txt')"
   ]
  },
  {
   "cell_type": "code",
   "execution_count": 5,
   "metadata": {},
   "outputs": [
    {
     "name": "stdout",
     "output_type": "stream",
     "text": [
      "<class 'pandas.core.frame.DataFrame'>\n",
      "RangeIndex: 1276058 entries, 0 to 1276057\n",
      "Data columns (total 3 columns):\n",
      " #   Column   Non-Null Count    Dtype  \n",
      "---  ------   --------------    -----  \n",
      " 0   time1    1276058 non-null  float64\n",
      " 1   time2    1276058 non-null  float64\n",
      " 2   delta_t  1276058 non-null  float64\n",
      "dtypes: float64(3)\n",
      "memory usage: 29.2 MB\n"
     ]
    }
   ],
   "source": [
    "signal_df.info()"
   ]
  },
  {
   "cell_type": "code",
   "execution_count": 27,
   "metadata": {
    "scrolled": true
   },
   "outputs": [
    {
     "data": {
      "image/png": "[encoded data removed]",
      "text/plain": [
       "<Figure size 432x288 with 1 Axes>"
      ]
     },
     "metadata": {
      "needs_background": "light"
     },
     "output_type": "display_data"
    },
    {
     "data": {
      "text/plain": [
       "(array([4730.00750751, 4730.02252252, 4730.03753754, 4730.05255255,\n",
       "        4730.06756757, 4730.08258258, 4730.0975976 , 4730.11261261,\n",
       "        4730.12762763, 4730.14264264, 4730.15765766, 4730.17267267,\n",
       "        4730.18768769, 4730.2027027 , 4730.21771772, 4730.23273273,\n",
       "        4730.24774775, 4730.26276276, 4730.27777778, 4730.29279279,\n",
       "        4730.30780781, 4730.32282282, 4730.33783784, 4730.35285285,\n",
       "        4730.36786787, 4730.38288288, 4730.3978979 , 4730.41291291,\n",
       "        4730.42792793, 4730.44294294, 4730.45795796, 4730.47297297,\n",
       "        4730.48798799, 4730.503003  , 4730.51801802, 4730.53303303,\n",
       "        4730.54804805, 4730.56306306, 4730.57807808, 4730.59309309,\n",
       "        4730.60810811, 4730.62312312, 4730.63813814, 4730.65315315,\n",
       "        4730.66816817, 4730.68318318, 4730.6981982 , 4730.71321321,\n",
       "        4730.72822823, 4730.74324324, 4730.75825826, 4730.77327327,\n",
       "        4730.78828829, 4730.8033033 , 4730.81831832, 4730.83333333,\n",
       "        4730.84834835, 4730.86336336, 4730.87837838, 4730.89339339,\n",
       "        4730.90840841, 4730.92342342, 4730.93843844, 4730.95345345,\n",
       "        4730.96846847, 4730.98348348, 4730.9984985 , 4731.01351351,\n",
       "        4731.02852853, 4731.04354354, 4731.05855856, 4731.07357357,\n",
       "        4731.08858859, 4731.1036036 , 4731.11861862, 4731.13363363,\n",
       "        4731.14864865, 4731.16366366, 4731.17867868, 4731.19369369,\n",
       "        4731.20870871, 4731.22372372, 4731.23873874, 4731.25375375,\n",
       "        4731.26876877, 4731.28378378, 4731.2987988 , 4731.31381381,\n",
       "        4731.32882883, 4731.34384384, 4731.35885886, 4731.37387387,\n",
       "        4731.38888889, 4731.4039039 , 4731.41891892, 4731.43393393,\n",
       "        4731.44894895, 4731.46396396, 4731.47897898, 4731.49399399,\n",
       "        4731.50900901, 4731.52402402, 4731.53903904, 4731.55405405,\n",
       "        4731.56906907, 4731.58408408, 4731.5990991 , 4731.61411411,\n",
       "        4731.62912913, 4731.64414414, 4731.65915916, 4731.67417417,\n",
       "        4731.68918919, 4731.7042042 , 4731.71921922, 4731.73423423,\n",
       "        4731.74924925, 4731.76426426, 4731.77927928, 4731.79429429,\n",
       "        4731.80930931, 4731.82432432, 4731.83933934, 4731.85435435,\n",
       "        4731.86936937, 4731.88438438, 4731.8993994 , 4731.91441441,\n",
       "        4731.92942943, 4731.94444444, 4731.95945946, 4731.97447447,\n",
       "        4731.98948949, 4732.0045045 , 4732.01951952, 4732.03453453,\n",
       "        4732.04954955, 4732.06456456, 4732.07957958, 4732.09459459,\n",
       "        4732.10960961, 4732.12462462, 4732.13963964, 4732.15465465,\n",
       "        4732.16966967, 4732.18468468, 4732.1996997 , 4732.21471471,\n",
       "        4732.22972973, 4732.24474474, 4732.25975976, 4732.27477477,\n",
       "        4732.28978979, 4732.3048048 , 4732.31981982, 4732.33483483,\n",
       "        4732.34984985, 4732.36486486, 4732.37987988, 4732.39489489,\n",
       "        4732.40990991, 4732.42492492, 4732.43993994, 4732.45495495,\n",
       "        4732.46996997, 4732.48498498, 4732.5       , 4732.51501502,\n",
       "        4732.53003003, 4732.54504505, 4732.56006006, 4732.57507508,\n",
       "        4732.59009009, 4732.60510511, 4732.62012012, 4732.63513514,\n",
       "        4732.65015015, 4732.66516517, 4732.68018018, 4732.6951952 ,\n",
       "        4732.71021021, 4732.72522523, 4732.74024024, 4732.75525526,\n",
       "        4732.77027027, 4732.78528529, 4732.8003003 , 4732.81531532,\n",
       "        4732.83033033, 4732.84534535, 4732.86036036, 4732.87537538,\n",
       "        4732.89039039, 4732.90540541, 4732.92042042, 4732.93543544,\n",
       "        4732.95045045, 4732.96546547, 4732.98048048, 4732.9954955 ,\n",
       "        4733.01051051, 4733.02552553, 4733.04054054, 4733.05555556,\n",
       "        4733.07057057, 4733.08558559, 4733.1006006 , 4733.11561562,\n",
       "        4733.13063063, 4733.14564565, 4733.16066066, 4733.17567568,\n",
       "        4733.19069069, 4733.20570571, 4733.22072072, 4733.23573574,\n",
       "        4733.25075075, 4733.26576577, 4733.28078078, 4733.2957958 ,\n",
       "        4733.31081081, 4733.32582583, 4733.34084084, 4733.35585586,\n",
       "        4733.37087087, 4733.38588589, 4733.4009009 , 4733.41591592,\n",
       "        4733.43093093, 4733.44594595, 4733.46096096, 4733.47597598,\n",
       "        4733.49099099, 4733.50600601, 4733.52102102, 4733.53603604,\n",
       "        4733.55105105, 4733.56606607, 4733.58108108, 4733.5960961 ,\n",
       "        4733.61111111, 4733.62612613, 4733.64114114, 4733.65615616,\n",
       "        4733.67117117, 4733.68618619, 4733.7012012 , 4733.71621622,\n",
       "        4733.73123123, 4733.74624625, 4733.76126126, 4733.77627628,\n",
       "        4733.79129129, 4733.80630631, 4733.82132132, 4733.83633634,\n",
       "        4733.85135135, 4733.86636637, 4733.88138138, 4733.8963964 ,\n",
       "        4733.91141141, 4733.92642643, 4733.94144144, 4733.95645646,\n",
       "        4733.97147147, 4733.98648649, 4734.0015015 , 4734.01651652,\n",
       "        4734.03153153, 4734.04654655, 4734.06156156, 4734.07657658,\n",
       "        4734.09159159, 4734.10660661, 4734.12162162, 4734.13663664,\n",
       "        4734.15165165, 4734.16666667, 4734.18168168, 4734.1966967 ,\n",
       "        4734.21171171, 4734.22672673, 4734.24174174, 4734.25675676,\n",
       "        4734.27177177, 4734.28678679, 4734.3018018 , 4734.31681682,\n",
       "        4734.33183183, 4734.34684685, 4734.36186186, 4734.37687688,\n",
       "        4734.39189189, 4734.40690691, 4734.42192192, 4734.43693694,\n",
       "        4734.45195195, 4734.46696697, 4734.48198198, 4734.496997  ,\n",
       "        4734.51201201, 4734.52702703, 4734.54204204, 4734.55705706,\n",
       "        4734.57207207, 4734.58708709, 4734.6021021 , 4734.61711712,\n",
       "        4734.63213213, 4734.64714715, 4734.66216216, 4734.67717718,\n",
       "        4734.69219219, 4734.70720721, 4734.72222222, 4734.73723724,\n",
       "        4734.75225225, 4734.76726727, 4734.78228228, 4734.7972973 ,\n",
       "        4734.81231231, 4734.82732733, 4734.84234234, 4734.85735736,\n",
       "        4734.87237237, 4734.88738739, 4734.9024024 , 4734.91741742,\n",
       "        4734.93243243, 4734.94744745, 4734.96246246, 4734.97747748,\n",
       "        4734.99249249, 4735.00750751, 4735.02252252, 4735.03753754,\n",
       "        4735.05255255, 4735.06756757, 4735.08258258, 4735.0975976 ,\n",
       "        4735.11261261, 4735.12762763, 4735.14264264, 4735.15765766,\n",
       "        4735.17267267, 4735.18768769, 4735.2027027 , 4735.21771772,\n",
       "        4735.23273273, 4735.24774775, 4735.26276276, 4735.27777778,\n",
       "        4735.29279279, 4735.30780781, 4735.32282282, 4735.33783784,\n",
       "        4735.35285285, 4735.36786787, 4735.38288288, 4735.3978979 ,\n",
       "        4735.41291291, 4735.42792793, 4735.44294294, 4735.45795796,\n",
       "        4735.47297297, 4735.48798799, 4735.503003  , 4735.51801802,\n",
       "        4735.53303303, 4735.54804805, 4735.56306306, 4735.57807808,\n",
       "        4735.59309309, 4735.60810811, 4735.62312312, 4735.63813814,\n",
       "        4735.65315315, 4735.66816817, 4735.68318318, 4735.6981982 ,\n",
       "        4735.71321321, 4735.72822823, 4735.74324324, 4735.75825826,\n",
       "        4735.77327327, 4735.78828829, 4735.8033033 , 4735.81831832,\n",
       "        4735.83333333, 4735.84834835, 4735.86336336, 4735.87837838,\n",
       "        4735.89339339, 4735.90840841, 4735.92342342, 4735.93843844,\n",
       "        4735.95345345, 4735.96846847, 4735.98348348, 4735.9984985 ,\n",
       "        4736.01351351, 4736.02852853, 4736.04354354, 4736.05855856,\n",
       "        4736.07357357, 4736.08858859, 4736.1036036 , 4736.11861862,\n",
       "        4736.13363363, 4736.14864865, 4736.16366366, 4736.17867868,\n",
       "        4736.19369369, 4736.20870871, 4736.22372372, 4736.23873874,\n",
       "        4736.25375375, 4736.26876877, 4736.28378378, 4736.2987988 ,\n",
       "        4736.31381381, 4736.32882883, 4736.34384384, 4736.35885886,\n",
       "        4736.37387387, 4736.38888889, 4736.4039039 , 4736.41891892,\n",
       "        4736.43393393, 4736.44894895, 4736.46396396, 4736.47897898,\n",
       "        4736.49399399, 4736.50900901, 4736.52402402, 4736.53903904,\n",
       "        4736.55405405, 4736.56906907, 4736.58408408, 4736.5990991 ,\n",
       "        4736.61411411, 4736.62912913, 4736.64414414, 4736.65915916,\n",
       "        4736.67417417, 4736.68918919, 4736.7042042 , 4736.71921922,\n",
       "        4736.73423423, 4736.74924925, 4736.76426426, 4736.77927928,\n",
       "        4736.79429429, 4736.80930931, 4736.82432432, 4736.83933934,\n",
       "        4736.85435435, 4736.86936937, 4736.88438438, 4736.8993994 ,\n",
       "        4736.91441441, 4736.92942943, 4736.94444444, 4736.95945946,\n",
       "        4736.97447447, 4736.98948949, 4737.0045045 , 4737.01951952,\n",
       "        4737.03453453, 4737.04954955, 4737.06456456, 4737.07957958,\n",
       "        4737.09459459, 4737.10960961, 4737.12462462, 4737.13963964,\n",
       "        4737.15465465, 4737.16966967, 4737.18468468, 4737.1996997 ,\n",
       "        4737.21471471, 4737.22972973, 4737.24474474, 4737.25975976,\n",
       "        4737.27477477, 4737.28978979, 4737.3048048 , 4737.31981982,\n",
       "        4737.33483483, 4737.34984985, 4737.36486486, 4737.37987988,\n",
       "        4737.39489489, 4737.40990991, 4737.42492492, 4737.43993994,\n",
       "        4737.45495495, 4737.46996997, 4737.48498498, 4737.5       ,\n",
       "        4737.51501502, 4737.53003003, 4737.54504505, 4737.56006006,\n",
       "        4737.57507508, 4737.59009009, 4737.60510511, 4737.62012012,\n",
       "        4737.63513514, 4737.65015015, 4737.66516517, 4737.68018018,\n",
       "        4737.6951952 , 4737.71021021, 4737.72522523, 4737.74024024,\n",
       "        4737.75525526, 4737.77027027, 4737.78528529, 4737.8003003 ,\n",
       "        4737.81531532, 4737.83033033, 4737.84534535, 4737.86036036,\n",
       "        4737.87537538, 4737.89039039, 4737.90540541, 4737.92042042,\n",
       "        4737.93543544, 4737.95045045, 4737.96546547, 4737.98048048,\n",
       "        4737.9954955 , 4738.01051051, 4738.02552553, 4738.04054054,\n",
       "        4738.05555556, 4738.07057057, 4738.08558559, 4738.1006006 ,\n",
       "        4738.11561562, 4738.13063063, 4738.14564565, 4738.16066066,\n",
       "        4738.17567568, 4738.19069069, 4738.20570571, 4738.22072072,\n",
       "        4738.23573574, 4738.25075075, 4738.26576577, 4738.28078078,\n",
       "        4738.2957958 , 4738.31081081, 4738.32582583, 4738.34084084,\n",
       "        4738.35585586, 4738.37087087, 4738.38588589, 4738.4009009 ,\n",
       "        4738.41591592, 4738.43093093, 4738.44594595, 4738.46096096,\n",
       "        4738.47597598, 4738.49099099, 4738.50600601, 4738.52102102,\n",
       "        4738.53603604, 4738.55105105, 4738.56606607, 4738.58108108,\n",
       "        4738.5960961 , 4738.61111111, 4738.62612613, 4738.64114114,\n",
       "        4738.65615616, 4738.67117117, 4738.68618619, 4738.7012012 ,\n",
       "        4738.71621622, 4738.73123123, 4738.74624625, 4738.76126126,\n",
       "        4738.77627628, 4738.79129129, 4738.80630631, 4738.82132132,\n",
       "        4738.83633634, 4738.85135135, 4738.86636637, 4738.88138138,\n",
       "        4738.8963964 , 4738.91141141, 4738.92642643, 4738.94144144,\n",
       "        4738.95645646, 4738.97147147, 4738.98648649, 4739.0015015 ,\n",
       "        4739.01651652, 4739.03153153, 4739.04654655, 4739.06156156,\n",
       "        4739.07657658, 4739.09159159, 4739.10660661, 4739.12162162,\n",
       "        4739.13663664, 4739.15165165, 4739.16666667, 4739.18168168,\n",
       "        4739.1966967 , 4739.21171171, 4739.22672673, 4739.24174174,\n",
       "        4739.25675676, 4739.27177177, 4739.28678679, 4739.3018018 ,\n",
       "        4739.31681682, 4739.33183183, 4739.34684685, 4739.36186186,\n",
       "        4739.37687688, 4739.39189189, 4739.40690691, 4739.42192192,\n",
       "        4739.43693694, 4739.45195195, 4739.46696697, 4739.48198198,\n",
       "        4739.496997  , 4739.51201201, 4739.52702703, 4739.54204204,\n",
       "        4739.55705706, 4739.57207207, 4739.58708709, 4739.6021021 ,\n",
       "        4739.61711712, 4739.63213213, 4739.64714715, 4739.66216216,\n",
       "        4739.67717718, 4739.69219219, 4739.70720721, 4739.72222222,\n",
       "        4739.73723724, 4739.75225225, 4739.76726727, 4739.78228228,\n",
       "        4739.7972973 , 4739.81231231, 4739.82732733, 4739.84234234,\n",
       "        4739.85735736, 4739.87237237, 4739.88738739, 4739.9024024 ,\n",
       "        4739.91741742, 4739.93243243, 4739.94744745, 4739.96246246,\n",
       "        4739.97747748, 4739.99249249, 4740.00750751, 4740.02252252,\n",
       "        4740.03753754, 4740.05255255, 4740.06756757, 4740.08258258,\n",
       "        4740.0975976 , 4740.11261261, 4740.12762763, 4740.14264264,\n",
       "        4740.15765766, 4740.17267267, 4740.18768769, 4740.2027027 ,\n",
       "        4740.21771772, 4740.23273273, 4740.24774775, 4740.26276276,\n",
       "        4740.27777778, 4740.29279279, 4740.30780781, 4740.32282282,\n",
       "        4740.33783784, 4740.35285285, 4740.36786787, 4740.38288288,\n",
       "        4740.3978979 , 4740.41291291, 4740.42792793, 4740.44294294,\n",
       "        4740.45795796, 4740.47297297, 4740.48798799, 4740.503003  ,\n",
       "        4740.51801802, 4740.53303303, 4740.54804805, 4740.56306306,\n",
       "        4740.57807808, 4740.59309309, 4740.60810811, 4740.62312312,\n",
       "        4740.63813814, 4740.65315315, 4740.66816817, 4740.68318318,\n",
       "        4740.6981982 , 4740.71321321, 4740.72822823, 4740.74324324,\n",
       "        4740.75825826, 4740.77327327, 4740.78828829, 4740.8033033 ,\n",
       "        4740.81831832, 4740.83333333, 4740.84834835, 4740.86336336,\n",
       "        4740.87837838, 4740.89339339, 4740.90840841, 4740.92342342,\n",
       "        4740.93843844, 4740.95345345, 4740.96846847, 4740.98348348,\n",
       "        4740.9984985 , 4741.01351351, 4741.02852853, 4741.04354354,\n",
       "        4741.05855856, 4741.07357357, 4741.08858859, 4741.1036036 ,\n",
       "        4741.11861862, 4741.13363363, 4741.14864865, 4741.16366366,\n",
       "        4741.17867868, 4741.19369369, 4741.20870871, 4741.22372372,\n",
       "        4741.23873874, 4741.25375375, 4741.26876877, 4741.28378378,\n",
       "        4741.2987988 , 4741.31381381, 4741.32882883, 4741.34384384,\n",
       "        4741.35885886, 4741.37387387, 4741.38888889, 4741.4039039 ,\n",
       "        4741.41891892, 4741.43393393, 4741.44894895, 4741.46396396,\n",
       "        4741.47897898, 4741.49399399, 4741.50900901, 4741.52402402,\n",
       "        4741.53903904, 4741.55405405, 4741.56906907, 4741.58408408,\n",
       "        4741.5990991 , 4741.61411411, 4741.62912913, 4741.64414414,\n",
       "        4741.65915916, 4741.67417417, 4741.68918919, 4741.7042042 ,\n",
       "        4741.71921922, 4741.73423423, 4741.74924925, 4741.76426426,\n",
       "        4741.77927928, 4741.79429429, 4741.80930931, 4741.82432432,\n",
       "        4741.83933934, 4741.85435435, 4741.86936937, 4741.88438438,\n",
       "        4741.8993994 , 4741.91441441, 4741.92942943, 4741.94444444,\n",
       "        4741.95945946, 4741.97447447, 4741.98948949, 4742.0045045 ,\n",
       "        4742.01951952, 4742.03453453, 4742.04954955, 4742.06456456,\n",
       "        4742.07957958, 4742.09459459, 4742.10960961, 4742.12462462,\n",
       "        4742.13963964, 4742.15465465, 4742.16966967, 4742.18468468,\n",
       "        4742.1996997 , 4742.21471471, 4742.22972973, 4742.24474474,\n",
       "        4742.25975976, 4742.27477477, 4742.28978979, 4742.3048048 ,\n",
       "        4742.31981982, 4742.33483483, 4742.34984985, 4742.36486486,\n",
       "        4742.37987988, 4742.39489489, 4742.40990991, 4742.42492492,\n",
       "        4742.43993994, 4742.45495495, 4742.46996997, 4742.48498498,\n",
       "        4742.5       , 4742.51501502, 4742.53003003, 4742.54504505,\n",
       "        4742.56006006, 4742.57507508, 4742.59009009, 4742.60510511,\n",
       "        4742.62012012, 4742.63513514, 4742.65015015, 4742.66516517,\n",
       "        4742.68018018, 4742.6951952 , 4742.71021021, 4742.72522523,\n",
       "        4742.74024024, 4742.75525526, 4742.77027027, 4742.78528529,\n",
       "        4742.8003003 , 4742.81531532, 4742.83033033, 4742.84534535,\n",
       "        4742.86036036, 4742.87537538, 4742.89039039, 4742.90540541,\n",
       "        4742.92042042, 4742.93543544, 4742.95045045, 4742.96546547,\n",
       "        4742.98048048, 4742.9954955 , 4743.01051051, 4743.02552553,\n",
       "        4743.04054054, 4743.05555556, 4743.07057057, 4743.08558559,\n",
       "        4743.1006006 , 4743.11561562, 4743.13063063, 4743.14564565,\n",
       "        4743.16066066, 4743.17567568, 4743.19069069, 4743.20570571,\n",
       "        4743.22072072, 4743.23573574, 4743.25075075, 4743.26576577,\n",
       "        4743.28078078, 4743.2957958 , 4743.31081081, 4743.32582583,\n",
       "        4743.34084084, 4743.35585586, 4743.37087087, 4743.38588589,\n",
       "        4743.4009009 , 4743.41591592, 4743.43093093, 4743.44594595,\n",
       "        4743.46096096, 4743.47597598, 4743.49099099, 4743.50600601,\n",
       "        4743.52102102, 4743.53603604, 4743.55105105, 4743.56606607,\n",
       "        4743.58108108, 4743.5960961 , 4743.61111111, 4743.62612613,\n",
       "        4743.64114114, 4743.65615616, 4743.67117117, 4743.68618619,\n",
       "        4743.7012012 , 4743.71621622, 4743.73123123, 4743.74624625,\n",
       "        4743.76126126, 4743.77627628, 4743.79129129, 4743.80630631,\n",
       "        4743.82132132, 4743.83633634, 4743.85135135, 4743.86636637,\n",
       "        4743.88138138, 4743.8963964 , 4743.91141141, 4743.92642643,\n",
       "        4743.94144144, 4743.95645646, 4743.97147147, 4743.98648649,\n",
       "        4744.0015015 , 4744.01651652, 4744.03153153, 4744.04654655,\n",
       "        4744.06156156, 4744.07657658, 4744.09159159, 4744.10660661,\n",
       "        4744.12162162, 4744.13663664, 4744.15165165, 4744.16666667,\n",
       "        4744.18168168, 4744.1966967 , 4744.21171171, 4744.22672673,\n",
       "        4744.24174174, 4744.25675676, 4744.27177177, 4744.28678679,\n",
       "        4744.3018018 , 4744.31681682, 4744.33183183, 4744.34684685,\n",
       "        4744.36186186, 4744.37687688, 4744.39189189, 4744.40690691,\n",
       "        4744.42192192, 4744.43693694, 4744.45195195, 4744.46696697,\n",
       "        4744.48198198, 4744.496997  , 4744.51201201, 4744.52702703,\n",
       "        4744.54204204, 4744.55705706, 4744.57207207, 4744.58708709,\n",
       "        4744.6021021 , 4744.61711712, 4744.63213213, 4744.64714715,\n",
       "        4744.66216216, 4744.67717718, 4744.69219219, 4744.70720721,\n",
       "        4744.72222222, 4744.73723724, 4744.75225225, 4744.76726727,\n",
       "        4744.78228228, 4744.7972973 , 4744.81231231, 4744.82732733,\n",
       "        4744.84234234, 4744.85735736, 4744.87237237, 4744.88738739,\n",
       "        4744.9024024 , 4744.91741742, 4744.93243243, 4744.94744745,\n",
       "        4744.96246246, 4744.97747748, 4744.99249249]),\n",
       " array([   0,    0,    0,    0,    0,    0,    0,    0,    0,    0,    0,\n",
       "           0,    0,   52,   37,    0,    0,    0,    0,    0,    0,    0,\n",
       "           0,    0,    0,    0,    0,    0,    0,    0,    0,  122,    0,\n",
       "           0,    0,    0,    0,    0,    0,    0,    0,    0,    0,    0,\n",
       "           0,    0,    0,    0,  176,    0,    0,    0,    0,    0,    0,\n",
       "           0,    0,    0,    0,    0,    0,    0,    0,    0,    0,  155,\n",
       "         102,    0,    0,    0,    0,    0,    0,    0,    0,    0,    0,\n",
       "           0,    0,    0,    0,    0,    0,  305,    0,    0,    0,    0,\n",
       "           0,    0,    0,    0,    0,    0,    0,    0,    0,    0,    0,\n",
       "           0,  355,    0,    0,    0,    0,    0,    0,    0,    0,    0,\n",
       "           0,    0,    0,    0,    0,    0,    0,  267,  173,    0,    0,\n",
       "           0,    0,    0,    0,    0,    0,    0,    0,    0,    0,    0,\n",
       "           0,    0,    0,  524,    0,    0,    0,    0,    0,    0,    0,\n",
       "           0,    0,    0,    0,    0,    0,    0,    0,    0,  823,    0,\n",
       "           0,    0,    0,    0,    0,    0,    0,    0,    0,    0,    0,\n",
       "           0,    0,    0,    0,  598,  458,    0,    0,    0,    0,    0,\n",
       "           0,    0,    0,    0,    0,    0,    0,    0,    0,    0,    0,\n",
       "        1756,    0,    0,    0,    0,    0,    0,    0,    0,    0,    0,\n",
       "           0,    0,    0,    0,    0,    0, 2039,    0,    0,    0,    0,\n",
       "           0,    0,    0,    0,    0,    0,    0,    0,    0,    0,    0,\n",
       "           0, 1648, 1080,    0,    0,    0,    0,    0,    0,    0,    0,\n",
       "           0,    0,    0,    0,    0,    0,    0,    0, 3294,    0,    0,\n",
       "           0,    0,    0,    0,    0,    0,    0,    0,    0,    0,    0,\n",
       "           0,    0,    0, 3668,    0,    0,    0,    0,    0,    0,    0,\n",
       "           0,    0,    0,    0,    0,    0,    0,    0,    0, 3089, 2276,\n",
       "           0,    0,    0,    0,    0,    0,    0,    0,    0,    0,    0,\n",
       "           0,    0,    0,    0,    0, 5562,    0,    0,    0,    0,    0,\n",
       "           0,    0,    0,    0,    0,    0,    0,    0,    0,    0,    0,\n",
       "        4363,    0,    0,    0,    0,    0,    0,    0,    0,    0,    0,\n",
       "           0,    0,    0,    0,    0,    0, 2934, 1851,    0,    0,    0,\n",
       "           0,    0,    0,    0,    0,    0,    0,    0,    0,    0,    0,\n",
       "           0,    0, 5872,    0,    0,    0,    0,    0,    0,    0,    0,\n",
       "           0,    0,    0,    0,    0,    0,    0,    0, 6366,    0,    0,\n",
       "           0,    0,    0,    0,    0,    0,    0,    0,    0,    0,    0,\n",
       "           0,    0,    0, 3300, 2545,    0,    0,    0,    0,    0,    0,\n",
       "           0,    0,    0,    0,    0,    0,    0,    0,    0,    0, 5750,\n",
       "           0,    0,    0,    0,    0,    0,    0,    0,    0,    0,    0,\n",
       "           0,    0,    0,    0,    0, 5027,    0,    0,    0,    0,    0,\n",
       "           0,    0,    0,    0,    0,    0,    0,    0,    0,    0,    0,\n",
       "        2637, 1790,    0,    0,    0,    0,    0,    0,    0,    0,    0,\n",
       "           0,    0,    0,    0,    0,    0,    0, 4340,    0,    0,    0,\n",
       "           0,    0,    0,    0,    0,    0,    0,    0,    0,    0,    0,\n",
       "           0,    0, 4425,   30,    0,    0,    0,    0,    0,    0,    0,\n",
       "           0,    0,    0,    0,    0,    0,    0,    0,   49, 4485,    0,\n",
       "           0,    0,    0,    0,    0,    0,    0,    0,    0,    0,    0,\n",
       "           0,    0,    0,    0, 4590,    0,    0,    0,    0,    0,    0,\n",
       "           0,    0,    0,    0,    0,    0,    0,    0,    0,    0, 4727,\n",
       "          69,    0,    0,    0,    0,    0,    0,    0,    0,    0,    0,\n",
       "           0,    0,    0,    0,    0,   19, 4354,    0,    0,    0,    0,\n",
       "           0,    0,    0,    0,    0,    0,    0,    0,    0,    0,    0,\n",
       "           0, 3286,    0,    0,    0,    0,    0,    0,    0,    0,    0,\n",
       "           0,    0,    0,    0,    0,    0,    0,  797, 1644,    0,    0,\n",
       "           0,    0,    0,    0,    0,    0,    0,    0,    0,    0,    0,\n",
       "           0,    0,    0, 2163,    0,    0,    0,    0,    0,    0,    0,\n",
       "           0,    0,    0,    0,    0,    0,    0,    0,    0, 2404,    0,\n",
       "           0,    0,    0,    0,    0,    0,    0,    0,    0,    0,    0,\n",
       "           0,    0,    0,    0, 1153, 1958,    0,    0,    0,    0,    0,\n",
       "           0,    0,    0,    0,    0,    0,    0,    0,    0,    0,    0,\n",
       "        3072,    0,    0,    0,    0,    0,    0,    0,    0,    0,    0,\n",
       "           0,    0,    0,    0,    0,    0, 1949,    0,    0,    0,    0,\n",
       "           0,    0,    0,    0,    0,    0,    0,    0,    0,    0,    0,\n",
       "           0,  404,  854,    0,    0,    0,    0,    0,    0,    0,    0,\n",
       "           0,    0,    0,    0,    0,    0,    0,    0, 1410,    0,    0,\n",
       "           0,    0,    0,    0,    0,    0,    0,    0,    0,    0,    0,\n",
       "           0,    0,    0, 1663,    0,    0,    0,    0,    0,    0,    0,\n",
       "           0,    0,    0,    0,    0,    0,    0,    0,    0,  372,  744,\n",
       "           0,    0,    0,    0,    0,    0,    0,    0,    0,    0,    0,\n",
       "           0,    0,    0,    0,    0,  664,    0,    0,    0,    0,    0,\n",
       "           0,    0,    0,    0,    0,    0,    0,    0,    0,    0,    0,\n",
       "         605,    0,    0,    0,    0,    0,    0,    0,    0,    0,    0,\n",
       "           0,    0,    0,    0,    0,    0,  234,  426,    0,    0,    0,\n",
       "           0,    0,    0,    0,    0,    0,    0,    0,    0,    0,    0,\n",
       "           0,    0,  461,    0,    0,    0,    0,    0,    0,    0,    0,\n",
       "           0,    0,    0,    0,    0,    0,    0,    0,  295,    0,    0,\n",
       "           0,    0,    0,    0,    0,    0,    0,    0,    0,    0,    0,\n",
       "           0,    0,    0,   91,  209,    0,    0,    0,    0,    0,    0,\n",
       "           0,    0,    0,    0,    0,    0,    0,    0,    0,    0,  266,\n",
       "           0,    0,    0,    0,    0,    0,    0,    0,    0,    0,    0,\n",
       "           0,    0,    0,    0,    0,  166,    0,    0,    0,    0,    0,\n",
       "           0,    0,    0,    0,    0,    0,    0,    0,    0,    0,    0,\n",
       "          40,   93,    0,    0,    0,    0,    0,    0,    0,    0,    0,\n",
       "           0,    0,    0,    0,    0,    0,    0,  119,    0,    0,    0,\n",
       "           0,    0,    0,    0,    0,    0,    0,    0,    0,    0,    0,\n",
       "           0,    0,  120,    0,    0,    0,    0,    0,    0,    0,    0,\n",
       "           0,    0,    0,    0,    0,    0,    0,    0,   27,   52,    0,\n",
       "           0,    0,    0,    0,    0,    0,    0,    0,    0,    0,    0,\n",
       "           0,    0,    0,    0,   66,    0,    0,    0,    0,    0,    0,\n",
       "           0,    0,    0,    0,    0,    0,    0,    0,    0,    0,   47,\n",
       "           0,    0,    0,    0,    0,    0,    0,    0,    0,    0,    0,\n",
       "           0,    0,    0,    0,    0,   19,   26,    0,    0,    0,    0,\n",
       "           0,    0,    0,    0,    0,    0,    0,    0,    0]))"
      ]
     },
     "execution_count": 27,
     "metadata": {},
     "output_type": "execute_result"
    }
   ],
   "source": [
    "line_hist(signal_df.delta_t,bins=np.linspace(4_730,4_745,1000),normalized=False)"
   ]
  },
  {
   "cell_type": "code",
   "execution_count": 7,
   "metadata": {},
   "outputs": [
    {
     "name": "stdout",
     "output_type": "stream",
     "text": [
      "tpx_df nulls\n",
      " tdc     0\n",
      "time    0\n",
      "dtype: int64\n",
      "      time1     time2       delta_t\n",
      "0  0.000970  0.001424  4.538648e+05\n",
      "1  0.001910  0.002343  4.327883e+05\n",
      "2  0.002851  0.003038  1.871747e+05\n",
      "3  0.003791  0.006617  2.825692e+06\n",
      "4  0.004731  0.006617  1.885391e+06\n",
      "5  0.005672  0.006617  9.450896e+05\n",
      "6  0.006612  0.006617  4.788019e+03\n",
      "7  0.007552  0.007931  3.786021e+05\n",
      "8  0.008493  0.008497  4.807813e+03\n",
      "9  0.009433  0.010306  8.730568e+05\n"
     ]
    }
   ],
   "source": [
    "background_df = preproces_tdcs(filename='converted9.txt')"
   ]
  },
  {
   "cell_type": "code",
   "execution_count": 8,
   "metadata": {},
   "outputs": [
    {
     "data": {
      "image/png": "[encoded data removed]",
      "text/plain": [
       "<Figure size 432x288 with 1 Axes>"
      ]
     },
     "metadata": {
      "needs_background": "light"
     },
     "output_type": "display_data"
    },
    {
     "data": {
      "text/plain": [
       "(array([-4.36764706, -4.10294118, -3.83823529, -3.57352941, -3.30882353,\n",
       "        -3.04411765, -2.77941176, -2.51470588, -2.25      , -1.98529412,\n",
       "        -1.72058824, -1.45588235, -1.19117647, -0.92647059, -0.66176471,\n",
       "        -0.39705882, -0.13235294,  0.13235294,  0.39705882,  0.66176471,\n",
       "         0.92647059,  1.19117647,  1.45588235,  1.72058824,  1.98529412,\n",
       "         2.25      ,  2.51470588,  2.77941176,  3.04411765,  3.30882353,\n",
       "         3.57352941,  3.83823529,  4.10294118,  4.36764706]),\n",
       " array([0.00331991, 0.00909901, 0.01512404, 0.0283422 , 0.05130491,\n",
       "        0.09981249, 0.15578986, 0.25145246, 0.35934954, 0.46463373,\n",
       "        0.5730534 , 0.72985767, 0.83895361, 0.95422827, 1.        ,\n",
       "        0.98370785, 0.88134395, 0.76056684, 0.55242692, 0.44757308,\n",
       "        0.36641972, 0.2933817 , 0.236851  , 0.19808798, 0.14373982,\n",
       "        0.10596047, 0.07408318, 0.05145861, 0.0328917 , 0.02231717,\n",
       "        0.01257262, 0.00891457, 0.0079309 , 0.00537948]))"
      ]
     },
     "execution_count": 8,
     "metadata": {},
     "output_type": "execute_result"
    }
   ],
   "source": [
    "line_hist(signal_df.delta_t,\n",
    "          bins=np.linspace(4786,4795,num=35),\n",
    "         )"
   ]
  },
  {
   "cell_type": "code",
   "execution_count": 11,
   "metadata": {
    "scrolled": true
   },
   "outputs": [
    {
     "data": {
      "image/png": "[encoded data removed]",
      "text/plain": [
       "<Figure size 432x288 with 1 Axes>"
      ]
     },
     "metadata": {
      "needs_background": "light"
     },
     "output_type": "display_data"
    }
   ],
   "source": [
    "x_data,y_data=line_hist(signal_df.delta_t,\n",
    "          bins=np.linspace(4786,4795,num=100),\n",
    "          background= background_df.delta_t,\n",
    "          bg_factor = 3.75,normalized=False\n",
    "         )"
   ]
  },
  {
   "cell_type": "code",
   "execution_count": 88,
   "metadata": {},
   "outputs": [],
   "source": [
    "from scipy.optimize import curve_fit"
   ]
  },
  {
   "cell_type": "code",
   "execution_count": 89,
   "metadata": {},
   "outputs": [],
   "source": [
    "def fit_f(x,m1,s1,a1,m2,s2,a2):\n",
    "    y = a1*np.exp(-(x-m1)**2/s1**2) + a2*np.exp(-(x-m2)**2/s2**2) \n",
    "    return y\n",
    "def plot_f(m1,s1,a1,m2,s2,a2):\n",
    "    x_tmp = np.linspace(-4,4,1000)\n",
    "    y_tmp = fit_f(x_tmp,m1,s1,a1,m2,s2,a2)\n",
    "    plt.plot(x_tmp,y_tmp)"
   ]
  },
  {
   "cell_type": "code",
   "execution_count": 90,
   "metadata": {},
   "outputs": [
    {
     "name": "stdout",
     "output_type": "stream",
     "text": [
      "Mean1:-2.109158\n",
      " Std1: 0.863836\n",
      " Amp1: 0.983040\n",
      " ---\n",
      " Mean2: 1.686232\n",
      " Std2: 0.877234\n",
      " Amp2: 0.354313 \n",
      "\n"
     ]
    }
   ],
   "source": [
    "fit_param, fit_cov =curve_fit(fit_f,x_data,y_data,p0=[-2, .5, 1, 2, .5, 0.4])\n",
    "print('Mean1:%f\\n Std1: %f\\n Amp1: %f\\n ---\\n Mean2: %f\\n Std2: %f\\n Amp2: %f' % tuple(fit_param),'\\n')"
   ]
  },
  {
   "cell_type": "code",
   "execution_count": 91,
   "metadata": {},
   "outputs": [
    {
     "data": {
      "text/plain": [
       "(-2.10915795249354,\n",
       " 0.8638364207479595,\n",
       " 0.9830396161941647,\n",
       " 1.6862322990765843,\n",
       " 0.8772340829615409,\n",
       " 0.3543127340305918)"
      ]
     },
     "execution_count": 91,
     "metadata": {},
     "output_type": "execute_result"
    }
   ],
   "source": [
    "tuple(fit_param)"
   ]
  },
  {
   "cell_type": "code",
   "execution_count": 92,
   "metadata": {
    "scrolled": true
   },
   "outputs": [
    {
     "data": {
      "image/png": "[encoded data removed]",
      "text/plain": [
       "<Figure size 432x288 with 1 Axes>"
      ]
     },
     "metadata": {
      "needs_background": "light"
     },
     "output_type": "display_data"
    }
   ],
   "source": [
    "plot_f(*fit_param)\n",
    "plt.plot(x_data,y_data,linestyle='None',marker='x')\n",
    "plt.show()"
   ]
  },
  {
   "cell_type": "code",
   "execution_count": 16,
   "metadata": {},
   "outputs": [
    {
     "data": {
      "text/plain": [
       "3.7953902515701246"
      ]
     },
     "execution_count": 16,
     "metadata": {},
     "output_type": "execute_result"
    }
   ],
   "source": [
    "fit_param[3]-fit_param[0]"
   ]
  },
  {
   "cell_type": "markdown",
   "metadata": {},
   "source": [
    "# TDC Stripped from Full Data"
   ]
  },
  {
   "cell_type": "code",
   "execution_count": 14,
   "metadata": {
    "collapsed": true
   },
   "outputs": [
    {
     "name": "stdout",
     "output_type": "stream",
     "text": [
      "tpx_df nulls\n",
      " tdc     0\n",
      "time    0\n",
      "dtype: int64\n",
      "      time1     time2       delta_t\n",
      "0  0.001501  0.002415  9.141677e+05\n",
      "1  0.002441  0.003465  1.023243e+06\n",
      "2  0.003382  0.003465  8.295313e+04\n",
      "3  0.004322  0.006212  1.890179e+06\n",
      "4  0.005262  0.006212  9.499245e+05\n",
      "5  0.006203  0.006212  9.658331e+03\n",
      "6  0.007143  0.007195  5.183099e+04\n",
      "7  0.008083  0.009969  1.885388e+06\n",
      "8  0.009023  0.009969  9.450977e+05\n",
      "9  0.009964  0.009969  4.808069e+03\n",
      "tpx_df nulls\n",
      " tdc     0\n",
      "time    0\n",
      "dtype: int64\n",
      "      time1     time2       delta_t\n",
      "0  0.000668  0.000673  4.792444e+03\n",
      "1  0.001608  0.002780  1.171555e+06\n",
      "2  0.002548  0.002780  2.313128e+05\n",
      "3  0.003489  0.003493  4.789062e+03\n",
      "4  0.004429  0.005678  1.249008e+06\n",
      "5  0.005369  0.005678  3.087419e+05\n",
      "6  0.006309  0.007920  1.610677e+06\n",
      "7  0.007250  0.007920  6.704000e+05\n",
      "8  0.008190  0.008195  4.788281e+03\n",
      "9  0.009130  0.010059  9.290875e+05\n"
     ]
    }
   ],
   "source": [
    "background2_df = preproces_tdcs('tdc11.txt')\n",
    "signal2_df = preproces_tdcs('tdc8.txt')"
   ]
  },
  {
   "cell_type": "code",
   "execution_count": 15,
   "metadata": {
    "scrolled": true
   },
   "outputs": [
    {
     "data": {
      "text/plain": [
       "1.9997398604335554"
      ]
     },
     "execution_count": 15,
     "metadata": {},
     "output_type": "execute_result"
    }
   ],
   "source": [
    "len(signal2_df)/len(background2_df)"
   ]
  },
  {
   "cell_type": "code",
   "execution_count": 96,
   "metadata": {
    "collapsed": true
   },
   "outputs": [
    {
     "data": {
      "image/png": "[encoded data removed]",
      "text/plain": [
       "<Figure size 432x288 with 1 Axes>"
      ]
     },
     "metadata": {
      "needs_background": "light"
     },
     "output_type": "display_data"
    },
    {
     "data": {
      "text/plain": [
       "(array([-4.36764706, -4.10294118, -3.83823529, -3.57352941, -3.30882353,\n",
       "        -3.04411765, -2.77941176, -2.51470588, -2.25      , -1.98529412,\n",
       "        -1.72058824, -1.45588235, -1.19117647, -0.92647059, -0.66176471,\n",
       "        -0.39705882, -0.13235294,  0.13235294,  0.39705882,  0.66176471,\n",
       "         0.92647059,  1.19117647,  1.45588235,  1.72058824,  1.98529412,\n",
       "         2.25      ,  2.51470588,  2.77941176,  3.04411765,  3.30882353,\n",
       "         3.57352941,  3.83823529,  4.10294118,  4.36764706]),\n",
       " array([4.52872913e-04, 8.49136711e-04, 2.43419190e-03, 5.37786584e-03,\n",
       "        1.12652137e-02, 2.70591565e-02, 4.99858477e-02, 9.10840645e-02,\n",
       "        1.44466459e-01, 2.36343051e-01, 3.89527314e-01, 6.21624682e-01,\n",
       "        7.87942259e-01, 9.41579394e-01, 1.00000000e+00, 9.37956411e-01,\n",
       "        8.29153694e-01, 7.07104444e-01, 5.13557883e-01, 3.93376734e-01,\n",
       "        2.84290971e-01, 1.90716105e-01, 1.24766487e-01, 7.95358053e-02,\n",
       "        4.60232097e-02, 2.88140391e-02, 1.73789980e-02, 9.96320408e-03,\n",
       "        5.88734786e-03, 2.94367393e-03, 2.60401925e-03, 1.47183697e-03,\n",
       "        2.32097368e-03, 2.26436456e-03]))"
      ]
     },
     "execution_count": 96,
     "metadata": {},
     "output_type": "execute_result"
    }
   ],
   "source": [
    "line_hist(background2_data.delta_t,bins=np.linspace(4786,4795,num=35))"
   ]
  },
  {
   "cell_type": "code",
   "execution_count": 23,
   "metadata": {},
   "outputs": [],
   "source": [
    "bg_gated = background2_df[(background2_df['delta_t'] < 4795) &( background2_df['delta_t'] > 4785)]"
   ]
  },
  {
   "cell_type": "code",
   "execution_count": 25,
   "metadata": {
    "scrolled": true
   },
   "outputs": [],
   "source": [
    "signal_gated = signal2_df[(signal2_df['delta_t'] < 4795) &(signal2_df['delta_t'] > 4785)]"
   ]
  },
  {
   "cell_type": "code",
   "execution_count": 60,
   "metadata": {},
   "outputs": [
    {
     "data": {
      "text/plain": [
       "2.352987845937423"
      ]
     },
     "execution_count": 60,
     "metadata": {},
     "output_type": "execute_result"
    }
   ],
   "source": [
    "len(signal_gated)/len(bg_gated)"
   ]
  },
  {
   "cell_type": "code",
   "execution_count": 1,
   "metadata": {},
   "outputs": [
    {
     "ename": "NameError",
     "evalue": "name 'sns' is not defined",
     "output_type": "error",
     "traceback": [
      "\u001b[0;31m---------------------------------------------------------------------------\u001b[0m",
      "\u001b[0;31mNameError\u001b[0m                                 Traceback (most recent call last)",
      "\u001b[0;32m<ipython-input-1-a07c9f02fa58>\u001b[0m in \u001b[0;36m<module>\u001b[0;34m\u001b[0m\n\u001b[0;32m----> 1\u001b[0;31m \u001b[0msns\u001b[0m\u001b[0;34m.\u001b[0m\u001b[0mdisplot\u001b[0m\u001b[0;34m(\u001b[0m\u001b[0mdata\u001b[0m\u001b[0;34m=\u001b[0m\u001b[0msignal\u001b[0m\u001b[0;34m[\u001b[0m\u001b[0msignal\u001b[0m\u001b[0;34m[\u001b[0m\u001b[0;34m'delta_t'\u001b[0m\u001b[0;34m]\u001b[0m\u001b[0;34m*\u001b[0m\u001b[0;36m1e9\u001b[0m\u001b[0;34m<\u001b[0m\u001b[0;36m4795\u001b[0m\u001b[0;34m]\u001b[0m\u001b[0;34m,\u001b[0m\u001b[0mx\u001b[0m\u001b[0;34m=\u001b[0m\u001b[0;34m'x'\u001b[0m\u001b[0;34m,\u001b[0m\u001b[0my\u001b[0m\u001b[0;34m=\u001b[0m\u001b[0;34m'y'\u001b[0m\u001b[0;34m,\u001b[0m\u001b[0mbins\u001b[0m\u001b[0;34m=\u001b[0m\u001b[0;36m100\u001b[0m\u001b[0;34m)\u001b[0m\u001b[0;34m\u001b[0m\u001b[0;34m\u001b[0m\u001b[0m\n\u001b[0m",
      "\u001b[0;31mNameError\u001b[0m: name 'sns' is not defined"
     ]
    }
   ],
   "source": [
    "sns.displot(data=signal[signal['delta_t']*1e9<4795],x='x',y='y',bins=100)"
   ]
  },
  {
   "cell_type": "code",
   "execution_count": 58,
   "metadata": {},
   "outputs": [
    {
     "data": {
      "image/png": "[encoded data removed]",
      "text/plain": [
       "<Figure size 432x288 with 1 Axes>"
      ]
     },
     "metadata": {
      "needs_background": "light"
     },
     "output_type": "display_data"
    }
   ],
   "source": [
    "_,_=line_hist(signal2_df.delta_t,\n",
    "          bins=np.linspace(4785,4795,num=40,endpoint=False),\n",
    "          background= background2_df.delta_t,\n",
    "          bg_factor = 1.8,normalized=False #,linestyle='None'\n",
    "         )"
   ]
  },
  {
   "cell_type": "code",
   "execution_count": 62,
   "metadata": {},
   "outputs": [
    {
     "data": {
      "image/png": "[encoded data removed]",
      "text/plain": [
       "<Figure size 432x288 with 1 Axes>"
      ]
     },
     "metadata": {
      "needs_background": "light"
     },
     "output_type": "display_data"
    }
   ],
   "source": [
    "_,_=line_hist(signal_gated.delta_t,\n",
    "          bins=np.linspace(4785,4795,num=40,endpoint=False),\n",
    "          background= bg_gated.delta_t,\n",
    "          bg_factor = 2,normalized=True,\n",
    "             # linestyle='None', \n",
    "              signal_factor=1\n",
    "         )"
   ]
  },
  {
   "cell_type": "code",
   "execution_count": 279,
   "metadata": {},
   "outputs": [
    {
     "name": "stdout",
     "output_type": "stream",
     "text": [
      "Mean1:-2.109158\n",
      " Std1: 0.863836\n",
      " Amp1: 0.983040\n",
      " ---\n",
      " Mean2: 1.686232\n",
      " Std2: 0.877234\n",
      " Amp2: 0.354313 \n",
      "\n",
      "[[ 3.23805544e-03  2.53278071e-06 -1.24783848e-06  3.89328598e-05\n",
      "  -1.73184115e-04  4.59066730e-05]\n",
      " [ 2.53278071e-06  6.47948234e-03 -6.07249075e-03  9.17571499e-05\n",
      "  -3.83167411e-04  1.00173713e-04]\n",
      " [-1.24783848e-06 -6.07249075e-03  1.70737790e-02 -5.01837227e-05\n",
      "   1.86455957e-04 -4.74255937e-05]\n",
      " [ 3.89328598e-05  9.17571499e-05 -5.01837227e-05  1.45544436e-02\n",
      "  -6.78489755e-06  1.77506172e-06]\n",
      " [-1.73184115e-04 -3.83167411e-04  1.86455957e-04 -6.78489755e-06\n",
      "   2.91452810e-02 -8.55820849e-03]\n",
      " [ 4.59066730e-05  1.00173713e-04 -4.74255937e-05  1.77506172e-06\n",
      "  -8.55820849e-03  7.53352369e-03]]\n"
     ]
    }
   ],
   "source": [
    "fit_param2, fit_cov2 =curve_fit(fit_f,x_data2,y_data2,p0=[-2, .5, 1, 2, .5, 0.4])\n",
    "print('Mean1:%f\\n Std1: %f\\n Amp1: %f\\n ---\\n Mean2: %f\\n Std2: %f\\n Amp2: %f' % tuple(fit_param),'\\n')\n",
    "print(fit_cov2)"
   ]
  },
  {
   "cell_type": "code",
   "execution_count": 234,
   "metadata": {},
   "outputs": [
    {
     "data": {
      "image/png": "[encoded data removed]",
      "text/plain": [
       "<Figure size 432x288 with 1 Axes>"
      ]
     },
     "metadata": {
      "needs_background": "light"
     },
     "output_type": "display_data"
    }
   ],
   "source": [
    "plot_f(*fit_param2)\n",
    "plt.plot(x_data2,y_data2,linestyle='None',marker='x')\n",
    "plt.show()"
   ]
  },
  {
   "cell_type": "code",
   "execution_count": 235,
   "metadata": {},
   "outputs": [
    {
     "data": {
      "text/plain": [
       "3.6866376240365626"
      ]
     },
     "execution_count": 235,
     "metadata": {},
     "output_type": "execute_result"
    }
   ],
   "source": [
    "fit_param2[3]-fit_param2[0]"
   ]
  },
  {
   "cell_type": "markdown",
   "metadata": {},
   "source": [
    "# Combined Data"
   ]
  },
  {
   "cell_type": "markdown",
   "metadata": {},
   "source": [
    "un stands for un-normalized"
   ]
  },
  {
   "cell_type": "code",
   "execution_count": 237,
   "metadata": {},
   "outputs": [
    {
     "data": {
      "image/png": "[encoded data removed]",
      "text/plain": [
       "<Figure size 432x288 with 1 Axes>"
      ]
     },
     "metadata": {
      "needs_background": "light"
     },
     "output_type": "display_data"
    },
    {
     "data": {
      "image/png": "[encoded data removed]",
      "text/plain": [
       "<Figure size 432x288 with 1 Axes>"
      ]
     },
     "metadata": {
      "needs_background": "light"
     },
     "output_type": "display_data"
    }
   ],
   "source": [
    "x_data2_un,y_data2_un=line_hist(signal2_df.delta_t,\n",
    "          bins=np.linspace(4786,4795,num=35),\n",
    "          background= background2_df.delta_t,\n",
    "          bg_factor = 2,normalized=False,linestyle='None'\n",
    "         )\n",
    "x_data_un,y_data_un=line_hist(signal_df.delta_t,\n",
    "          bins=np.linspace(4786,4795,num=35),\n",
    "          background= background_df.delta_t,\n",
    "          bg_factor = 4,normalized=False,linestyle='None'\n",
    "         )"
   ]
  },
  {
   "cell_type": "code",
   "execution_count": 246,
   "metadata": {},
   "outputs": [],
   "source": [
    "y_un=y_data2_un+y_data_un\n",
    "y_un = y_un / y_un.max()\n",
    "x_un = x_data_un-x_data_un.mean()"
   ]
  },
  {
   "cell_type": "code",
   "execution_count": 251,
   "metadata": {},
   "outputs": [
    {
     "name": "stdout",
     "output_type": "stream",
     "text": [
      "Mean1:-2.109158\n",
      " Std1: 0.863836\n",
      " Amp1: 0.983040\n",
      " ---\n",
      " Mean2: 1.686232\n",
      " Std2: 0.877234\n",
      " Amp2: 0.354313 \n",
      "\n",
      "[[ 6.69823879e-04  2.01561811e-07 -1.10187123e-07  5.19296286e-06\n",
      "  -2.34951620e-05  4.92558668e-06]\n",
      " [ 2.01561811e-07  1.34007119e-03 -9.99934248e-04  1.54875129e-05\n",
      "  -6.56076855e-05  1.35613737e-05]\n",
      " [-1.10187123e-07 -9.99934248e-04  2.23812101e-03 -8.82136260e-06\n",
      "   3.57051684e-05 -7.30582179e-06]\n",
      " [ 5.19296286e-06  1.54875129e-05 -8.82136260e-06  4.23965483e-03\n",
      "  -9.16239108e-07  1.89647417e-07]\n",
      " [-2.34951620e-05 -6.56076855e-05  3.57051684e-05 -9.16239108e-07\n",
      "   8.48325314e-03 -1.96556046e-03]\n",
      " [ 4.92558668e-06  1.35613737e-05 -7.30582179e-06  1.89647417e-07\n",
      "  -1.96556046e-03  1.36588078e-03]]\n"
     ]
    }
   ],
   "source": [
    "fit_param_un, fit_cov_un =curve_fit(fit_f,x_un,y_un\n",
    "                                     ,p0=[-2, .5, 1, 2, .5, 0.4])\n",
    "print('Mean1:%f\\n Std1: %f\\n Amp1: %f\\n ---\\n Mean2: %f\\n Std2: %f\\n Amp2: %f' % tuple(fit_param),'\\n')\n",
    "print(fit_cov_un)"
   ]
  },
  {
   "cell_type": "code",
   "execution_count": 248,
   "metadata": {},
   "outputs": [
    {
     "data": {
      "image/png": "[encoded data removed]",
      "text/plain": [
       "<Figure size 432x288 with 1 Axes>"
      ]
     },
     "metadata": {
      "needs_background": "light"
     },
     "output_type": "display_data"
    }
   ],
   "source": [
    "plot_f(*fit_param_un)\n",
    "plt.plot(x_un,y_un,linestyle='None',marker='x')\n",
    "plt.show()"
   ]
  },
  {
   "cell_type": "code",
   "execution_count": 249,
   "metadata": {},
   "outputs": [
    {
     "data": {
      "text/plain": [
       "3.764383397803491"
      ]
     },
     "execution_count": 249,
     "metadata": {},
     "output_type": "execute_result"
    }
   ],
   "source": [
    "fit_param_un[3]-fit_param_un[0]"
   ]
  },
  {
   "cell_type": "raw",
   "metadata": {},
   "source": [
    "np.sqrt(np.diag(fit_cov2))"
   ]
  },
  {
   "cell_type": "code",
   "execution_count": 3,
   "metadata": {},
   "outputs": [],
   "source": [
    "a=pd.read_csv('tdc8.txt')"
   ]
  },
  {
   "cell_type": "code",
   "execution_count": 4,
   "metadata": {},
   "outputs": [
    {
     "data": {
      "text/plain": [
       "2957354"
      ]
     },
     "execution_count": 4,
     "metadata": {},
     "output_type": "execute_result"
    }
   ],
   "source": [
    "len(a)"
   ]
  },
  {
   "cell_type": "code",
   "execution_count": null,
   "metadata": {},
   "outputs": [],
   "source": []
  }
 ],
 "metadata": {
  "kernelspec": {
   "display_name": "Python 3",
   "language": "python",
   "name": "python3"
  },
  "language_info": {
   "codemirror_mode": {
    "name": "ipython",
    "version": 3
   },
   "file_extension": ".py",
   "mimetype": "text/x-python",
   "name": "python",
   "nbconvert_exporter": "python",
   "pygments_lexer": "ipython3",
   "version": "3.8.5"
  }
 },
 "nbformat": 4,
 "nbformat_minor": 4
}
