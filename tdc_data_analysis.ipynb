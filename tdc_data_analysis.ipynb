{
 "cells": [
  {
   "cell_type": "code",
   "execution_count": 2,
   "metadata": {},
   "outputs": [],
   "source": [
    "import pandas as pd\n",
    "import matplotlib.pyplot as plt\n",
    "import numpy as np\n",
    "import seaborn as sns"
   ]
  },
  {
   "cell_type": "code",
   "execution_count": 275,
   "metadata": {},
   "outputs": [],
   "source": [
    "def preproces_tdcs(filename=None,debug=False,tdc_df=None):\n",
    "    ''' \n",
    "    Args:\n",
    "        filename : string\n",
    "            name of the file\n",
    "        debug : bool\n",
    "              if True returns all dataframes\n",
    "        tdc_df : pd.DataFrame Object\n",
    "            instead of reading from file one can give the df directly\n",
    "    Returns:\n",
    "        time_df : pd.DataFrame Object\n",
    "            \n",
    "    It takes the data file for TDC's ONLY, which is assumed to be in the form\n",
    "    TDCn: t0.\n",
    "    We first seperate TDC's apart and then merge them, which creates nulls.\n",
    "    The nulls for TDC2 are back filled i.e. if a cell N is null then it's filled \n",
    "    with the last cell <N which isn't null. TDC1 nulls aren't filled but rather dropped\n",
    "    because we are really interested in TDC2. Finally we calculate the time difference\n",
    "    between TD1 and TDC2. Finally we gate the difference by 5*10^4 ns = 50 us.\n",
    "    '''\n",
    "    if filename is not None:\n",
    "        tpx_df =pd.read_csv(filename,\n",
    "                    sep=':',\n",
    "                    error_bad_lines=False,\n",
    "                    warn_bad_lines=False,\n",
    "                    header=None)\n",
    "    elif tdc_df is not None:\n",
    "        tpx_df = tdc_df\n",
    "    else:\n",
    "        raise(Exception('Either a filename or a tdc data frame needs to be given!'))\n",
    "    tpx_df.columns = ['tdc','time']\n",
    "\n",
    "    print('tpx_df nulls\\n',tpx_df.isna().sum())\n",
    "    tdc_one = tpx_df[tpx_df.tdc == 'TDC1']\n",
    "    tdc_two = tpx_df[tpx_df.tdc == 'TDC2']\n",
    "    time_df = tdc_one[['time']].join(tdc_two.time,how='outer',lsuffix='1',rsuffix='2')\n",
    "    time_df['time2'] = time_df['time2'].fillna(method='bfill')\n",
    "    time_df.dropna(inplace=True)\n",
    "    time_df = time_df.astype(np.float64)\n",
    "    time_df['delta_t'] = (time_df.time2-time_df.time1)*1e9\n",
    "    time_df.reset_index(inplace=True)\n",
    "    time_df.drop('index',axis=1,inplace=True)\n",
    "    if debug:\n",
    "        return tpx_df, tdc_one, tdc_two, time_df\n",
    "    else:\n",
    "        print(time_df.head(10))\n",
    "        return time_df"
   ]
  },
  {
   "cell_type": "code",
   "execution_count": 156,
   "metadata": {},
   "outputs": [],
   "source": [
    "def line_hist(df,bins=10, background=None, bg_factor = 1, linestyle=None, normalized=True):  \n",
    "    '''\n",
    "    Plots a histogram of the given data or signal-background. \n",
    "    Args: \n",
    "        df : List-like object\n",
    "            Dataframe to be plotted\n",
    "        bins : Int or List-like\n",
    "            This input is the binning paramater. Either # bins or bin positions\n",
    "        background : Same type as df\n",
    "            background that will be subtracted\n",
    "        bg_factor : Float\n",
    "            If background is taken over a shorter period of time, this factor is used\n",
    "            to artificially increace # hits.\n",
    "        linestyle : String\n",
    "            Input for the linestyle of histograms\n",
    "        normalize : Bool\n",
    "            controls final normalization of x,y\n",
    "    Returns:\n",
    "        bin_centers : np.array\n",
    "            centers of bins\n",
    "        y_vals : np.array\n",
    "            normalized # hits\n",
    "    '''\n",
    "    if linestyle is None:\n",
    "        linestyle ='-'\n",
    "    x_vals=df\n",
    "    y_vals,bin_edges= np.histogram(x_vals,bins = bins)\n",
    "    bin_centers= 0.5*(bin_edges[1:]+bin_edges[:-1])\n",
    "    if normalized:\n",
    "        bin_centers = bin_centers-bin_centers.mean()\n",
    "    if background is not None:\n",
    "        x_vals2 = background\n",
    "        y_vals2,_ = np.histogram(x_vals2,bins = bins)\n",
    "        y_vals2 = y_vals2*bg_factor\n",
    "        if normalized:\n",
    "            y_out = (y_vals-y_vals2)/(y_vals-y_vals2).max()\n",
    "        else:\n",
    "            y_out = (y_vals-y_vals2)\n",
    "        plt.plot(bin_centers,y_out, linestyle=linestyle,marker='x')\n",
    "        plt.show()\n",
    "        return bin_centers,y_out\n",
    "    if normalized:\n",
    "        y_out = y_vals/y_vals.max()\n",
    "    else:\n",
    "        y_out = y_vals\n",
    "    plt.plot(bin_centers,y_out, linestyle=linestyle,marker='x')\n",
    "    plt.show()\n",
    "    return bin_centers, y_out"
   ]
  },
  {
   "cell_type": "code",
   "execution_count": 83,
   "metadata": {
    "scrolled": true
   },
   "outputs": [
    {
     "name": "stdout",
     "output_type": "stream",
     "text": [
      "tpx_df nulls\n",
      " tdc     0\n",
      "time    0\n",
      "dtype: int64\n",
      "       time1     time2       delta_t\n",
      "0   0.000705  0.000709   4801.306152\n",
      "3   0.003526  0.003530   4790.100098\n",
      "4   0.004466  0.004471   4789.587402\n",
      "7   0.007287  0.007314  27138.543701\n",
      "12  0.011988  0.011993   4790.887451\n",
      "15  0.014809  0.014814   4789.062500\n",
      "17  0.016690  0.016694   4789.324951\n",
      "22  0.021391  0.021413  21853.381348\n",
      "25  0.024212  0.024217   4792.187500\n",
      "28  0.027033  0.027038   4790.625000\n"
     ]
    }
   ],
   "source": [
    "signal_df = preproces_tdcs(filename='converted7.txt')"
   ]
  },
  {
   "cell_type": "code",
   "execution_count": 203,
   "metadata": {},
   "outputs": [
    {
     "name": "stdout",
     "output_type": "stream",
     "text": [
      "<class 'pandas.core.frame.DataFrame'>\n",
      "Int64Index: 420357 entries, 0 to 1276057\n",
      "Data columns (total 3 columns):\n",
      " #   Column   Non-Null Count   Dtype  \n",
      "---  ------   --------------   -----  \n",
      " 0   time1    420357 non-null  float64\n",
      " 1   time2    420357 non-null  float64\n",
      " 2   delta_t  420357 non-null  float64\n",
      "dtypes: float64(3)\n",
      "memory usage: 12.8 MB\n"
     ]
    }
   ],
   "source": [
    "signal_df.info()"
   ]
  },
  {
   "cell_type": "code",
   "execution_count": 84,
   "metadata": {
    "scrolled": true
   },
   "outputs": [
    {
     "data": {
      "image/png": "[encoded data removed]",
      "text/plain": [
       "<Figure size 432x288 with 1 Axes>"
      ]
     },
     "metadata": {
      "needs_background": "light"
     },
     "output_type": "display_data"
    },
    {
     "data": {
      "text/plain": [
       "(array([-9., -8., -7., -6., -5., -4., -3., -2., -1.,  0.,  1.,  2.,  3.,\n",
       "         4.,  5.,  6.,  7.,  8.,  9.]),\n",
       " array([0.00000000e+00, 8.72539439e-06, 1.74507888e-05, 1.74507888e-05,\n",
       "        1.30880916e-04, 1.04704733e-03, 1.58627670e-02, 8.71143376e-02,\n",
       "        4.67916725e-01, 1.00000000e+00, 9.02074899e-01, 3.81552771e-01,\n",
       "        1.48131021e-01, 3.02771185e-02, 9.87714645e-03, 5.87219042e-03,\n",
       "        6.73600447e-03, 6.50041882e-03, 5.67150635e-03]))"
      ]
     },
     "execution_count": 84,
     "metadata": {},
     "output_type": "execute_result"
    }
   ],
   "source": [
    "line_hist(signal_df.delta_t,bins=range(4780,4800))"
   ]
  },
  {
   "cell_type": "code",
   "execution_count": 85,
   "metadata": {},
   "outputs": [
    {
     "name": "stdout",
     "output_type": "stream",
     "text": [
      "tpx_df nulls\n",
      " tdc     0\n",
      "time    0\n",
      "dtype: int64\n",
      "       time1     time2       delta_t\n",
      "6   0.006612  0.006617   4788.018799\n",
      "8   0.008493  0.008497   4807.812500\n",
      "11  0.011313  0.011318   4790.625000\n",
      "12  0.012254  0.012259   4790.881348\n",
      "16  0.016015  0.016020   4790.106201\n",
      "17  0.016955  0.016960   4789.324951\n",
      "20  0.019776  0.019819  42802.343750\n",
      "26  0.025418  0.025448  30255.731201\n",
      "31  0.030120  0.030124   4805.206299\n",
      "33  0.032000  0.032005   4789.587402\n"
     ]
    }
   ],
   "source": [
    "background_df = preproces_tdcs(filename='converted9.txt')"
   ]
  },
  {
   "cell_type": "code",
   "execution_count": 86,
   "metadata": {},
   "outputs": [
    {
     "data": {
      "image/png": "[encoded data removed]",
      "text/plain": [
       "<Figure size 432x288 with 1 Axes>"
      ]
     },
     "metadata": {
      "needs_background": "light"
     },
     "output_type": "display_data"
    },
    {
     "data": {
      "text/plain": [
       "(array([-4.36764706, -4.10294118, -3.83823529, -3.57352941, -3.30882353,\n",
       "        -3.04411765, -2.77941176, -2.51470588, -2.25      , -1.98529412,\n",
       "        -1.72058824, -1.45588235, -1.19117647, -0.92647059, -0.66176471,\n",
       "        -0.39705882, -0.13235294,  0.13235294,  0.39705882,  0.66176471,\n",
       "         0.92647059,  1.19117647,  1.45588235,  1.72058824,  1.98529412,\n",
       "         2.25      ,  2.51470588,  2.77941176,  3.04411765,  3.30882353,\n",
       "         3.57352941,  3.83823529,  4.10294118,  4.36764706]),\n",
       " array([0.00331991, 0.00909901, 0.01512404, 0.0283422 , 0.05130491,\n",
       "        0.09981249, 0.15578986, 0.25145246, 0.35934954, 0.46463373,\n",
       "        0.5730534 , 0.72985767, 0.83895361, 0.95422827, 1.        ,\n",
       "        0.98370785, 0.88134395, 0.76056684, 0.55242692, 0.44757308,\n",
       "        0.36641972, 0.2933817 , 0.236851  , 0.19808798, 0.14373982,\n",
       "        0.10596047, 0.07408318, 0.05145861, 0.0328917 , 0.02231717,\n",
       "        0.01257262, 0.00891457, 0.0079309 , 0.00537948]))"
      ]
     },
     "execution_count": 86,
     "metadata": {},
     "output_type": "execute_result"
    }
   ],
   "source": [
    "line_hist(signal_df.delta_t,\n",
    "          bins=np.linspace(4786,4795,num=35),\n",
    "         )"
   ]
  },
  {
   "cell_type": "code",
   "execution_count": 230,
   "metadata": {
    "scrolled": true
   },
   "outputs": [
    {
     "data": {
      "image/png": "[encoded data removed]",
      "text/plain": [
       "<Figure size 432x288 with 1 Axes>"
      ]
     },
     "metadata": {
      "needs_background": "light"
     },
     "output_type": "display_data"
    }
   ],
   "source": [
    "x_data,y_data=line_hist(signal_df.delta_t,\n",
    "          bins=np.linspace(4786,4795,num=35),\n",
    "          background= background_df.delta_t,\n",
    "          bg_factor = 4,normalized=False\n",
    "         )"
   ]
  },
  {
   "cell_type": "code",
   "execution_count": 88,
   "metadata": {},
   "outputs": [],
   "source": [
    "from scipy.optimize import curve_fit"
   ]
  },
  {
   "cell_type": "code",
   "execution_count": 89,
   "metadata": {},
   "outputs": [],
   "source": [
    "def fit_f(x,m1,s1,a1,m2,s2,a2):\n",
    "    y = a1*np.exp(-(x-m1)**2/s1**2) + a2*np.exp(-(x-m2)**2/s2**2) \n",
    "    return y\n",
    "def plot_f(m1,s1,a1,m2,s2,a2):\n",
    "    x_tmp = np.linspace(-4,4,1000)\n",
    "    y_tmp = fit_f(x_tmp,m1,s1,a1,m2,s2,a2)\n",
    "    plt.plot(x_tmp,y_tmp)"
   ]
  },
  {
   "cell_type": "code",
   "execution_count": 90,
   "metadata": {},
   "outputs": [
    {
     "name": "stdout",
     "output_type": "stream",
     "text": [
      "Mean1:-2.109158\n",
      " Std1: 0.863836\n",
      " Amp1: 0.983040\n",
      " ---\n",
      " Mean2: 1.686232\n",
      " Std2: 0.877234\n",
      " Amp2: 0.354313 \n",
      "\n"
     ]
    }
   ],
   "source": [
    "fit_param, fit_cov =curve_fit(fit_f,x_data,y_data,p0=[-2, .5, 1, 2, .5, 0.4])\n",
    "print('Mean1:%f\\n Std1: %f\\n Amp1: %f\\n ---\\n Mean2: %f\\n Std2: %f\\n Amp2: %f' % tuple(fit_param),'\\n')"
   ]
  },
  {
   "cell_type": "code",
   "execution_count": 91,
   "metadata": {},
   "outputs": [
    {
     "data": {
      "text/plain": [
       "(-2.10915795249354,\n",
       " 0.8638364207479595,\n",
       " 0.9830396161941647,\n",
       " 1.6862322990765843,\n",
       " 0.8772340829615409,\n",
       " 0.3543127340305918)"
      ]
     },
     "execution_count": 91,
     "metadata": {},
     "output_type": "execute_result"
    }
   ],
   "source": [
    "tuple(fit_param)"
   ]
  },
  {
   "cell_type": "code",
   "execution_count": 92,
   "metadata": {
    "scrolled": true
   },
   "outputs": [
    {
     "data": {
      "image/png": "[encoded data removed]",
      "text/plain": [
       "<Figure size 432x288 with 1 Axes>"
      ]
     },
     "metadata": {
      "needs_background": "light"
     },
     "output_type": "display_data"
    }
   ],
   "source": [
    "plot_f(*fit_param)\n",
    "plt.plot(x_data,y_data,linestyle='None',marker='x')\n",
    "plt.show()"
   ]
  },
  {
   "cell_type": "code",
   "execution_count": 16,
   "metadata": {},
   "outputs": [
    {
     "data": {
      "text/plain": [
       "3.7953902515701246"
      ]
     },
     "execution_count": 16,
     "metadata": {},
     "output_type": "execute_result"
    }
   ],
   "source": [
    "fit_param[3]-fit_param[0]"
   ]
  },
  {
   "cell_type": "markdown",
   "metadata": {},
   "source": [
    "# TDC Stripped from Full Data"
   ]
  },
  {
   "cell_type": "code",
   "execution_count": 153,
   "metadata": {
    "scrolled": true
   },
   "outputs": [
    {
     "name": "stdout",
     "output_type": "stream",
     "text": [
      "tpx_df nulls\n",
      " tdc     0\n",
      "time    0\n",
      "dtype: int64\n",
      "       time1     time2      delta_t\n",
      "5   0.006203  0.006212  9658.331299\n",
      "9   0.009964  0.009969  4808.068848\n",
      "12  0.012785  0.012789  4788.800049\n",
      "15  0.015605  0.015610  4789.062500\n",
      "19  0.019367  0.019371  4789.587402\n",
      "23  0.023128  0.023132  4789.062500\n",
      "30  0.029710  0.029714  4789.318848\n",
      "43  0.041933  0.041938  4789.587402\n",
      "50  0.048515  0.048520  4789.843750\n",
      "51  0.049455  0.049460  4790.362549\n"
     ]
    }
   ],
   "source": [
    "background2_df = preproces_tdcs('tdc11.txt')"
   ]
  },
  {
   "cell_type": "code",
   "execution_count": null,
   "metadata": {},
   "outputs": [],
   "source": []
  },
  {
   "cell_type": "code",
   "execution_count": 96,
   "metadata": {
    "scrolled": true
   },
   "outputs": [
    {
     "data": {
      "image/png": "[encoded data removed]",
      "text/plain": [
       "<Figure size 432x288 with 1 Axes>"
      ]
     },
     "metadata": {
      "needs_background": "light"
     },
     "output_type": "display_data"
    },
    {
     "data": {
      "text/plain": [
       "(array([-4.36764706, -4.10294118, -3.83823529, -3.57352941, -3.30882353,\n",
       "        -3.04411765, -2.77941176, -2.51470588, -2.25      , -1.98529412,\n",
       "        -1.72058824, -1.45588235, -1.19117647, -0.92647059, -0.66176471,\n",
       "        -0.39705882, -0.13235294,  0.13235294,  0.39705882,  0.66176471,\n",
       "         0.92647059,  1.19117647,  1.45588235,  1.72058824,  1.98529412,\n",
       "         2.25      ,  2.51470588,  2.77941176,  3.04411765,  3.30882353,\n",
       "         3.57352941,  3.83823529,  4.10294118,  4.36764706]),\n",
       " array([4.52872913e-04, 8.49136711e-04, 2.43419190e-03, 5.37786584e-03,\n",
       "        1.12652137e-02, 2.70591565e-02, 4.99858477e-02, 9.10840645e-02,\n",
       "        1.44466459e-01, 2.36343051e-01, 3.89527314e-01, 6.21624682e-01,\n",
       "        7.87942259e-01, 9.41579394e-01, 1.00000000e+00, 9.37956411e-01,\n",
       "        8.29153694e-01, 7.07104444e-01, 5.13557883e-01, 3.93376734e-01,\n",
       "        2.84290971e-01, 1.90716105e-01, 1.24766487e-01, 7.95358053e-02,\n",
       "        4.60232097e-02, 2.88140391e-02, 1.73789980e-02, 9.96320408e-03,\n",
       "        5.88734786e-03, 2.94367393e-03, 2.60401925e-03, 1.47183697e-03,\n",
       "        2.32097368e-03, 2.26436456e-03]))"
      ]
     },
     "execution_count": 96,
     "metadata": {},
     "output_type": "execute_result"
    }
   ],
   "source": [
    "line_hist(background2_data.delta_t,bins=np.linspace(4786,4795,num=35))"
   ]
  },
  {
   "cell_type": "code",
   "execution_count": 1,
   "metadata": {},
   "outputs": [
    {
     "ename": "NameError",
     "evalue": "name 'sns' is not defined",
     "output_type": "error",
     "traceback": [
      "\u001b[0;31m---------------------------------------------------------------------------\u001b[0m",
      "\u001b[0;31mNameError\u001b[0m                                 Traceback (most recent call last)",
      "\u001b[0;32m<ipython-input-1-a07c9f02fa58>\u001b[0m in \u001b[0;36m<module>\u001b[0;34m\u001b[0m\n\u001b[0;32m----> 1\u001b[0;31m \u001b[0msns\u001b[0m\u001b[0;34m.\u001b[0m\u001b[0mdisplot\u001b[0m\u001b[0;34m(\u001b[0m\u001b[0mdata\u001b[0m\u001b[0;34m=\u001b[0m\u001b[0msignal\u001b[0m\u001b[0;34m[\u001b[0m\u001b[0msignal\u001b[0m\u001b[0;34m[\u001b[0m\u001b[0;34m'delta_t'\u001b[0m\u001b[0;34m]\u001b[0m\u001b[0;34m*\u001b[0m\u001b[0;36m1e9\u001b[0m\u001b[0;34m<\u001b[0m\u001b[0;36m4795\u001b[0m\u001b[0;34m]\u001b[0m\u001b[0;34m,\u001b[0m\u001b[0mx\u001b[0m\u001b[0;34m=\u001b[0m\u001b[0;34m'x'\u001b[0m\u001b[0;34m,\u001b[0m\u001b[0my\u001b[0m\u001b[0;34m=\u001b[0m\u001b[0;34m'y'\u001b[0m\u001b[0;34m,\u001b[0m\u001b[0mbins\u001b[0m\u001b[0;34m=\u001b[0m\u001b[0;36m100\u001b[0m\u001b[0;34m)\u001b[0m\u001b[0;34m\u001b[0m\u001b[0;34m\u001b[0m\u001b[0m\n\u001b[0m",
      "\u001b[0;31mNameError\u001b[0m: name 'sns' is not defined"
     ]
    }
   ],
   "source": [
    "sns.displot(data=signal[signal['delta_t']*1e9<4795],x='x',y='y',bins=100)"
   ]
  },
  {
   "cell_type": "code",
   "execution_count": 278,
   "metadata": {},
   "outputs": [
    {
     "data": {
      "image/png": "[encoded data removed]",
      "text/plain": [
       "<Figure size 432x288 with 1 Axes>"
      ]
     },
     "metadata": {
      "needs_background": "light"
     },
     "output_type": "display_data"
    }
   ],
   "source": [
    "x_data2,y_data2=line_hist(signal2_df.delta_t,\n",
    "          bins=np.linspace(4786,4795,num=35),\n",
    "          background= background2_df.delta_t,\n",
    "          bg_factor = 2,normalized=True,linestyle='None'\n",
    "         )"
   ]
  },
  {
   "cell_type": "code",
   "execution_count": 279,
   "metadata": {},
   "outputs": [
    {
     "name": "stdout",
     "output_type": "stream",
     "text": [
      "Mean1:-2.109158\n",
      " Std1: 0.863836\n",
      " Amp1: 0.983040\n",
      " ---\n",
      " Mean2: 1.686232\n",
      " Std2: 0.877234\n",
      " Amp2: 0.354313 \n",
      "\n",
      "[[ 3.23805544e-03  2.53278071e-06 -1.24783848e-06  3.89328598e-05\n",
      "  -1.73184115e-04  4.59066730e-05]\n",
      " [ 2.53278071e-06  6.47948234e-03 -6.07249075e-03  9.17571499e-05\n",
      "  -3.83167411e-04  1.00173713e-04]\n",
      " [-1.24783848e-06 -6.07249075e-03  1.70737790e-02 -5.01837227e-05\n",
      "   1.86455957e-04 -4.74255937e-05]\n",
      " [ 3.89328598e-05  9.17571499e-05 -5.01837227e-05  1.45544436e-02\n",
      "  -6.78489755e-06  1.77506172e-06]\n",
      " [-1.73184115e-04 -3.83167411e-04  1.86455957e-04 -6.78489755e-06\n",
      "   2.91452810e-02 -8.55820849e-03]\n",
      " [ 4.59066730e-05  1.00173713e-04 -4.74255937e-05  1.77506172e-06\n",
      "  -8.55820849e-03  7.53352369e-03]]\n"
     ]
    }
   ],
   "source": [
    "fit_param2, fit_cov2 =curve_fit(fit_f,x_data2,y_data2,p0=[-2, .5, 1, 2, .5, 0.4])\n",
    "print('Mean1:%f\\n Std1: %f\\n Amp1: %f\\n ---\\n Mean2: %f\\n Std2: %f\\n Amp2: %f' % tuple(fit_param),'\\n')\n",
    "print(fit_cov2)"
   ]
  },
  {
   "cell_type": "code",
   "execution_count": 234,
   "metadata": {},
   "outputs": [
    {
     "data": {
      "image/png": "[encoded data removed]",
      "text/plain": [
       "<Figure size 432x288 with 1 Axes>"
      ]
     },
     "metadata": {
      "needs_background": "light"
     },
     "output_type": "display_data"
    }
   ],
   "source": [
    "plot_f(*fit_param2)\n",
    "plt.plot(x_data2,y_data2,linestyle='None',marker='x')\n",
    "plt.show()"
   ]
  },
  {
   "cell_type": "code",
   "execution_count": 235,
   "metadata": {},
   "outputs": [
    {
     "data": {
      "text/plain": [
       "3.6866376240365626"
      ]
     },
     "execution_count": 235,
     "metadata": {},
     "output_type": "execute_result"
    }
   ],
   "source": [
    "fit_param2[3]-fit_param2[0]"
   ]
  },
  {
   "cell_type": "markdown",
   "metadata": {},
   "source": [
    "# Combined Data"
   ]
  },
  {
   "cell_type": "markdown",
   "metadata": {},
   "source": [
    "un stands for un-normalized"
   ]
  },
  {
   "cell_type": "code",
   "execution_count": 237,
   "metadata": {},
   "outputs": [
    {
     "data": {
      "image/png": "[encoded data removed]",
      "text/plain": [
       "<Figure size 432x288 with 1 Axes>"
      ]
     },
     "metadata": {
      "needs_background": "light"
     },
     "output_type": "display_data"
    },
    {
     "data": {
      "image/png": "[encoded data removed]",
      "text/plain": [
       "<Figure size 432x288 with 1 Axes>"
      ]
     },
     "metadata": {
      "needs_background": "light"
     },
     "output_type": "display_data"
    }
   ],
   "source": [
    "x_data2_un,y_data2_un=line_hist(signal2_df.delta_t,\n",
    "          bins=np.linspace(4786,4795,num=35),\n",
    "          background= background2_df.delta_t,\n",
    "          bg_factor = 2,normalized=False,linestyle='None'\n",
    "         )\n",
    "x_data_un,y_data_un=line_hist(signal_df.delta_t,\n",
    "          bins=np.linspace(4786,4795,num=35),\n",
    "          background= background_df.delta_t,\n",
    "          bg_factor = 4,normalized=False,linestyle='None'\n",
    "         )"
   ]
  },
  {
   "cell_type": "code",
   "execution_count": 246,
   "metadata": {},
   "outputs": [],
   "source": [
    "y_un=y_data2_un+y_data_un\n",
    "y_un = y_un / y_un.max()\n",
    "x_un = x_data_un-x_data_un.mean()"
   ]
  },
  {
   "cell_type": "code",
   "execution_count": 251,
   "metadata": {},
   "outputs": [
    {
     "name": "stdout",
     "output_type": "stream",
     "text": [
      "Mean1:-2.109158\n",
      " Std1: 0.863836\n",
      " Amp1: 0.983040\n",
      " ---\n",
      " Mean2: 1.686232\n",
      " Std2: 0.877234\n",
      " Amp2: 0.354313 \n",
      "\n",
      "[[ 6.69823879e-04  2.01561811e-07 -1.10187123e-07  5.19296286e-06\n",
      "  -2.34951620e-05  4.92558668e-06]\n",
      " [ 2.01561811e-07  1.34007119e-03 -9.99934248e-04  1.54875129e-05\n",
      "  -6.56076855e-05  1.35613737e-05]\n",
      " [-1.10187123e-07 -9.99934248e-04  2.23812101e-03 -8.82136260e-06\n",
      "   3.57051684e-05 -7.30582179e-06]\n",
      " [ 5.19296286e-06  1.54875129e-05 -8.82136260e-06  4.23965483e-03\n",
      "  -9.16239108e-07  1.89647417e-07]\n",
      " [-2.34951620e-05 -6.56076855e-05  3.57051684e-05 -9.16239108e-07\n",
      "   8.48325314e-03 -1.96556046e-03]\n",
      " [ 4.92558668e-06  1.35613737e-05 -7.30582179e-06  1.89647417e-07\n",
      "  -1.96556046e-03  1.36588078e-03]]\n"
     ]
    }
   ],
   "source": [
    "fit_param_un, fit_cov_un =curve_fit(fit_f,x_un,y_un\n",
    "                                     ,p0=[-2, .5, 1, 2, .5, 0.4])\n",
    "print('Mean1:%f\\n Std1: %f\\n Amp1: %f\\n ---\\n Mean2: %f\\n Std2: %f\\n Amp2: %f' % tuple(fit_param),'\\n')\n",
    "print(fit_cov_un)"
   ]
  },
  {
   "cell_type": "code",
   "execution_count": 248,
   "metadata": {},
   "outputs": [
    {
     "data": {
      "image/png": "[encoded data removed]",
      "text/plain": [
       "<Figure size 432x288 with 1 Axes>"
      ]
     },
     "metadata": {
      "needs_background": "light"
     },
     "output_type": "display_data"
    }
   ],
   "source": [
    "plot_f(*fit_param_un)\n",
    "plt.plot(x_un,y_un,linestyle='None',marker='x')\n",
    "plt.show()"
   ]
  },
  {
   "cell_type": "code",
   "execution_count": 249,
   "metadata": {},
   "outputs": [
    {
     "data": {
      "text/plain": [
       "3.764383397803491"
      ]
     },
     "execution_count": 249,
     "metadata": {},
     "output_type": "execute_result"
    }
   ],
   "source": [
    "fit_param_un[3]-fit_param_un[0]"
   ]
  },
  {
   "cell_type": "raw",
   "metadata": {},
   "source": [
    "np.sqrt(np.diag(fit_cov2))"
   ]
  },
  {
   "cell_type": "code",
   "execution_count": 3,
   "metadata": {},
   "outputs": [],
   "source": [
    "a=pd.read_csv('tdc8.txt')"
   ]
  },
  {
   "cell_type": "code",
   "execution_count": 4,
   "metadata": {},
   "outputs": [
    {
     "data": {
      "text/plain": [
       "2957354"
      ]
     },
     "execution_count": 4,
     "metadata": {},
     "output_type": "execute_result"
    }
   ],
   "source": [
    "len(a)"
   ]
  },
  {
   "cell_type": "code",
   "execution_count": null,
   "metadata": {},
   "outputs": [],
   "source": []
  }
 ],
 "metadata": {
  "kernelspec": {
   "display_name": "Python 3",
   "language": "python",
   "name": "python3"
  },
  "language_info": {
   "codemirror_mode": {
    "name": "ipython",
    "version": 3
   },
   "file_extension": ".py",
   "mimetype": "text/x-python",
   "name": "python",
   "nbconvert_exporter": "python",
   "pygments_lexer": "ipython3",
   "version": "3.8.5"
  }
 },
 "nbformat": 4,
 "nbformat_minor": 4
}
