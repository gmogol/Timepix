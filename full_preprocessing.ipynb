{
 "cells": [
  {
   "cell_type": "code",
   "execution_count": 2,
   "metadata": {},
   "outputs": [],
   "source": [
    "import pandas as pd\n",
    "import matplotlib.pyplot as plt\n",
    "import numpy as np\n",
    "from ipynb.fs.defs.tdc_data_analysis import line_hist"
   ]
  },
  {
   "cell_type": "markdown",
   "metadata": {},
   "source": [
    "**TODO**: Update wherever possible from pandas frames to numpy"
   ]
  },
  {
   "cell_type": "code",
   "execution_count": 3,
   "metadata": {},
   "outputs": [],
   "source": [
    "def tdc_stripper(read_filename, write_filename,total_lines = -1):\n",
    "    line_counter = 0\n",
    "    with open(read_filename,'r') as rfile:\n",
    "        with open(write_filename,'w') as wfile:\n",
    "            for line in rfile:\n",
    "                line_counter+=1\n",
    "                if line_counter == total_lines:\n",
    "                    break\n",
    "                if line[:3] == 'TDC':\n",
    "                    wfile.write(line)\n",
    "                "
   ]
  },
  {
   "cell_type": "code",
   "execution_count": 13,
   "metadata": {},
   "outputs": [],
   "source": [
    "tdc_stripper('data_2021_06_10/converted_xe_2tdc_45deg_11.txt','45deg_11_tdc.txt')"
   ]
  },
  {
   "cell_type": "code",
   "execution_count": 15,
   "metadata": {},
   "outputs": [
    {
     "name": "stdout",
     "output_type": "stream",
     "text": [
      "tpx_df nulls\n",
      " tdc     0\n",
      "time    0\n",
      "dtype: int64\n"
     ]
    }
   ],
   "source": [
    "_,tmp,tmp2,_= preproces_tdcs('xe_vert_4.txt')"
   ]
  },
  {
   "cell_type": "code",
   "execution_count": 16,
   "metadata": {},
   "outputs": [
    {
     "name": "stdout",
     "output_type": "stream",
     "text": [
      "319169 294045\n"
     ]
    }
   ],
   "source": [
    "print(len(tmp),len(tmp2))"
   ]
  },
  {
   "cell_type": "code",
   "execution_count": 7,
   "metadata": {},
   "outputs": [],
   "source": [
    "def preproces_tdcs(filename=None,debug=True,tdc_df=None):\n",
    "    ''' \n",
    "    Args:\n",
    "        filename : string\n",
    "            name of the file\n",
    "        debug : bool\n",
    "              if True returns all dataframes\n",
    "        tdc_df : pd.DataFrame Object\n",
    "            instead of reading from file one can give the df directly\n",
    "    Returns:\n",
    "        time_df : pd.DataFrame Object\n",
    "            \n",
    "    It takes the data file for TDC's ONLY, which is assumed to be in the form\n",
    "    TDCn: t0.\n",
    "    We first seperate TDC's apart and then merge them, which creates nulls.\n",
    "    The nulls for TDC2 are back filled i.e. if a cell N is null then it's filled \n",
    "    with the last cell <N which isn't null. TDC1 nulls aren't filled but rather dropped\n",
    "    because we are really interested in TDC2. Finally we calculate the time difference\n",
    "    between TD1 and TDC2. Finally we gate the difference by 5*10^4 ns = 50 us.\n",
    "    '''\n",
    "    if filename is not None:\n",
    "        tpx_df =pd.read_csv(filename,\n",
    "                    sep=':',\n",
    "                    error_bad_lines=False,\n",
    "                    warn_bad_lines=False,\n",
    "                    header=None)\n",
    "    elif tdc_df is not None:\n",
    "        tpx_df = tdc_df\n",
    "    else:\n",
    "        raise(Exception('Either a filename or a tdc data frame needs to be given!'))\n",
    "    tpx_df.columns = ['tdc','time']\n",
    "\n",
    "    print('tpx_df nulls\\n',tpx_df.isna().sum())\n",
    "    tdc_one = tpx_df[tpx_df.tdc == 'TDC1']\n",
    "    tdc_two = tpx_df[tpx_df.tdc == 'TDC2']\n",
    "    time_df = tdc_one[['time']].join(tdc_two.time,how='outer',lsuffix='1',rsuffix='2')\n",
    "    time_df['time2'] = time_df['time2'].fillna(method='bfill')\n",
    "    time_df['time1'] = time_df['time1'].fillna(method='bfill')\n",
    "\n",
    "    #time_df.dropna(inplace=True)\n",
    "    time_df = time_df.astype(np.float64)\n",
    "    time_df['delta_t'] = (time_df.time2-time_df.time1)*1e9\n",
    "    time_df.reset_index(inplace=True)\n",
    "    time_df.drop('index',axis=1,inplace=True)\n",
    "    #time_df = time_df[np.abs(time_df.delta_t)< 5e3]\n",
    "    if debug:\n",
    "        return tpx_df, tdc_one, tdc_two, time_df\n",
    "    else:\n",
    "        print(time_df.head(10))\n",
    "        return time_df"
   ]
  },
  {
   "cell_type": "code",
   "execution_count": 8,
   "metadata": {},
   "outputs": [],
   "source": []
  },
  {
   "cell_type": "code",
   "execution_count": 9,
   "metadata": {},
   "outputs": [],
   "source": []
  },
  {
   "cell_type": "code",
   "execution_count": 14,
   "metadata": {},
   "outputs": [
    {
     "name": "stdout",
     "output_type": "stream",
     "text": [
      "tpx_df nulls\n",
      " tdc     0\n",
      "time    0\n",
      "dtype: int64\n",
      "\n",
      "Batch numer 2_000 is written\n",
      "110_936 lines read\n",
      "-----\n",
      "\n",
      "Batch numer 4_000 is written\n",
      "220_998 lines read\n",
      "-----\n",
      "### TOA Overflow NO 1\n",
      "toa_prev 26.8413062765625 toa 26.866684656249998 tdc1 26.841301921875 tdc2 26.8328472122375\n",
      "\n",
      "Batch numer 6_000 is written\n",
      "326_743 lines read\n",
      "-----\n",
      "\n",
      "Batch numer 8_000 is written\n",
      "435_508 lines read\n",
      "-----\n",
      "### TOA Overflow NO 2\n",
      "toa_prev 53.686897059375 toa 53.692044809375 tdc1 53.6868927304687 tdc2 53.6868974645813\n",
      "\n",
      "Batch numer 10_000 is written\n",
      "542_114 lines read\n",
      "-----\n",
      "NBATCHES reached\n",
      "\n",
      " #########______######### \n",
      "\n"
     ]
    }
   ],
   "source": [
    "_,tdc_one, tdc_two,_= preproces_tdcs('45deg_11_tdc.txt',debug=True)\n",
    "tdc_one = np.array(tdc_one['time'])\n",
    "tdc_two = np.array(tdc_two['time'])\n",
    "\n",
    "\n",
    "NTOTBATCHES = 10_000    # Max number of batches to process -1=inf\n",
    "NBATCH = 2_000    # Number of batches to collect before writing it to the file\n",
    "BEGINLINE= 0   # starting line, used mainly for debugging\n",
    "line_counter = 0\n",
    "NLINES = -1  # Max number of lines to be read -1=inf\n",
    "batch = 0\n",
    "\n",
    "tdc_updated = False\n",
    "\n",
    "t1_eps = 9e-4 #tdc1 tolerance [s]\n",
    "t2_eps = 3e-6 #tdc2 tolerance [s]\n",
    "\n",
    "x_threshold = 15  # max batch size in x direction for rejecting many electrons\n",
    "y_threshold = 15 # max batch size in y direction for rejecting many electrons\n",
    "xmax = 0\n",
    "xmin = 1000 # detector has only 256x256 pixels\n",
    "ymax = 0\n",
    "ymin = 1000 # detector has only 256x256 pixels\n",
    "\n",
    "batch_lines = ''\n",
    "df_str = ''\n",
    "\n",
    "many_electron_reject = 0\n",
    "tdc1_reject = 0\n",
    "tdc2_reject= 0\n",
    "\n",
    "# We gate tdc2-tdc1 differnce (which corresponds to cable length)\n",
    "# and reject if this difference is too much or too little\n",
    "# physical_max/min_t's were determined by an preliminary analysis of the data\n",
    "# and they are given in ns.\n",
    "\n",
    "unphysical_reject = 0\n",
    "\n",
    "physical_max_t = 4795   # max allowed tdc2-tdc1 difference [ns]\n",
    "physical_min_t = 4785   # min allowed tdc2-tdc1 difference [ns]\n",
    "\n",
    "toa_overflow_counter = 0\n",
    "tdc1_overflow_counter = 0\n",
    "tdc2_overflow_counter = 0\n",
    "\n",
    "toa_overflow_threshold = (25*2**30/1e9)   # when pixel's toa overflows \n",
    "tdc_overflow_threshold = (25*2**32/1e9)  # when tdcs overflow\n",
    "\n",
    "tdc1_overflow = False\n",
    "tdc2_overflow = False\n",
    "toa_overflow = False\n",
    "\n",
    "overflow_threshold = 10     # sets after which we start checking overflow\n",
    "                            # i.e. difference bw subsequent values need to\n",
    "                            # be at least this threshold\n",
    "\n",
    "toa = 0\n",
    "\n",
    "\n",
    "\n",
    "tdc1_iter = tdc_one.flat   # flat produces an iterator from np.array\n",
    "tdc1 = next(tdc1_iter)\n",
    "tdc1_next = next(tdc1_iter)\n",
    "tdc1_batch = 0 # chosen tdc1 for the batch\n",
    "\n",
    "\n",
    "tdc2_iter = tdc_two.flat   # flat produces an iterator from np.array\n",
    "tdc2 = next(tdc2_iter)\n",
    "tdc2_next = next(tdc2_iter)\n",
    "tdc2_batch = 0 # chosen tdc2 for the batch\n",
    "\n",
    "\n",
    "header = 'batch,x,y,delta_t\\n'\n",
    "\n",
    "\n",
    "\n",
    "with open('preprocessed110.csv','w') as wfile:\n",
    "    wfile.write('')\n",
    "\n",
    "import re\n",
    "re_search = re.compile('\\w+:')\n",
    "with open('data_2021_06_10/converted_xe_2tdc_45deg_11.txt','r') as rfile:\n",
    "    with open('preprocessed110.csv','a') as afile:\n",
    "        afile.write(header)\n",
    "        \n",
    "        def overflow_corr(num,num_counter,num_threshold): #corrects for overflow\n",
    "            return num + num_counter*num_threshold\n",
    "        \n",
    "        for line in rfile:\n",
    "            line_counter+=1\n",
    "            if line_counter < BEGINLINE:\n",
    "    #            toa_overflow_counter =3 #for 12_000_000\n",
    "                continue\n",
    "                \n",
    "            if line_counter %1_000_000 == 0:\n",
    "                print(f'{line_counter:_} lines read')\n",
    "\n",
    "            \n",
    "            if batch % NBATCH == 0 and batch>0 and df_str != '':\n",
    "                df_str='toa,tot,x,y,tdc1,tdc2,batch\\n'+df_str\n",
    "                to_write = final_processing(df_str)\n",
    "                afile.write(to_write)\n",
    "                to_write = ''\n",
    "                #break\n",
    "                df_str = ''\n",
    "                print(f'\\nBatch numer {batch:_} is written')\n",
    "                print(f'{line_counter:_} lines read')\n",
    "                print('-----')\n",
    "\n",
    "\n",
    "                \n",
    "            if batch == NTOTBATCHES:\n",
    "                print('NBATCHES reached')\n",
    "                break\n",
    "            if line_counter == NLINES:\n",
    "                print('NLINES reached')\n",
    "                break\n",
    "\n",
    "                    \n",
    "############################################ TOA #######################################\n",
    "                \n",
    "                \n",
    "            str_list = line.split('TOA:')\n",
    "            try:\n",
    "                toa_prev = toa\n",
    "                toa = np.float64(str_list[1].split(',')[0])\n",
    "                toa = overflow_corr(toa,toa_overflow_counter,toa_overflow_threshold)\n",
    "                    \n",
    "                if toa_prev > toa + overflow_threshold:\n",
    "                    \n",
    "                    toa_overflow_counter += 1\n",
    "                    #print('toa_prev %s toa %s toa_prev-toa %s' % (toa_prev,toa,toa_prev-toa))\n",
    "                    toa += toa_overflow_threshold\n",
    "                    print('### TOA Overflow NO %s' %toa_overflow_counter )\n",
    "                    print('toa_prev %s toa %s tdc1 %s tdc2 %s'  % (toa_prev,toa,tdc1,tdc2))\n",
    "                    \n",
    "\n",
    "                \n",
    "            except IndexError: # This only happens for tdc lines\n",
    "                continue\n",
    "\n",
    "                \n",
    "############################################ TDC2  #######################################\n",
    "\n",
    "                \n",
    "            # tdc2 iterator is only updated when the difference of toa with the current tdc2\n",
    "            # is greater than the difference of toa with the next tdc2\n",
    "            while abs(toa-tdc2) >= abs(toa-tdc2_next):\n",
    "                tdc2 = tdc2_next\n",
    "                tdc2_next = next(tdc2_iter)\n",
    "\n",
    "                \n",
    "                # Handle overflow\n",
    "                tdc2_next = overflow_corr(tdc2_next,tdc2_overflow_counter,tdc_overflow_threshold)\n",
    "                \n",
    "                if tdc2 > tdc2_next+overflow_threshold:\n",
    "                   # print('tdc2 %s tdc2_next %s tdc1 %s toa %s' % (tdc2,tdc2_next ,tdc1,toa))\n",
    "\n",
    "                    tdc2_overflow_counter += 1\n",
    "                    tdc2_next += tdc_overflow_threshold\n",
    "                    print('### TDC2 Overflow NO %s' %tdc2_overflow_counter )\n",
    "                    print('tdc2 %s tdc2_next %s tdc1 %s toa %s' % (tdc2,tdc2_next ,tdc1,toa))\n",
    "\n",
    "\n",
    "                    \n",
    "\n",
    "                    \n",
    "                tdc_updated = True\n",
    "    \n",
    "    \n",
    "############################################ MANY ELECTRON  #######################################\n",
    "\n",
    "            # We want to gate >1 electron events. This is achieved by putting a max-min threshold\n",
    "            # on x and y. \n",
    "        \n",
    "            # before we deal with many electrons we want to reject unphysical events. these are\n",
    "            # due to e.g. dark counts and faults of the detector\n",
    "            \n",
    "            if tdc_updated:\n",
    "                # *1e9 is to convert from s to ns\n",
    "                if ((tdc2_batch-tdc1_batch)*1e9 < physical_max_t and \\\n",
    "                    (tdc2_batch-tdc1_batch)*1e9 > physical_min_t) or True:\n",
    "                    if abs(xmax-xmin) < x_threshold and abs(ymax-ymin) < y_threshold:\n",
    "                        df_str = df_str + batch_lines\n",
    "                        batch += 1\n",
    "                    else:\n",
    "                        if np.random.rand()<1/1250:   # arbitrary number that determines when to plot pics\n",
    "                            many_e = pd.read_csv(StringIO('toa,tot,x,y,tdc1,tdc2,batch\\n'+batch_lines))\n",
    "                            try:\n",
    "                                many_e.plot(x='x',y='y',linestyle='None',marker='o')\n",
    "                                plt.show()\n",
    "                            except:\n",
    "                                None\n",
    "                        many_electron_reject +=1\n",
    "                        if many_electron_reject % 5_000==0:\n",
    "                            print(f'{many_electron_reject:_} physical batches were \\\n",
    "                                  rejected due to many electrons')\n",
    "                else:\n",
    "                    unphysical_reject += 1\n",
    "                    if unphysical_reject % 5_000 == 0:\n",
    "                        print(f'{unphysical_reject:_} batches were rejected due time gating')\n",
    "                        \n",
    "\n",
    "                    \n",
    "                tdc_updated = False\n",
    "                batch_lines =''\n",
    "                xmax = 0\n",
    "                xmin = 1000\n",
    "                ymax = 0\n",
    "                ymin = 1000\n",
    "                \n",
    "############################################ TDC1  #######################################\n",
    "\n",
    "\n",
    "            # when the difference bw tdc1 and toa exceeds the threshold we need to update tdc1\n",
    "            while toa-tdc1>=t1_eps:\n",
    "                tdc1 = tdc1_next\n",
    "                tdc1_next = next(tdc1_iter)\n",
    "                \n",
    "                # Handle overflow\n",
    "                tdc1_next = overflow_corr(tdc1_next,tdc1_overflow_counter,tdc_overflow_threshold)\n",
    "                \n",
    "                if tdc1 > tdc1_next + overflow_threshold:\n",
    "                    tdc1_overflow_counter += 1\n",
    "                   # print('tdc1 %s tdc1_next %s tdc2 %s toa %s' % (tdc1,tdc1_next ,tdc2,toa))\n",
    "\n",
    "                    tdc1_next += tdc_overflow_threshold\n",
    "                    print('### TDC1 Overflow NO %s' %tdc1_overflow_counter )\n",
    "                    print('tdc1 %s tdc1_next %s tdc2 %s toa %s' % (tdc1,tdc1_next ,tdc2,toa))\n",
    "\n",
    "\n",
    "                \n",
    "                \n",
    "            if toa-tdc1 >=0 and toa-tdc1<t1_eps:  \n",
    "                # We assume that tdc1 signal must be the first signal hence >0\n",
    "                # if the difference between time of arrival (toa) and tdc1 signal\n",
    "                # is below threshold and toa-tdc2 is below threshold we write into the file\n",
    "                if abs(toa-tdc2) < t2_eps:\n",
    "                    line = ''.join(re_search.split(line))[:-1] + (', %s , %s , %s\\n' % (tdc1,tdc2,batch))\n",
    "                    tdc1_batch = tdc1\n",
    "                    tdc2_batch = tdc2\n",
    "                    batch_lines = batch_lines + line\n",
    "                    x,y = line.split(',')[2:4]\n",
    "                    x,y = int(x),int(y)\n",
    "                    xmax = max(x,xmax)\n",
    "                    xmin = min(x,xmin)\n",
    "                    ymax = max(y,ymax)\n",
    "                    ymin = min(y,ymin)\n",
    "                else:\n",
    "                    tdc2_reject +=1\n",
    "                    if tdc2_reject %100_000 == 0:\n",
    "                        print(f'{tdc2_reject:_} lines were rejected due to tdc2 mismatch')\n",
    "            else:\n",
    "                tdc1_reject += 1\n",
    "                if tdc1_reject %100_000 == 0:\n",
    "                        print(f'{tdc1_reject:_} lines were rejected due to tdc1 mismatch')\n",
    "                        \n",
    "print('\\n #########______######### \\n')\n",
    "\n",
    "\n",
    "\n"
   ]
  },
  {
   "cell_type": "code",
   "execution_count": 1,
   "metadata": {},
   "outputs": [],
   "source": [
    "from preprocessing import *"
   ]
  },
  {
   "cell_type": "code",
   "execution_count": 5,
   "metadata": {},
   "outputs": [
    {
     "name": "stdout",
     "output_type": "stream",
     "text": [
      "tpx_df nulls\n",
      " tdc     0\n",
      "time    0\n",
      "dtype: int64\n",
      "NLINES reached\n",
      "\n",
      " #########______######### \n",
      "\n"
     ]
    }
   ],
   "source": [
    "preprocess(\n",
    "    tdc_file='45deg_11_tdc.txt',\n",
    "    data_file='data_2021_06_10/converted_xe_2tdc_45deg_11.txt')"
   ]
  },
  {
   "cell_type": "code",
   "execution_count": 44,
   "metadata": {
    "scrolled": false
   },
   "outputs": [
    {
     "data": {
      "text/plain": [
       "3.3281250000002927e-07"
      ]
     },
     "execution_count": 44,
     "metadata": {},
     "output_type": "execute_result"
    }
   ],
   "source": [
    "abs(0.004851078125-0.0048514109375)"
   ]
  },
  {
   "cell_type": "code",
   "execution_count": 45,
   "metadata": {},
   "outputs": [
    {
     "data": {
      "text/plain": [
       "0.0009402734374999999"
      ]
     },
     "execution_count": 45,
     "metadata": {},
     "output_type": "execute_result"
    }
   ],
   "source": [
    "abs(0.004851078125- 0.0057913515625)"
   ]
  },
  {
   "cell_type": "code",
   "execution_count": 27,
   "metadata": {
    "scrolled": true
   },
   "outputs": [
    {
     "name": "stdout",
     "output_type": "stream",
     "text": [
      "tdc1_reject: 423 \n",
      "\n",
      "tdc2_reject: 3_200 \n",
      "\n",
      "many_electron_reject: 4_293 \n",
      "\n",
      "tdc1_overflow_counter: 0 \n",
      "\n",
      "tdc2_overflow_counter: 0 \n",
      "\n",
      "unphysical_reject: 0 \n",
      "\n",
      "batch: 10_000 \n",
      "\n"
     ]
    }
   ],
   "source": [
    "all_counters = {'tdc1_reject':tdc1_reject,'tdc2_reject':tdc2_reject,\n",
    "               'many_electron_reject':many_electron_reject,\n",
    "               'tdc1_overflow_counter':tdc1_overflow_counter,\n",
    "               'tdc2_overflow_counter':tdc2_overflow_counter,\n",
    "               'unphysical_reject':unphysical_reject,\n",
    "               'batch':batch}\n",
    "for name,val in all_counters.items():\n",
    "    print(f'{name}: {val:_} \\n')"
   ]
  },
  {
   "cell_type": "code",
   "execution_count": 36,
   "metadata": {
    "scrolled": false
   },
   "outputs": [
    {
     "name": "stdout",
     "output_type": "stream",
     "text": [
      "tdc1_reject: 68_201 \n",
      "\n",
      "tdc2_reject: 173_222 \n",
      "\n",
      "many_electron_reject: 117 \n",
      "\n",
      "tdc1_overflow_counter: 0 \n",
      "\n",
      "tdc2_overflow_counter: 0 \n",
      "\n",
      "unphysical_reject: 21_396 \n",
      "\n"
     ]
    }
   ],
   "source": [
    "for name,val in all_counters.items():\n",
    "    print(f'{name}: {val:_} \\n')"
   ]
  },
  {
   "cell_type": "code",
   "execution_count": 95,
   "metadata": {},
   "outputs": [],
   "source": [
    "tmp =  pd.read_csv('new_background11.csv')\n",
    "tmp.delta_t = tmp.delta_t*1e9"
   ]
  },
  {
   "cell_type": "code",
   "execution_count": 96,
   "metadata": {},
   "outputs": [
    {
     "data": {
      "text/html": [
       "<div>\n",
       "<style scoped>\n",
       "    .dataframe tbody tr th:only-of-type {\n",
       "        vertical-align: middle;\n",
       "    }\n",
       "\n",
       "    .dataframe tbody tr th {\n",
       "        vertical-align: top;\n",
       "    }\n",
       "\n",
       "    .dataframe thead th {\n",
       "        text-align: right;\n",
       "    }\n",
       "</style>\n",
       "<table border=\"1\" class=\"dataframe\">\n",
       "  <thead>\n",
       "    <tr style=\"text-align: right;\">\n",
       "      <th></th>\n",
       "      <th>batch</th>\n",
       "      <th>x</th>\n",
       "      <th>y</th>\n",
       "      <th>delta_t</th>\n",
       "    </tr>\n",
       "  </thead>\n",
       "  <tbody>\n",
       "    <tr>\n",
       "      <th>count</th>\n",
       "      <td>110000.000000</td>\n",
       "      <td>110000.000000</td>\n",
       "      <td>110000.000000</td>\n",
       "      <td>110000.000000</td>\n",
       "    </tr>\n",
       "    <tr>\n",
       "      <th>mean</th>\n",
       "      <td>54999.500000</td>\n",
       "      <td>95.933292</td>\n",
       "      <td>100.301015</td>\n",
       "      <td>4790.052696</td>\n",
       "    </tr>\n",
       "    <tr>\n",
       "      <th>std</th>\n",
       "      <td>31754.409143</td>\n",
       "      <td>32.648802</td>\n",
       "      <td>28.162456</td>\n",
       "      <td>0.980316</td>\n",
       "    </tr>\n",
       "    <tr>\n",
       "      <th>min</th>\n",
       "      <td>0.000000</td>\n",
       "      <td>43.074919</td>\n",
       "      <td>24.296113</td>\n",
       "      <td>4785.418696</td>\n",
       "    </tr>\n",
       "    <tr>\n",
       "      <th>25%</th>\n",
       "      <td>27499.750000</td>\n",
       "      <td>70.558930</td>\n",
       "      <td>80.337601</td>\n",
       "      <td>4789.324976</td>\n",
       "    </tr>\n",
       "    <tr>\n",
       "      <th>50%</th>\n",
       "      <td>54999.500000</td>\n",
       "      <td>90.675468</td>\n",
       "      <td>98.975940</td>\n",
       "      <td>4790.100093</td>\n",
       "    </tr>\n",
       "    <tr>\n",
       "      <th>75%</th>\n",
       "      <td>82499.250000</td>\n",
       "      <td>116.983751</td>\n",
       "      <td>119.817289</td>\n",
       "      <td>4790.624999</td>\n",
       "    </tr>\n",
       "    <tr>\n",
       "      <th>max</th>\n",
       "      <td>109999.000000</td>\n",
       "      <td>214.823393</td>\n",
       "      <td>195.395987</td>\n",
       "      <td>4794.793995</td>\n",
       "    </tr>\n",
       "  </tbody>\n",
       "</table>\n",
       "</div>"
      ],
      "text/plain": [
       "               batch              x              y        delta_t\n",
       "count  110000.000000  110000.000000  110000.000000  110000.000000\n",
       "mean    54999.500000      95.933292     100.301015    4790.052696\n",
       "std     31754.409143      32.648802      28.162456       0.980316\n",
       "min         0.000000      43.074919      24.296113    4785.418696\n",
       "25%     27499.750000      70.558930      80.337601    4789.324976\n",
       "50%     54999.500000      90.675468      98.975940    4790.100093\n",
       "75%     82499.250000     116.983751     119.817289    4790.624999\n",
       "max    109999.000000     214.823393     195.395987    4794.793995"
      ]
     },
     "execution_count": 96,
     "metadata": {},
     "output_type": "execute_result"
    }
   ],
   "source": [
    "tmp.describe()"
   ]
  },
  {
   "cell_type": "code",
   "execution_count": null,
   "metadata": {
    "scrolled": true
   },
   "outputs": [],
   "source": [
    "tmp2 = pd.read_csv('preprocessed11.csv')\n",
    "tmp2.info()"
   ]
  },
  {
   "cell_type": "code",
   "execution_count": null,
   "metadata": {},
   "outputs": [],
   "source": [
    "tmp2=final_processing(tmp2,debug=True)"
   ]
  },
  {
   "cell_type": "code",
   "execution_count": null,
   "metadata": {
    "scrolled": false
   },
   "outputs": [],
   "source": [
    "x,y=line_hist(tmp.delta_t*1e9,bins=np.linspace(4785,4795,105),normalized=False,linestyle='None')"
   ]
  },
  {
   "cell_type": "code",
   "execution_count": null,
   "metadata": {},
   "outputs": [],
   "source": []
  },
  {
   "cell_type": "code",
   "execution_count": null,
   "metadata": {},
   "outputs": [],
   "source": [
    "(x*y).sum()/y.sum()"
   ]
  },
  {
   "cell_type": "code",
   "execution_count": null,
   "metadata": {},
   "outputs": [],
   "source": [
    "x,y=line_hist(tmp.delta_t*1e9,bins=np.linspace(0,10000,5000),normalized=False,linestyle='None')\n",
    "ycs = np.cumsum(y)\n",
    "plt.plot(x,ycs/ycs[-1])"
   ]
  },
  {
   "cell_type": "code",
   "execution_count": null,
   "metadata": {},
   "outputs": [],
   "source": [
    "(tmp['delta_t']*1e9<4795).sum()"
   ]
  },
  {
   "cell_type": "code",
   "execution_count": null,
   "metadata": {},
   "outputs": [],
   "source": [
    "sns.displot(data=tmp[tmp['delta_t']*1e9<4795],x='x',y='y',bins=100)"
   ]
  },
  {
   "cell_type": "code",
   "execution_count": null,
   "metadata": {},
   "outputs": [],
   "source": []
  },
  {
   "cell_type": "code",
   "execution_count": null,
   "metadata": {},
   "outputs": [],
   "source": [
    "tmp.loc[26_715].toa1"
   ]
  },
  {
   "cell_type": "code",
   "execution_count": null,
   "metadata": {},
   "outputs": [],
   "source": [
    "np.longdouble?"
   ]
  },
  {
   "cell_type": "code",
   "execution_count": null,
   "metadata": {},
   "outputs": [],
   "source": [
    "print(final_processing(df_str))"
   ]
  },
  {
   "cell_type": "code",
   "execution_count": null,
   "metadata": {},
   "outputs": [],
   "source": [
    "pd.read_csv('preprocessed110.csv')"
   ]
  },
  {
   "cell_type": "code",
   "execution_count": null,
   "metadata": {},
   "outputs": [],
   "source": [
    "np.finfo('longdouble')"
   ]
  },
  {
   "cell_type": "code",
   "execution_count": null,
   "metadata": {},
   "outputs": [],
   "source": [
    "np.finfo('float64')"
   ]
  },
  {
   "cell_type": "code",
   "execution_count": 3,
   "metadata": {},
   "outputs": [
    {
     "data": {
      "text/plain": [
       "[2, 3]"
      ]
     },
     "execution_count": 3,
     "metadata": {},
     "output_type": "execute_result"
    }
   ],
   "source": [
    "tmp = 2\n",
    "tmp2 = 3\n",
    "tmp3  = [tmp,tmp2]\n",
    "tmp2 = 4\n",
    "tmp3"
   ]
  },
  {
   "cell_type": "code",
   "execution_count": null,
   "metadata": {},
   "outputs": [],
   "source": []
  }
 ],
 "metadata": {
  "kernelspec": {
   "display_name": "Python 3",
   "language": "python",
   "name": "python3"
  },
  "language_info": {
   "codemirror_mode": {
    "name": "ipython",
    "version": 3
   },
   "file_extension": ".py",
   "mimetype": "text/x-python",
   "name": "python",
   "nbconvert_exporter": "python",
   "pygments_lexer": "ipython3",
   "version": "3.8.5"
  }
 },
 "nbformat": 4,
 "nbformat_minor": 4
}
