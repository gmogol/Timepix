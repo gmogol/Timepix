{
 "cells": [
  {
   "cell_type": "code",
   "execution_count": 1,
   "metadata": {},
   "outputs": [],
   "source": [
    "import pandas as pd\n",
    "import matplotlib.pyplot as plt\n",
    "import numpy as np\n",
    "from ipynb.fs.defs.tdc_data_analysis import line_hist"
   ]
  },
  {
   "cell_type": "markdown",
   "metadata": {},
   "source": [
    "**TODO**: Update wherever possible from pandas frames to numpy"
   ]
  },
  {
   "cell_type": "code",
   "execution_count": 2,
   "metadata": {},
   "outputs": [],
   "source": [
    "def preproces_tdcs(filename=None,debug=False,tdc_df=None):\n",
    "    ''' \n",
    "    Args:\n",
    "        filename : string\n",
    "            name of the file\n",
    "        debug : bool\n",
    "              if True returns all dataframes\n",
    "        tdc_df : pd.DataFrame Object\n",
    "            instead of reading from file one can give the df directly\n",
    "    Returns:\n",
    "        time_df : pd.DataFrame Object\n",
    "            \n",
    "    It takes the data file for TDC's ONLY, which is assumed to be in the form\n",
    "    TDCn: t0.\n",
    "    We first seperate TDC's apart and then merge them, which creates nulls.\n",
    "    The nulls for TDC2 are back filled i.e. if a cell N is null then it's filled \n",
    "    with the last cell <N which isn't null. TDC1 nulls aren't filled but rather dropped\n",
    "    because we are really interested in TDC2. Finally we calculate the time difference\n",
    "    between TD1 and TDC2. Finally we gate the difference by 5*10^4 ns = 50 us.\n",
    "    '''\n",
    "    if filename is not None:\n",
    "        tpx_df =pd.read_csv(filename,\n",
    "                    sep=':',\n",
    "                    error_bad_lines=False,\n",
    "                    warn_bad_lines=False,\n",
    "                    header=None)\n",
    "    elif tdc_df is not None:\n",
    "        tpx_df = tdc_df\n",
    "    else:\n",
    "        raise(Exception('Either a filename or a tdc data frame needs to be given!'))\n",
    "    tpx_df.columns = ['tdc','time']\n",
    "\n",
    "    print('tpx_df nulls\\n',tpx_df.isna().sum())\n",
    "    tdc_one = tpx_df[tpx_df.tdc == 'TDC1']\n",
    "    tdc_two = tpx_df[tpx_df.tdc == 'TDC2']\n",
    "    time_df = tdc_one[['time']].join(tdc_two.time,how='outer',lsuffix='1',rsuffix='2')\n",
    "    time_df['time2'] = time_df['time2'].fillna(method='bfill')\n",
    "    time_df['time1'] = time_df['time1'].fillna(method='bfill')\n",
    "\n",
    "    #time_df.dropna(inplace=True)\n",
    "    time_df = time_df.astype(np.float64)\n",
    "    time_df['delta_t'] = (time_df.time2-time_df.time1)*1e9\n",
    "    time_df.reset_index(inplace=True)\n",
    "    time_df.drop('index',axis=1,inplace=True)\n",
    "    #time_df = time_df[np.abs(time_df.delta_t)< 5e3]\n",
    "    if debug:\n",
    "        return tpx_df, tdc_one, tdc_two, time_df\n",
    "    else:\n",
    "        print(time_df.head(10))\n",
    "        return time_df"
   ]
  },
  {
   "cell_type": "code",
   "execution_count": 23,
   "metadata": {},
   "outputs": [],
   "source": [
    "def final_processing(df_str,debug=False):\n",
    "    if debug:\n",
    "        tpx_data = df_str\n",
    "    else:\n",
    "        tpx_data = pd.read_csv(StringIO(df_str),index_col=False)\n",
    "    tpx_data['totx'] = tpx_data['tot']*tpx_data['x']\n",
    "    tpx_data['toty'] = tpx_data['tot']*tpx_data['y']\n",
    "    tpx_data['delta_t'] = (tpx_data['tdc2']-tpx_data['tdc1'])\n",
    "    tpx_data['ones'] =1\n",
    "    batches = tpx_data.groupby('batch').sum()\n",
    "    batches['delta_t'] = batches['delta_t']/batches['ones']\n",
    "    batches['x'] = batches['totx']/batches['tot']\n",
    "    batches['y'] = batches['toty']/batches['tot']\n",
    "    batches.drop(['toa','tot','tdc1','tdc2','totx','toty','ones'],axis=1,inplace=True)\n",
    "    if debug:\n",
    "        return batches\n",
    "    return batches.to_csv(header=False)"
   ]
  },
  {
   "cell_type": "code",
   "execution_count": 24,
   "metadata": {},
   "outputs": [],
   "source": [
    "from io import StringIO"
   ]
  },
  {
   "cell_type": "code",
   "execution_count": 97,
   "metadata": {},
   "outputs": [
    {
     "name": "stdout",
     "output_type": "stream",
     "text": [
      "tpx_df nulls\n",
      " tdc     0\n",
      "time    0\n",
      "dtype: int64\n",
      "5_000 batches were rejected due time gating\n",
      "1_000_000 lines read\n",
      "100_000 lines were rejected due to tdc2 mismatch\n",
      "\n",
      "Batch numer 2_000 is written\n",
      "1_166_190 lines read\n",
      "-----\n",
      "10_000 batches were rejected due time gating\n"
     ]
    },
    {
     "data": {
      "image/png": "[encoded data removed]",
      "text/plain": [
       "<Figure size 432x288 with 1 Axes>"
      ]
     },
     "metadata": {
      "needs_background": "light"
     },
     "output_type": "display_data"
    },
    {
     "name": "stdout",
     "output_type": "stream",
     "text": [
      "15_000 batches were rejected due time gating\n",
      "2_000_000 lines read\n",
      "200_000 lines were rejected due to tdc2 mismatch\n",
      "\n",
      "Batch numer 4_000 is written\n",
      "2_370_745 lines read\n",
      "-----\n",
      "20_000 batches were rejected due time gating\n"
     ]
    },
    {
     "data": {
      "image/png": "[encoded data removed]",
      "text/plain": [
       "<Figure size 432x288 with 1 Axes>"
      ]
     },
     "metadata": {
      "needs_background": "light"
     },
     "output_type": "display_data"
    },
    {
     "name": "stdout",
     "output_type": "stream",
     "text": [
      "3_000_000 lines read\n",
      "100_000 lines were rejected due to tdc1 mismatch\n",
      "25_000 batches were rejected due time gating\n",
      "### TOA Overflow NO 1\n",
      "toa_prev 26.8432881046875 toa 26.844766946874998 tdc1 26.8432837567688 tdc2 26.8432885492187\n",
      "300_000 lines were rejected due to tdc2 mismatch\n",
      "\n",
      "Batch numer 6_000 is written\n",
      "3_559_369 lines read\n",
      "-----\n",
      "30_000 batches were rejected due time gating\n",
      "4_000_000 lines read\n",
      "35_000 batches were rejected due time gating\n",
      "400_000 lines were rejected due to tdc2 mismatch\n",
      "\n",
      "Batch numer 8_000 is written\n",
      "4_790_296 lines read\n",
      "-----\n",
      "40_000 batches were rejected due time gating\n",
      "5_000_000 lines read\n"
     ]
    },
    {
     "data": {
      "image/png": "[encoded data removed]",
      "text/plain": [
       "<Figure size 432x288 with 1 Axes>"
      ]
     },
     "metadata": {
      "needs_background": "light"
     },
     "output_type": "display_data"
    },
    {
     "name": "stdout",
     "output_type": "stream",
     "text": [
      "45_000 batches were rejected due time gating\n",
      "500_000 lines were rejected due to tdc2 mismatch\n",
      "200_000 lines were rejected due to tdc1 mismatch\n",
      "\n",
      "Batch numer 10_000 is written\n",
      "5_982_776 lines read\n",
      "-----\n",
      "50_000 batches were rejected due time gating\n",
      "6_000_000 lines read\n",
      "55_000 batches were rejected due time gating\n",
      "### TOA Overflow NO 2\n",
      "toa_prev 53.6860586046875 toa 53.6870919171875 tdc1 53.686054253125 tdc2 53.686059040625\n",
      "5_000 physical batches were                                   rejected due to many electrons\n",
      "600_000 lines were rejected due to tdc2 mismatch\n",
      "7_000_000 lines read\n",
      "\n",
      "Batch numer 12_000 is written\n",
      "7_176_967 lines read\n",
      "-----\n",
      "60_000 batches were rejected due time gating\n",
      "65_000 batches were rejected due time gating\n",
      "8_000_000 lines read\n",
      "700_000 lines were rejected due to tdc2 mismatch\n",
      "\n",
      "Batch numer 14_000 is written\n",
      "8_387_363 lines read\n",
      "-----\n",
      "70_000 batches were rejected due time gating\n",
      "300_000 lines were rejected due to tdc1 mismatch\n",
      "9_000_000 lines read\n",
      "75_000 batches were rejected due time gating\n"
     ]
    },
    {
     "data": {
      "image/png": "[encoded data removed]",
      "text/plain": [
       "<Figure size 432x288 with 1 Axes>"
      ]
     },
     "metadata": {
      "needs_background": "light"
     },
     "output_type": "display_data"
    },
    {
     "name": "stdout",
     "output_type": "stream",
     "text": [
      "800_000 lines were rejected due to tdc2 mismatch\n"
     ]
    },
    {
     "data": {
      "image/png": "[encoded data removed]",
      "text/plain": [
       "<Figure size 432x288 with 1 Axes>"
      ]
     },
     "metadata": {
      "needs_background": "light"
     },
     "output_type": "display_data"
    },
    {
     "name": "stdout",
     "output_type": "stream",
     "text": [
      "80_000 batches were rejected due time gating\n",
      "\n",
      "Batch numer 16_000 is written\n",
      "9_616_042 lines read\n",
      "-----\n",
      "10_000_000 lines read\n",
      "### TOA Overflow NO 3\n",
      "toa_prev 80.529615959375 toa 80.53076879062499 tdc1 80.5296271729126 tdc2 80.5294288893188\n",
      "85_000 batches were rejected due time gating\n",
      "900_000 lines were rejected due to tdc2 mismatch\n",
      "\n",
      "Batch numer 18_000 is written\n",
      "10_801_986 lines read\n",
      "-----\n",
      "90_000 batches were rejected due time gating\n"
     ]
    },
    {
     "data": {
      "image/png": "[encoded data removed]",
      "text/plain": [
       "<Figure size 432x288 with 1 Axes>"
      ]
     },
     "metadata": {
      "needs_background": "light"
     },
     "output_type": "display_data"
    },
    {
     "name": "stdout",
     "output_type": "stream",
     "text": [
      "11_000_000 lines read\n",
      "95_000 batches were rejected due time gating\n",
      "1_000_000 lines were rejected due to tdc2 mismatch\n",
      "400_000 lines were rejected due to tdc1 mismatch\n",
      "100_000 batches were rejected due time gating\n",
      "12_000_000 lines read\n",
      "\n",
      "Batch numer 20_000 is written\n",
      "12_025_313 lines read\n",
      "-----\n",
      "105_000 batches were rejected due time gating\n",
      "1_100_000 lines were rejected due to tdc2 mismatch\n",
      "13_000_000 lines read\n",
      "110_000 batches were rejected due time gating\n",
      "\n",
      "Batch numer 22_000 is written\n",
      "13_225_301 lines read\n",
      "-----\n",
      "### TDC2 Overflow NO 1\n",
      "tdc2 107.372405525519 tdc2_next 107.37467885468749 tdc1 107.371344810156 toa 107.3723913265625\n",
      "### TOA Overflow NO 4\n",
      "toa_prev 107.3732297453125 toa 107.3746785125 tdc1 107.373225389319 tdc2 107.372405525519\n",
      "### TDC1 Overflow NO 1\n",
      "tdc1 107.374165678644 tdc1_next 107.3751059682251 tdc2 107.37467885468749 toa 107.3746785125\n",
      "10_000 physical batches were                                   rejected due to many electrons\n"
     ]
    },
    {
     "data": {
      "image/png": "[encoded data removed]",
      "text/plain": [
       "<Figure size 432x288 with 1 Axes>"
      ]
     },
     "metadata": {
      "needs_background": "light"
     },
     "output_type": "display_data"
    },
    {
     "name": "stdout",
     "output_type": "stream",
     "text": [
      "115_000 batches were rejected due time gating\n",
      "1_200_000 lines were rejected due to tdc2 mismatch\n",
      "14_000_000 lines read\n",
      "120_000 batches were rejected due time gating\n",
      "\n",
      "Batch numer 24_000 is written\n",
      "14_491_086 lines read\n",
      "-----\n",
      "500_000 lines were rejected due to tdc1 mismatch\n",
      "15_000_000 lines read\n",
      "125_000 batches were rejected due time gating\n",
      "1_300_000 lines were rejected due to tdc2 mismatch\n",
      "130_000 batches were rejected due time gating\n",
      "\n",
      "Batch numer 26_000 is written\n",
      "15_725_893 lines read\n",
      "-----\n",
      "16_000_000 lines read\n",
      "1_400_000 lines were rejected due to tdc2 mismatch\n",
      "135_000 batches were rejected due time gating\n"
     ]
    },
    {
     "data": {
      "image/png": "[encoded data removed]",
      "text/plain": [
       "<Figure size 432x288 with 1 Axes>"
      ]
     },
     "metadata": {
      "needs_background": "light"
     },
     "output_type": "display_data"
    },
    {
     "data": {
      "image/png": "[encoded data removed]",
      "text/plain": [
       "<Figure size 432x288 with 1 Axes>"
      ]
     },
     "metadata": {
      "needs_background": "light"
     },
     "output_type": "display_data"
    },
    {
     "name": "stdout",
     "output_type": "stream",
     "text": [
      "140_000 batches were rejected due time gating\n"
     ]
    },
    {
     "data": {
      "image/png": "[encoded data removed]",
      "text/plain": [
       "<Figure size 432x288 with 1 Axes>"
      ]
     },
     "metadata": {
      "needs_background": "light"
     },
     "output_type": "display_data"
    },
    {
     "name": "stdout",
     "output_type": "stream",
     "text": [
      "\n",
      "Batch numer 28_000 is written\n",
      "16_999_959 lines read\n",
      "-----\n",
      "17_000_000 lines read\n",
      "### TOA Overflow NO 5\n",
      "toa_prev 134.2176698828125 toa 134.2184914734375 tdc1 134.21770172291258 tdc2 134.21767029765618\n"
     ]
    },
    {
     "data": {
      "image/png": "[encoded data removed]",
      "text/plain": [
       "<Figure size 432x288 with 1 Axes>"
      ]
     },
     "metadata": {
      "needs_background": "light"
     },
     "output_type": "display_data"
    },
    {
     "name": "stdout",
     "output_type": "stream",
     "text": [
      "1_500_000 lines were rejected due to tdc2 mismatch\n",
      "145_000 batches were rejected due time gating\n",
      "600_000 lines were rejected due to tdc1 mismatch\n",
      "150_000 batches were rejected due time gating\n",
      "18_000_000 lines read\n",
      "\n",
      "Batch numer 30_000 is written\n",
      "18_223_465 lines read\n",
      "-----\n",
      "1_600_000 lines were rejected due to tdc2 mismatch\n",
      "155_000 batches were rejected due time gating\n",
      "19_000_000 lines read\n",
      "160_000 batches were rejected due time gating\n",
      "\n",
      "Batch numer 32_000 is written\n",
      "19_474_356 lines read\n",
      "-----\n",
      "1_700_000 lines were rejected due to tdc2 mismatch\n",
      "165_000 batches were rejected due time gating\n"
     ]
    },
    {
     "data": {
      "image/png": "[encoded data removed]",
      "text/plain": [
       "<Figure size 432x288 with 1 Axes>"
      ]
     },
     "metadata": {
      "needs_background": "light"
     },
     "output_type": "display_data"
    },
    {
     "name": "stdout",
     "output_type": "stream",
     "text": [
      "20_000_000 lines read\n",
      "170_000 batches were rejected due time gating\n",
      "700_000 lines were rejected due to tdc1 mismatch\n",
      "### TOA Overflow NO 6\n",
      "toa_prev 161.06071669375 toa 161.0613956 tdc1 161.0603990572876 tdc2 161.0605327471313\n",
      "\n",
      "Batch numer 34_000 is written\n",
      "20_717_663 lines read\n",
      "-----\n",
      "15_000 physical batches were                                   rejected due to many electrons\n",
      "1_800_000 lines were rejected due to tdc2 mismatch\n",
      "175_000 batches were rejected due time gating\n",
      "21_000_000 lines read\n",
      "180_000 batches were rejected due time gating\n",
      "1_900_000 lines were rejected due to tdc2 mismatch\n",
      "\n",
      "Batch numer 36_000 is written\n",
      "21_964_023 lines read\n",
      "-----\n",
      "22_000_000 lines read\n",
      "185_000 batches were rejected due time gating\n",
      "190_000 batches were rejected due time gating\n",
      "2_000_000 lines were rejected due to tdc2 mismatch\n",
      "23_000_000 lines read\n"
     ]
    },
    {
     "data": {
      "image/png": "[encoded data removed]",
      "text/plain": [
       "<Figure size 432x288 with 1 Axes>"
      ]
     },
     "metadata": {
      "needs_background": "light"
     },
     "output_type": "display_data"
    },
    {
     "name": "stdout",
     "output_type": "stream",
     "text": [
      "\n",
      "Batch numer 38_000 is written\n",
      "23_242_593 lines read\n",
      "-----\n",
      "195_000 batches were rejected due time gating\n",
      "800_000 lines were rejected due to tdc1 mismatch\n",
      "200_000 batches were rejected due time gating\n",
      "24_000_000 lines read\n",
      "2_100_000 lines were rejected due to tdc2 mismatch\n",
      "### TOA Overflow NO 7\n",
      "toa_prev 187.904638953125 toa 187.9055133859375 tdc1 187.90399858255 tdc2 187.904639398175\n",
      "\n",
      "Batch numer 40_000 is written\n",
      "24_487_957 lines read\n",
      "-----\n",
      "205_000 batches were rejected due time gating\n",
      "25_000_000 lines read\n"
     ]
    },
    {
     "data": {
      "image/png": "[encoded data removed]",
      "text/plain": [
       "<Figure size 432x288 with 1 Axes>"
      ]
     },
     "metadata": {
      "needs_background": "light"
     },
     "output_type": "display_data"
    },
    {
     "name": "stdout",
     "output_type": "stream",
     "text": [
      "210_000 batches were rejected due time gating\n",
      "2_200_000 lines were rejected due to tdc2 mismatch\n",
      "215_000 batches were rejected due time gating\n",
      "\n",
      "Batch numer 42_000 is written\n",
      "25_741_879 lines read\n",
      "-----\n",
      "26_000_000 lines read\n",
      "220_000 batches were rejected due time gating\n",
      "900_000 lines were rejected due to tdc1 mismatch\n",
      "2_300_000 lines were rejected due to tdc2 mismatch\n",
      "225_000 batches were rejected due time gating\n"
     ]
    },
    {
     "data": {
      "image/png": "[encoded data removed]",
      "text/plain": [
       "<Figure size 432x288 with 1 Axes>"
      ]
     },
     "metadata": {
      "needs_background": "light"
     },
     "output_type": "display_data"
    },
    {
     "name": "stdout",
     "output_type": "stream",
     "text": [
      "\n",
      "Batch numer 44_000 is written\n",
      "26_997_206 lines read\n",
      "-----\n",
      "27_000_000 lines read\n",
      "230_000 batches were rejected due time gating\n",
      "2_400_000 lines were rejected due to tdc2 mismatch\n",
      "### TDC2 Overflow NO 2\n",
      "tdc2 214.747223045569 tdc2_next 214.74848888203124 tdc1 214.7447230526 toa 214.7472226578125\n",
      "### TDC1 Overflow NO 2\n",
      "tdc1 214.747543826819 tdc1_next 214.7484840927063 tdc2 214.747223045569 toa 214.7475482734375\n",
      "### TOA Overflow NO 8\n",
      "toa_prev 214.7482237921875 toa 214.7484885015625 tdc1 214.747543826819 tdc2 214.74848888203124\n",
      "20_000 physical batches were                                   rejected due to many electrons\n",
      "28_000_000 lines read\n",
      "235_000 batches were rejected due time gating\n",
      "\n",
      "Batch numer 46_000 is written\n",
      "28_277_145 lines read\n",
      "-----\n",
      "240_000 batches were rejected due time gating\n",
      "2_500_000 lines were rejected due to tdc2 mismatch\n",
      "29_000_000 lines read\n",
      "245_000 batches were rejected due time gating\n",
      "1_000_000 lines were rejected due to tdc1 mismatch\n",
      "\n",
      "Batch numer 48_000 is written\n",
      "29_519_509 lines read\n",
      "-----\n",
      "250_000 batches were rejected due time gating\n",
      "2_600_000 lines were rejected due to tdc2 mismatch\n",
      "30_000_000 lines read\n",
      "255_000 batches were rejected due time gating\n",
      "\n",
      "Batch numer 50_000 is written\n",
      "30_773_906 lines read\n",
      "-----\n",
      "31_000_000 lines read\n",
      "260_000 batches were rejected due time gating\n",
      "2_700_000 lines were rejected due to tdc2 mismatch\n",
      "### TOA Overflow NO 9\n",
      "toa_prev 241.5910723390625 toa 241.591946778125 tdc1 241.59106799583128 tdc2 241.59107278593748\n",
      "265_000 batches were rejected due time gating\n",
      "\n",
      "Batch numer 52_000 is written\n",
      "31_999_017 lines read\n",
      "-----\n",
      "32_000_000 lines read\n",
      "1_100_000 lines were rejected due to tdc1 mismatch\n",
      "270_000 batches were rejected due time gating\n",
      "2_800_000 lines were rejected due to tdc2 mismatch\n"
     ]
    },
    {
     "data": {
      "image/png": "[encoded data removed]",
      "text/plain": [
       "<Figure size 432x288 with 1 Axes>"
      ]
     },
     "metadata": {
      "needs_background": "light"
     },
     "output_type": "display_data"
    },
    {
     "name": "stdout",
     "output_type": "stream",
     "text": [
      "275_000 batches were rejected due time gating\n",
      "33_000_000 lines read\n",
      "\n",
      "Batch numer 54_000 is written\n",
      "33_241_591 lines read\n",
      "-----\n"
     ]
    },
    {
     "data": {
      "image/png": "[encoded data removed]",
      "text/plain": [
       "<Figure size 432x288 with 1 Axes>"
      ]
     },
     "metadata": {
      "needs_background": "light"
     },
     "output_type": "display_data"
    },
    {
     "name": "stdout",
     "output_type": "stream",
     "text": [
      "2_900_000 lines were rejected due to tdc2 mismatch\n",
      "280_000 batches were rejected due time gating\n",
      "34_000_000 lines read\n",
      "285_000 batches were rejected due time gating\n",
      "\n",
      "Batch numer 56_000 is written\n",
      "34_490_052 lines read\n",
      "-----\n",
      "### TOA Overflow NO 10\n",
      "toa_prev 268.4353778078125 toa 268.435687159375 tdc1 268.4347057057251 tdc2 268.4353782455688\n",
      "3_000_000 lines were rejected due to tdc2 mismatch\n",
      "290_000 batches were rejected due time gating\n",
      "25_000 physical batches were                                   rejected due to many electrons\n",
      "35_000_000 lines read\n",
      "1_200_000 lines were rejected due to tdc1 mismatch\n",
      "295_000 batches were rejected due time gating\n"
     ]
    },
    {
     "data": {
      "image/png": "[encoded data removed]",
      "text/plain": [
       "<Figure size 432x288 with 1 Axes>"
      ]
     },
     "metadata": {
      "needs_background": "light"
     },
     "output_type": "display_data"
    },
    {
     "name": "stdout",
     "output_type": "stream",
     "text": [
      "\n",
      "Batch numer 58_000 is written\n",
      "35_714_053 lines read\n",
      "-----\n",
      "3_100_000 lines were rejected due to tdc2 mismatch\n",
      "300_000 batches were rejected due time gating\n",
      "36_000_000 lines read\n",
      "305_000 batches were rejected due time gating\n",
      "3_200_000 lines were rejected due to tdc2 mismatch\n",
      "\n",
      "Batch numer 60_000 is written\n",
      "36_988_128 lines read\n",
      "-----\n",
      "310_000 batches were rejected due time gating\n",
      "37_000_000 lines read\n",
      "315_000 batches were rejected due time gating\n",
      "1_300_000 lines were rejected due to tdc1 mismatch\n",
      "3_300_000 lines were rejected due to tdc2 mismatch\n",
      "### TOA Overflow NO 11\n",
      "toa_prev 295.2789614265625 toa 295.280051978125 tdc1 295.2783169807251 tdc2 295.27896187109377\n",
      "38_000_000 lines read\n",
      "320_000 batches were rejected due time gating\n",
      "\n",
      "Batch numer 62_000 is written\n",
      "38_213_989 lines read\n",
      "-----\n",
      "325_000 batches were rejected due time gating\n",
      "39_000_000 lines read\n",
      "3_400_000 lines were rejected due to tdc2 mismatch\n"
     ]
    },
    {
     "data": {
      "image/png": "[encoded data removed]",
      "text/plain": [
       "<Figure size 432x288 with 1 Axes>"
      ]
     },
     "metadata": {
      "needs_background": "light"
     },
     "output_type": "display_data"
    },
    {
     "name": "stdout",
     "output_type": "stream",
     "text": [
      "330_000 batches were rejected due time gating\n",
      "\n",
      "Batch numer 64_000 is written\n",
      "39_476_047 lines read\n",
      "-----\n",
      "335_000 batches were rejected due time gating\n",
      "40_000_000 lines read\n",
      "3_500_000 lines were rejected due to tdc2 mismatch\n",
      "340_000 batches were rejected due time gating\n",
      "\n",
      "Batch numer 66_000 is written\n",
      "40_679_701 lines read\n",
      "-----\n",
      "1_400_000 lines were rejected due to tdc1 mismatch\n"
     ]
    },
    {
     "data": {
      "image/png": "[encoded data removed]",
      "text/plain": [
       "<Figure size 432x288 with 1 Axes>"
      ]
     },
     "metadata": {
      "needs_background": "light"
     },
     "output_type": "display_data"
    },
    {
     "name": "stdout",
     "output_type": "stream",
     "text": [
      "41_000_000 lines read\n",
      "345_000 batches were rejected due time gating\n",
      "3_600_000 lines were rejected due to tdc2 mismatch\n",
      "### TDC2 Overflow NO 3\n",
      "tdc2 322.121583936456 tdc2_next 322.1227852703125 tdc1 322.120899995312 toa 322.121583540625\n",
      "### TDC1 Overflow NO 3\n",
      "tdc1 322.1218402375 tdc1_next 322.1227804799438 tdc2 322.1227852703125 toa 322.1223701265625\n",
      "### TOA Overflow NO 12\n",
      "toa_prev 322.12237011718753 toa 322.122784890625 tdc1 322.1218402375 tdc2 322.1227852703125\n",
      "350_000 batches were rejected due time gating\n",
      "\n",
      "Batch numer 68_000 is written\n",
      "41_919_571 lines read\n",
      "-----\n",
      "42_000_000 lines read\n",
      "30_000 physical batches were                                   rejected due to many electrons\n"
     ]
    },
    {
     "data": {
      "image/png": "[encoded data removed]",
      "text/plain": [
       "<Figure size 432x288 with 1 Axes>"
      ]
     },
     "metadata": {
      "needs_background": "light"
     },
     "output_type": "display_data"
    },
    {
     "name": "stdout",
     "output_type": "stream",
     "text": [
      "355_000 batches were rejected due time gating\n",
      "3_700_000 lines were rejected due to tdc2 mismatch\n"
     ]
    },
    {
     "data": {
      "image/png": "[encoded data removed]",
      "text/plain": [
       "<Figure size 432x288 with 1 Axes>"
      ]
     },
     "metadata": {
      "needs_background": "light"
     },
     "output_type": "display_data"
    },
    {
     "name": "stdout",
     "output_type": "stream",
     "text": [
      "360_000 batches were rejected due time gating\n",
      "43_000_000 lines read\n",
      "\n",
      "Batch numer 70_000 is written\n",
      "43_145_175 lines read\n",
      "-----\n",
      "365_000 batches were rejected due time gating\n",
      "1_500_000 lines were rejected due to tdc1 mismatch\n",
      "3_800_000 lines were rejected due to tdc2 mismatch\n",
      "44_000_000 lines read\n",
      "370_000 batches were rejected due time gating\n",
      "\n",
      "Batch numer 72_000 is written\n",
      "44_337_580 lines read\n",
      "-----\n",
      "375_000 batches were rejected due time gating\n",
      "### TOA Overflow NO 13\n",
      "toa_prev 348.96519926562496 toa 348.96624572656253 tdc1 348.9643607447876 tdc2 348.96519971328127\n",
      "3_900_000 lines were rejected due to tdc2 mismatch\n",
      "45_000_000 lines read\n",
      "380_000 batches were rejected due time gating\n",
      "\n",
      "Batch numer 74_000 is written\n",
      "45_611_781 lines read\n",
      "-----\n"
     ]
    },
    {
     "data": {
      "image/png": "[encoded data removed]",
      "text/plain": [
       "<Figure size 432x288 with 1 Axes>"
      ]
     },
     "metadata": {
      "needs_background": "light"
     },
     "output_type": "display_data"
    },
    {
     "name": "stdout",
     "output_type": "stream",
     "text": [
      "385_000 batches were rejected due time gating\n",
      "46_000_000 lines read\n",
      "4_000_000 lines were rejected due to tdc2 mismatch\n",
      "390_000 batches were rejected due time gating\n",
      "1_600_000 lines were rejected due to tdc1 mismatch\n",
      "\n",
      "Batch numer 76_000 is written\n",
      "46_856_389 lines read\n",
      "-----\n",
      "47_000_000 lines read\n",
      "395_000 batches were rejected due time gating\n",
      "4_100_000 lines were rejected due to tdc2 mismatch\n"
     ]
    },
    {
     "data": {
      "image/png": "[encoded data removed]",
      "text/plain": [
       "<Figure size 432x288 with 1 Axes>"
      ]
     },
     "metadata": {
      "needs_background": "light"
     },
     "output_type": "display_data"
    },
    {
     "name": "stdout",
     "output_type": "stream",
     "text": [
      "400_000 batches were rejected due time gating\n"
     ]
    },
    {
     "data": {
      "image/png": "[encoded data removed]",
      "text/plain": [
       "<Figure size 432x288 with 1 Axes>"
      ]
     },
     "metadata": {
      "needs_background": "light"
     },
     "output_type": "display_data"
    },
    {
     "name": "stdout",
     "output_type": "stream",
     "text": [
      "48_000_000 lines read\n",
      "\n",
      "Batch numer 78_000 is written\n",
      "48_097_955 lines read\n",
      "-----\n"
     ]
    },
    {
     "data": {
      "image/png": "[encoded data removed]",
      "text/plain": [
       "<Figure size 432x288 with 1 Axes>"
      ]
     },
     "metadata": {
      "needs_background": "light"
     },
     "output_type": "display_data"
    },
    {
     "name": "stdout",
     "output_type": "stream",
     "text": [
      "### TOA Overflow NO 14\n",
      "toa_prev 375.8088105359375 toa 375.810338178125 tdc1 375.8085959494751 tdc2 375.8080836080688\n",
      "405_000 batches were rejected due time gating\n",
      "4_200_000 lines were rejected due to tdc2 mismatch\n",
      "410_000 batches were rejected due time gating\n"
     ]
    },
    {
     "data": {
      "image/png": "[encoded data removed]",
      "text/plain": [
       "<Figure size 432x288 with 1 Axes>"
      ]
     },
     "metadata": {
      "needs_background": "light"
     },
     "output_type": "display_data"
    },
    {
     "name": "stdout",
     "output_type": "stream",
     "text": [
      "49_000_000 lines read\n",
      "35_000 physical batches were                                   rejected due to many electrons\n",
      "\n",
      "Batch numer 80_000 is written\n",
      "49_332_524 lines read\n",
      "-----\n",
      "1_700_000 lines were rejected due to tdc1 mismatch\n",
      "415_000 batches were rejected due time gating\n",
      "4_300_000 lines were rejected due to tdc2 mismatch\n",
      "50_000_000 lines read\n",
      "420_000 batches were rejected due time gating\n",
      "\n",
      "Batch numer 82_000 is written\n",
      "50_568_659 lines read\n",
      "-----\n",
      "425_000 batches were rejected due time gating\n",
      "4_400_000 lines were rejected due to tdc2 mismatch\n"
     ]
    },
    {
     "data": {
      "image/png": "[encoded data removed]",
      "text/plain": [
       "<Figure size 432x288 with 1 Axes>"
      ]
     },
     "metadata": {
      "needs_background": "light"
     },
     "output_type": "display_data"
    },
    {
     "name": "stdout",
     "output_type": "stream",
     "text": [
      "51_000_000 lines read\n",
      "430_000 batches were rejected due time gating\n",
      "### TOA Overflow NO 15\n",
      "toa_prev 402.652864628125 toa 402.65325868749994 tdc1 402.6523139710937 tdc2 402.6532590390625\n",
      "\n",
      "Batch numer 84_000 is written\n",
      "51_791_324 lines read\n",
      "-----\n",
      "4_500_000 lines were rejected due to tdc2 mismatch\n",
      "435_000 batches were rejected due time gating\n",
      "52_000_000 lines read\n",
      "1_800_000 lines were rejected due to tdc1 mismatch\n",
      "440_000 batches were rejected due time gating\n",
      "53_000_000 lines read\n",
      "\n",
      "Batch numer 86_000 is written\n",
      "53_007_103 lines read\n",
      "-----\n",
      "445_000 batches were rejected due time gating\n",
      "4_600_000 lines were rejected due to tdc2 mismatch\n",
      "450_000 batches were rejected due time gating\n",
      "54_000_000 lines read\n",
      "\n",
      "Batch numer 88_000 is written\n",
      "54_172_589 lines read\n",
      "-----\n"
     ]
    },
    {
     "data": {
      "image/png": "[encoded data removed]",
      "text/plain": [
       "<Figure size 432x288 with 1 Axes>"
      ]
     },
     "metadata": {
      "needs_background": "light"
     },
     "output_type": "display_data"
    },
    {
     "name": "stdout",
     "output_type": "stream",
     "text": [
      "4_700_000 lines were rejected due to tdc2 mismatch\n",
      "455_000 batches were rejected due time gating\n"
     ]
    },
    {
     "data": {
      "image/png": "[encoded data removed]",
      "text/plain": [
       "<Figure size 432x288 with 1 Axes>"
      ]
     },
     "metadata": {
      "needs_background": "light"
     },
     "output_type": "display_data"
    },
    {
     "name": "stdout",
     "output_type": "stream",
     "text": [
      "460_000 batches were rejected due time gating\n",
      "55_000_000 lines read\n",
      "### TDC2 Overflow NO 4\n",
      "tdc2 429.49596691249997 tdc2_next 429.4968547380188 tdc1 429.494085420312 toa 429.4956351296875\n",
      "### TDC1 Overflow NO 4\n",
      "tdc1 429.495966022656 tdc1_next 429.49690632369385 tdc2 429.49596691249997 toa 429.49596652500003\n",
      "### TOA Overflow NO 16\n",
      "toa_prev 429.49596647343753 toa 429.49685438593747 tdc1 429.495966022656 tdc2 429.49596691249997\n",
      "1_900_000 lines were rejected due to tdc1 mismatch\n",
      "\n",
      "Batch numer 90_000 is written\n",
      "55_409_249 lines read\n",
      "-----\n",
      "4_800_000 lines were rejected due to tdc2 mismatch\n",
      "465_000 batches were rejected due time gating\n"
     ]
    },
    {
     "data": {
      "image/png": "[encoded data removed]",
      "text/plain": [
       "<Figure size 432x288 with 1 Axes>"
      ]
     },
     "metadata": {
      "needs_background": "light"
     },
     "output_type": "display_data"
    },
    {
     "name": "stdout",
     "output_type": "stream",
     "text": [
      "56_000_000 lines read\n",
      "40_000 physical batches were                                   rejected due to many electrons\n",
      "470_000 batches were rejected due time gating\n"
     ]
    },
    {
     "data": {
      "image/png": "[encoded data removed]",
      "text/plain": [
       "<Figure size 432x288 with 1 Axes>"
      ]
     },
     "metadata": {
      "needs_background": "light"
     },
     "output_type": "display_data"
    },
    {
     "name": "stdout",
     "output_type": "stream",
     "text": [
      "4_900_000 lines were rejected due to tdc2 mismatch\n",
      "\n",
      "Batch numer 92_000 is written\n",
      "56_626_954 lines read\n",
      "-----\n",
      "475_000 batches were rejected due time gating\n",
      "57_000_000 lines read\n",
      "480_000 batches were rejected due time gating\n",
      "5_000_000 lines were rejected due to tdc2 mismatch\n",
      "\n",
      "Batch numer 94_000 is written\n",
      "57_844_551 lines read\n",
      "-----\n",
      "485_000 batches were rejected due time gating\n",
      "58_000_000 lines read\n",
      "2_000_000 lines were rejected due to tdc1 mismatch\n",
      "490_000 batches were rejected due time gating\n",
      "### TOA Overflow NO 17\n",
      "toa_prev 456.3396248390625 toa 456.3404712421875 tdc1 456.33962049843745 tdc2 456.3396252880188\n",
      "5_100_000 lines were rejected due to tdc2 mismatch\n",
      "59_000_000 lines read\n",
      "495_000 batches were rejected due time gating\n",
      "\n",
      "Batch numer 96_000 is written\n",
      "59_136_797 lines read\n",
      "-----\n",
      "500_000 batches were rejected due time gating\n",
      "60_000_000 lines read\n",
      "5_200_000 lines were rejected due to tdc2 mismatch\n",
      "505_000 batches were rejected due time gating\n",
      "\n",
      "Batch numer 98_000 is written\n",
      "60_404_794 lines read\n",
      "-----\n",
      "510_000 batches were rejected due time gating\n",
      "2_100_000 lines were rejected due to tdc1 mismatch\n",
      "61_000_000 lines read\n",
      "5_300_000 lines were rejected due to tdc2 mismatch\n",
      "515_000 batches were rejected due time gating\n",
      "\n",
      "Batch numer 100_000 is written\n",
      "61_635_224 lines read\n",
      "-----\n",
      "62_000_000 lines read\n",
      "520_000 batches were rejected due time gating\n",
      "### TOA Overflow NO 18\n",
      "toa_prev 483.18351573124994 toa 483.18575050156244 tdc1 483.18331601770626 tdc2 483.18284801041256\n",
      "5_400_000 lines were rejected due to tdc2 mismatch\n",
      "525_000 batches were rejected due time gating\n",
      "\n",
      "Batch numer 102_000 is written\n",
      "62_868_522 lines read\n",
      "-----\n",
      "63_000_000 lines read\n",
      "45_000 physical batches were                                   rejected due to many electrons\n",
      "530_000 batches were rejected due time gating\n"
     ]
    },
    {
     "data": {
      "image/png": "[encoded data removed]",
      "text/plain": [
       "<Figure size 432x288 with 1 Axes>"
      ]
     },
     "metadata": {
      "needs_background": "light"
     },
     "output_type": "display_data"
    },
    {
     "name": "stdout",
     "output_type": "stream",
     "text": [
      "5_500_000 lines were rejected due to tdc2 mismatch\n",
      "2_200_000 lines were rejected due to tdc1 mismatch\n",
      "535_000 batches were rejected due time gating\n",
      "64_000_000 lines read\n",
      "\n",
      "Batch numer 104_000 is written\n",
      "64_122_438 lines read\n",
      "-----\n"
     ]
    },
    {
     "data": {
      "image/png": "[encoded data removed]",
      "text/plain": [
       "<Figure size 432x288 with 1 Axes>"
      ]
     },
     "metadata": {
      "needs_background": "light"
     },
     "output_type": "display_data"
    },
    {
     "name": "stdout",
     "output_type": "stream",
     "text": [
      "540_000 batches were rejected due time gating\n",
      "5_600_000 lines were rejected due to tdc2 mismatch\n",
      "65_000_000 lines read\n",
      "545_000 batches were rejected due time gating\n",
      "\n",
      "Batch numer 106_000 is written\n",
      "65_334_619 lines read\n",
      "-----\n",
      "### TOA Overflow NO 19\n",
      "toa_prev 510.0272774671875 toa 510.0279860828125 tdc1 510.02704129791255 tdc2 510.02727791614376\n",
      "550_000 batches were rejected due time gating\n",
      "5_700_000 lines were rejected due to tdc2 mismatch\n",
      "66_000_000 lines read\n",
      "555_000 batches were rejected due time gating\n",
      "\n",
      "Batch numer 108_000 is written\n",
      "66_527_688 lines read\n",
      "-----\n",
      "560_000 batches were rejected due time gating\n",
      "2_300_000 lines were rejected due to tdc1 mismatch\n",
      "67_000_000 lines read\n",
      "5_800_000 lines were rejected due to tdc2 mismatch\n",
      "565_000 batches were rejected due time gating\n",
      "\n",
      "Batch numer 110_000 is written\n",
      "67_731_327 lines read\n",
      "-----\n",
      "570_000 batches were rejected due time gating\n",
      "68_000_000 lines read\n",
      "5_900_000 lines were rejected due to tdc2 mismatch\n",
      "575_000 batches were rejected due time gating\n"
     ]
    },
    {
     "data": {
      "image/png": "[encoded data removed]",
      "text/plain": [
       "<Figure size 432x288 with 1 Axes>"
      ]
     },
     "metadata": {
      "needs_background": "light"
     },
     "output_type": "display_data"
    },
    {
     "name": "stdout",
     "output_type": "stream",
     "text": [
      "\n",
      "Batch numer 112_000 is written\n",
      "68_953_042 lines read\n",
      "-----\n",
      "### TDC2 Overflow NO 5\n",
      "tdc2 536.870564239062 tdc2_next 536.87133654375 tdc1 536.868694326819 toa 536.8705638390625\n",
      "### TDC1 Overflow NO 5\n",
      "tdc1 536.8705747762999 tdc1_next 536.8715149361938 tdc2 536.870564239062 toa 536.8705638390625\n",
      "### TOA Overflow NO 20\n",
      "toa_prev 536.8705791234376 toa 536.871336159375 tdc1 536.8705747762999 tdc2 536.870564239062\n",
      "69_000_000 lines read\n",
      "580_000 batches were rejected due time gating\n",
      "6_000_000 lines were rejected due to tdc2 mismatch\n",
      "585_000 batches were rejected due time gating\n",
      "2_400_000 lines were rejected due to tdc1 mismatch\n",
      "70_000_000 lines read\n",
      "\n",
      "Batch numer 114_000 is written\n",
      "70_178_553 lines read\n",
      "-----\n",
      "50_000 physical batches were                                   rejected due to many electrons\n",
      "590_000 batches were rejected due time gating\n",
      "6_100_000 lines were rejected due to tdc2 mismatch\n",
      "595_000 batches were rejected due time gating\n",
      "71_000_000 lines read\n",
      "\n",
      "Batch numer 116_000 is written\n",
      "71_364_526 lines read\n",
      "-----\n",
      "600_000 batches were rejected due time gating\n",
      "6_200_000 lines were rejected due to tdc2 mismatch\n",
      "72_000_000 lines read\n",
      "605_000 batches were rejected due time gating\n",
      "### TOA Overflow NO 21\n",
      "toa_prev 563.7142355609375 toa 563.7145517328124 tdc1 563.7142405585938 tdc2 563.7139838151\n",
      "### TOA Overflow NO 22\n",
      "toa_prev 590.5576876593749 toa 590.5580972390624 tdc1 590.5569663591125 tdc2 590.5578788234375\n",
      "6_300_000 lines were rejected due to tdc2 mismatch\n",
      "6_400_000 lines were rejected due to tdc2 mismatch\n",
      "6_500_000 lines were rejected due to tdc2 mismatch\n",
      "6_600_000 lines were rejected due to tdc2 mismatch\n",
      "2_500_000 lines were rejected due to tdc1 mismatch\n",
      "6_700_000 lines were rejected due to tdc2 mismatch\n",
      "610_000 batches were rejected due time gating\n",
      "6_800_000 lines were rejected due to tdc2 mismatch\n",
      "73_000_000 lines read\n",
      "6_900_000 lines were rejected due to tdc2 mismatch\n",
      "7_000_000 lines were rejected due to tdc2 mismatch\n",
      "7_100_000 lines were rejected due to tdc2 mismatch\n",
      "7_200_000 lines were rejected due to tdc2 mismatch\n",
      "7_300_000 lines were rejected due to tdc2 mismatch\n",
      "7_400_000 lines were rejected due to tdc2 mismatch\n",
      "7_500_000 lines were rejected due to tdc2 mismatch\n",
      "7_600_000 lines were rejected due to tdc2 mismatch\n",
      "615_000 batches were rejected due time gating\n",
      "7_700_000 lines were rejected due to tdc2 mismatch\n",
      "74_000_000 lines read\n",
      "7_800_000 lines were rejected due to tdc2 mismatch\n",
      "7_900_000 lines were rejected due to tdc2 mismatch\n",
      "8_000_000 lines were rejected due to tdc2 mismatch\n",
      "8_100_000 lines were rejected due to tdc2 mismatch\n",
      "8_200_000 lines were rejected due to tdc2 mismatch\n",
      "8_300_000 lines were rejected due to tdc2 mismatch\n",
      "620_000 batches were rejected due time gating\n",
      "8_400_000 lines were rejected due to tdc2 mismatch\n",
      "55_000 physical batches were                                   rejected due to many electrons\n",
      "8_500_000 lines were rejected due to tdc2 mismatch\n",
      "8_600_000 lines were rejected due to tdc2 mismatch\n",
      "75_000_000 lines read\n",
      "8_700_000 lines were rejected due to tdc2 mismatch\n",
      "8_800_000 lines were rejected due to tdc2 mismatch\n",
      "8_900_000 lines were rejected due to tdc2 mismatch\n",
      "9_000_000 lines were rejected due to tdc2 mismatch\n",
      "9_100_000 lines were rejected due to tdc2 mismatch\n",
      "625_000 batches were rejected due time gating\n",
      "9_200_000 lines were rejected due to tdc2 mismatch\n",
      "9_300_000 lines were rejected due to tdc2 mismatch\n",
      "2_600_000 lines were rejected due to tdc1 mismatch\n",
      "9_400_000 lines were rejected due to tdc2 mismatch\n",
      "9_500_000 lines were rejected due to tdc2 mismatch\n",
      "### TOA Overflow NO 23\n",
      "toa_prev 617.4014239781251 toa 617.4027627640625 tdc1 617.4007178117187 tdc2 617.4014311895812\n",
      "9_600_000 lines were rejected due to tdc2 mismatch\n",
      "76_000_000 lines read\n",
      "9_700_000 lines were rejected due to tdc2 mismatch\n",
      "9_800_000 lines were rejected due to tdc2 mismatch\n",
      "630_000 batches were rejected due time gating\n",
      "9_900_000 lines were rejected due to tdc2 mismatch\n",
      "10_000_000 lines were rejected due to tdc2 mismatch\n",
      "10_100_000 lines were rejected due to tdc2 mismatch\n",
      "10_200_000 lines were rejected due to tdc2 mismatch\n",
      "10_300_000 lines were rejected due to tdc2 mismatch\n",
      "10_400_000 lines were rejected due to tdc2 mismatch\n",
      "10_500_000 lines were rejected due to tdc2 mismatch\n",
      "77_000_000 lines read\n",
      "10_600_000 lines were rejected due to tdc2 mismatch\n",
      "635_000 batches were rejected due time gating\n",
      "10_700_000 lines were rejected due to tdc2 mismatch\n",
      "10_800_000 lines were rejected due to tdc2 mismatch\n",
      "10_900_000 lines were rejected due to tdc2 mismatch\n",
      "11_000_000 lines were rejected due to tdc2 mismatch\n",
      "11_100_000 lines were rejected due to tdc2 mismatch\n",
      "11_200_000 lines were rejected due to tdc2 mismatch\n",
      "11_300_000 lines were rejected due to tdc2 mismatch\n",
      "11_400_000 lines were rejected due to tdc2 mismatch\n",
      "640_000 batches were rejected due time gating\n",
      "11_500_000 lines were rejected due to tdc2 mismatch\n",
      "78_000_000 lines read\n",
      "11_600_000 lines were rejected due to tdc2 mismatch\n",
      "11_700_000 lines were rejected due to tdc2 mismatch\n",
      "11_800_000 lines were rejected due to tdc2 mismatch\n",
      "11_900_000 lines were rejected due to tdc2 mismatch\n",
      "12_000_000 lines were rejected due to tdc2 mismatch\n",
      "12_100_000 lines were rejected due to tdc2 mismatch\n",
      "2_700_000 lines were rejected due to tdc1 mismatch\n",
      "12_200_000 lines were rejected due to tdc2 mismatch\n",
      "645_000 batches were rejected due time gating\n",
      "12_300_000 lines were rejected due to tdc2 mismatch\n",
      "12_400_000 lines were rejected due to tdc2 mismatch\n",
      "79_000_000 lines read\n",
      "12_500_000 lines were rejected due to tdc2 mismatch\n",
      "12_600_000 lines were rejected due to tdc2 mismatch\n",
      "### TDC2 Overflow NO 6\n",
      "tdc2 644.244978251038 tdc2_next 644.2462492572876 tdc1 644.243414783594 toa 644.2449764890625\n",
      "### TDC1 Overflow NO 6\n",
      "tdc1 644.244355084631 tdc1_next 644.2452953859374 tdc2 644.244978251038 toa 644.2449764890625\n",
      "### TOA Overflow NO 24\n",
      "toa_prev 644.2449763328125 toa 644.246148403125 tdc1 644.244355084631 tdc2 644.244978251038\n",
      "12_700_000 lines were rejected due to tdc2 mismatch\n",
      "60_000 physical batches were                                   rejected due to many electrons\n",
      "12_800_000 lines were rejected due to tdc2 mismatch\n",
      "12_900_000 lines were rejected due to tdc2 mismatch\n",
      "650_000 batches were rejected due time gating\n",
      "13_000_000 lines were rejected due to tdc2 mismatch\n",
      "13_100_000 lines were rejected due to tdc2 mismatch\n",
      "13_200_000 lines were rejected due to tdc2 mismatch\n",
      "13_300_000 lines were rejected due to tdc2 mismatch\n",
      "80_000_000 lines read\n",
      "2_800_000 lines were rejected due to tdc1 mismatch\n",
      "13_400_000 lines were rejected due to tdc2 mismatch\n",
      "13_500_000 lines were rejected due to tdc2 mismatch\n",
      "13_600_000 lines were rejected due to tdc2 mismatch\n",
      "13_700_000 lines were rejected due to tdc2 mismatch\n",
      "655_000 batches were rejected due time gating\n",
      "13_800_000 lines were rejected due to tdc2 mismatch\n",
      "13_900_000 lines were rejected due to tdc2 mismatch\n",
      "14_000_000 lines were rejected due to tdc2 mismatch\n",
      "14_100_000 lines were rejected due to tdc2 mismatch\n",
      "14_200_000 lines were rejected due to tdc2 mismatch\n",
      "81_000_000 lines read\n",
      "14_300_000 lines were rejected due to tdc2 mismatch\n",
      "14_400_000 lines were rejected due to tdc2 mismatch\n",
      "14_500_000 lines were rejected due to tdc2 mismatch\n",
      "660_000 batches were rejected due time gating\n",
      "14_600_000 lines were rejected due to tdc2 mismatch\n",
      "14_700_000 lines were rejected due to tdc2 mismatch\n",
      "14_800_000 lines were rejected due to tdc2 mismatch\n",
      "2_900_000 lines were rejected due to tdc1 mismatch\n",
      "14_900_000 lines were rejected due to tdc2 mismatch\n",
      "15_000_000 lines were rejected due to tdc2 mismatch\n",
      "15_100_000 lines were rejected due to tdc2 mismatch\n",
      "82_000_000 lines read\n",
      "15_200_000 lines were rejected due to tdc2 mismatch\n",
      "665_000 batches were rejected due time gating\n",
      "15_300_000 lines were rejected due to tdc2 mismatch\n",
      "15_400_000 lines were rejected due to tdc2 mismatch\n",
      "15_500_000 lines were rejected due to tdc2 mismatch\n",
      "15_600_000 lines were rejected due to tdc2 mismatch\n",
      "15_700_000 lines were rejected due to tdc2 mismatch\n",
      "### TOA Overflow NO 25\n",
      "toa_prev 671.0885234125 toa 671.089794490625 tdc1 671.0879696455688 tdc2 671.0888032132812\n",
      "15_800_000 lines were rejected due to tdc2 mismatch\n",
      "15_900_000 lines were rejected due to tdc2 mismatch\n",
      "670_000 batches were rejected due time gating\n"
     ]
    },
    {
     "name": "stdout",
     "output_type": "stream",
     "text": [
      "16_000_000 lines were rejected due to tdc2 mismatch\n",
      "83_000_000 lines read\n",
      "16_100_000 lines were rejected due to tdc2 mismatch\n",
      "16_200_000 lines were rejected due to tdc2 mismatch\n",
      "16_300_000 lines were rejected due to tdc2 mismatch\n",
      "16_400_000 lines were rejected due to tdc2 mismatch\n",
      "16_500_000 lines were rejected due to tdc2 mismatch\n",
      "16_600_000 lines were rejected due to tdc2 mismatch\n",
      "675_000 batches were rejected due time gating\n",
      "16_700_000 lines were rejected due to tdc2 mismatch\n",
      "16_800_000 lines were rejected due to tdc2 mismatch\n",
      "65_000 physical batches were                                   rejected due to many electrons\n",
      "16_900_000 lines were rejected due to tdc2 mismatch\n",
      "17_000_000 lines were rejected due to tdc2 mismatch\n",
      "84_000_000 lines read\n",
      "17_100_000 lines were rejected due to tdc2 mismatch\n",
      "17_200_000 lines were rejected due to tdc2 mismatch\n",
      "3_000_000 lines were rejected due to tdc1 mismatch\n",
      "17_300_000 lines were rejected due to tdc2 mismatch\n",
      "17_400_000 lines were rejected due to tdc2 mismatch\n",
      "680_000 batches were rejected due time gating\n",
      "17_500_000 lines were rejected due to tdc2 mismatch\n",
      "17_600_000 lines were rejected due to tdc2 mismatch\n",
      "17_700_000 lines were rejected due to tdc2 mismatch\n",
      "17_800_000 lines were rejected due to tdc2 mismatch\n",
      "17_900_000 lines were rejected due to tdc2 mismatch\n",
      "85_000_000 lines read\n",
      "18_000_000 lines were rejected due to tdc2 mismatch\n",
      "18_100_000 lines were rejected due to tdc2 mismatch\n",
      "18_200_000 lines were rejected due to tdc2 mismatch\n",
      "685_000 batches were rejected due time gating\n",
      "18_300_000 lines were rejected due to tdc2 mismatch\n",
      "18_400_000 lines were rejected due to tdc2 mismatch\n",
      "18_500_000 lines were rejected due to tdc2 mismatch\n",
      "18_600_000 lines were rejected due to tdc2 mismatch\n",
      "18_700_000 lines were rejected due to tdc2 mismatch\n",
      "18_800_000 lines were rejected due to tdc2 mismatch\n",
      "86_000_000 lines read\n",
      "18_900_000 lines were rejected due to tdc2 mismatch\n",
      "### TOA Overflow NO 26\n",
      "toa_prev 697.9313092765624 toa 697.9321954390624 tdc1 697.9307299041626 tdc2 697.9315421020813\n",
      "3_100_000 lines were rejected due to tdc1 mismatch\n",
      "690_000 batches were rejected due time gating\n",
      "19_000_000 lines were rejected due to tdc2 mismatch\n",
      "19_100_000 lines were rejected due to tdc2 mismatch\n",
      "19_200_000 lines were rejected due to tdc2 mismatch\n"
     ]
    },
    {
     "ename": "KeyboardInterrupt",
     "evalue": "",
     "output_type": "error",
     "traceback": [
      "\u001b[0;31m---------------------------------------------------------------------------\u001b[0m",
      "\u001b[0;31mKeyboardInterrupt\u001b[0m                         Traceback (most recent call last)",
      "\u001b[0;32m<ipython-input-97-fc50eff44bef>\u001b[0m in \u001b[0;36m<module>\u001b[0;34m\u001b[0m\n\u001b[1;32m    215\u001b[0m \u001b[0;34m\u001b[0m\u001b[0m\n\u001b[1;32m    216\u001b[0m             \u001b[0;31m# when the difference bw tdc1 and toa exceeds the threshold we need to update tdc1\u001b[0m\u001b[0;34m\u001b[0m\u001b[0;34m\u001b[0m\u001b[0;34m\u001b[0m\u001b[0m\n\u001b[0;32m--> 217\u001b[0;31m             \u001b[0;32mwhile\u001b[0m \u001b[0mtoa\u001b[0m\u001b[0;34m-\u001b[0m\u001b[0mtdc1\u001b[0m\u001b[0;34m>=\u001b[0m\u001b[0mt1_eps\u001b[0m\u001b[0;34m:\u001b[0m\u001b[0;34m\u001b[0m\u001b[0;34m\u001b[0m\u001b[0m\n\u001b[0m\u001b[1;32m    218\u001b[0m                 \u001b[0mtdc1\u001b[0m \u001b[0;34m=\u001b[0m \u001b[0mtdc1_next\u001b[0m\u001b[0;34m\u001b[0m\u001b[0;34m\u001b[0m\u001b[0m\n\u001b[1;32m    219\u001b[0m                 \u001b[0mtdc1_next\u001b[0m \u001b[0;34m=\u001b[0m \u001b[0mnext\u001b[0m\u001b[0;34m(\u001b[0m\u001b[0mtdc1_iter\u001b[0m\u001b[0;34m)\u001b[0m\u001b[0;34m\u001b[0m\u001b[0;34m\u001b[0m\u001b[0m\n",
      "\u001b[0;31mKeyboardInterrupt\u001b[0m: "
     ]
    }
   ],
   "source": [
    "_,tdc_one, tdc_two,_= preproces_tdcs('tdc8.txt',debug=True)\n",
    "tdc_one = np.array(tdc_one['time'])\n",
    "tdc_two = np.array(tdc_two['time'])\n",
    "\n",
    "\n",
    "NTOTBATCHES = -1    # Max number of batches to process -1=inf\n",
    "NBATCH = 2_000    # Number of batches to collect before writing it to the file\n",
    "BEGINLINE= 0   # starting line, used mainly for debugging\n",
    "line_counter = 0\n",
    "NLINES = -1  # Max number of lines to be read -1=inf\n",
    "batch = 0\n",
    "\n",
    "tdc_updated = False\n",
    "\n",
    "t1_eps = 9e-4 #tdc1 tolerance  \n",
    "t2_eps = 3e-6 #tdc2 tolerance\n",
    "\n",
    "x_threshold = 15\n",
    "y_threshold = 15\n",
    "xmax = 0\n",
    "xmin = 1000 # detector has only 256x256 pixels\n",
    "ymax = 0\n",
    "ymin = 1000 # detector has only 256x256 pixels\n",
    "\n",
    "batch_lines = ''\n",
    "df_str = ''\n",
    "\n",
    "many_electron_reject = 0\n",
    "tdc1_reject = 0\n",
    "tdc2_reject= 0\n",
    "\n",
    "# We gate tdc2-tdc1 differnce (which corresponds to cable length)\n",
    "# and reject if this difference is too much or too little\n",
    "# physical_max/min_t's were determined by an preliminary analysis of the data\n",
    "# and they are given in ns.\n",
    "\n",
    "unphysical_reject = 0\n",
    "\n",
    "physical_max_t = 4795   # max allowed tdc2-tdc1 difference\n",
    "physical_min_t = 4785   # min allowed tdc2-tdc1 difference\n",
    "\n",
    "toa_overflow_counter = 0\n",
    "tdc1_overflow_counter = 0\n",
    "tdc2_overflow_counter = 0\n",
    "\n",
    "toa_overflow_threshold = (25*2**30/1e9)   # when pixel's toa overflows \n",
    "tdc_overflow_threshold = (25*2**32/1e9)  # when tdcs overflow\n",
    "\n",
    "tdc1_overflow = False\n",
    "tdc2_overflow = False\n",
    "toa_overflow = False\n",
    "\n",
    "overflow_threshold = 10     # sets after which we start checking overflow\n",
    "                            # i.e. difference bw subsequent values need to\n",
    "                            # be at least this threshol\n",
    "\n",
    "toa = 0\n",
    "\n",
    "\n",
    "\n",
    "tdc1_iter = tdc_one.flat   # flat produces an iterator from np.array\n",
    "tdc1 = next(tdc1_iter)\n",
    "tdc1_next = next(tdc1_iter)\n",
    "tdc1_batch = 0 # written tdc1 for the batch\n",
    "\n",
    "\n",
    "tdc2_iter = tdc_two.flat   # flat produces an iterator from np.array\n",
    "tdc2 = next(tdc2_iter)\n",
    "tdc2_next = next(tdc2_iter)\n",
    "tdc2_batch = 0 # written tdc2 for the batch\n",
    "\n",
    "\n",
    "header = 'batch,x,y,delta_t\\n'\n",
    "\n",
    "\n",
    "\n",
    "with open('preprocessed110.csv','w') as wfile:\n",
    "    wfile.write('')\n",
    "\n",
    "import re\n",
    "re_search = re.compile('\\w+:')\n",
    "with open('converted8.txt','r') as rfile:\n",
    "    with open('preprocessed110.csv','a') as afile:\n",
    "        afile.write(header)\n",
    "        \n",
    "        def overflow_corr(num,num_counter,num_threshold): #corrects for overflow\n",
    "            return num + num_counter*num_threshold\n",
    "        \n",
    "        for line in rfile:\n",
    "            line_counter+=1\n",
    "            if line_counter < BEGINLINE:\n",
    "    #            toa_overflow_counter =3 #for 12_000_000\n",
    "                continue\n",
    "                \n",
    "            if line_counter %1_000_000 == 0:\n",
    "                print(f'{line_counter:_} lines read')\n",
    "\n",
    "            \n",
    "            if batch % NBATCH == 0 and batch>0 and df_str != '':\n",
    "                df_str='toa,tot,x,y,tdc1,tdc2,batch\\n'+df_str\n",
    "                to_write = final_processing(df_str)\n",
    "                afile.write(to_write)\n",
    "                to_write = ''\n",
    "                #break\n",
    "                df_str = ''\n",
    "                print(f'\\nBatch numer {batch:_} is written')\n",
    "                print(f'{line_counter:_} lines read')\n",
    "                print('-----')\n",
    "\n",
    "\n",
    "                \n",
    "            if batch == NTOTBATCHES:\n",
    "                print('NBATCHES reached')\n",
    "                break\n",
    "            if line_counter == NLINES:\n",
    "                print('NLINES reached')\n",
    "                break\n",
    "\n",
    "                    \n",
    "############################################ TOA #######################################\n",
    "                \n",
    "                \n",
    "            str_list = line.split('TOA:')\n",
    "            try:\n",
    "                toa_prev = toa\n",
    "                toa = np.float64(str_list[1].split(',')[0])\n",
    "                toa2 = toa\n",
    "                toa = overflow_corr(toa,toa_overflow_counter,toa_overflow_threshold)\n",
    "                    \n",
    "                if toa_prev > toa + overflow_threshold:\n",
    "                    \n",
    "                    toa_overflow_counter += 1\n",
    "                    #print('toa2 %s tdc1 %s' % (toa2,tdc1))\n",
    "                    #print('toa_prev %s toa %s toa_prev-toa %s' % (toa_prev,toa,toa_prev-toa))\n",
    "                    toa += toa_overflow_threshold\n",
    "                    print('### TOA Overflow NO %s' %toa_overflow_counter )\n",
    "                    print('toa_prev %s toa %s tdc1 %s tdc2 %s'  % (toa_prev,toa,tdc1,tdc2))\n",
    "                    \n",
    "\n",
    "                \n",
    "            except IndexError: # This only happens for tdc lines\n",
    "                continue\n",
    "\n",
    "                \n",
    "############################################ TDC2  #######################################\n",
    "\n",
    "                \n",
    "            # tdc2 iterator is only updated when the difference of toa with the current tdc2\n",
    "            # is greater than the difference of toa with the next tdc2\n",
    "            while abs(toa-tdc2) >= abs(toa-tdc2_next):\n",
    "                tdc2 = tdc2_next\n",
    "                tdc2_next = next(tdc2_iter)\n",
    "                \n",
    "                # Handle overflow\n",
    "                tdc2_next = overflow_corr(tdc2_next,tdc2_overflow_counter,tdc_overflow_threshold)\n",
    "                \n",
    "                if tdc2 > tdc2_next+overflow_threshold:\n",
    "                   # print('tdc2 %s tdc2_next %s tdc1 %s toa %s' % (tdc2,tdc2_next ,tdc1,toa))\n",
    "\n",
    "                    tdc2_overflow_counter += 1\n",
    "                    tdc2_next += tdc_overflow_threshold\n",
    "                    print('### TDC2 Overflow NO %s' %tdc2_overflow_counter )\n",
    "                    print('tdc2 %s tdc2_next %s tdc1 %s toa %s' % (tdc2,tdc2_next ,tdc1,toa))\n",
    "\n",
    "\n",
    "                    \n",
    "\n",
    "                    \n",
    "                tdc_updated = True\n",
    "    \n",
    "    \n",
    "############################################ MANY ELECTRON  #######################################\n",
    "\n",
    "            # We want to gate >1 electron events. This is achieved by putting a max-min threshold\n",
    "            # on x and y. \n",
    "        \n",
    "            # before we deal with many electrons we want to reject unphysical events. these are\n",
    "            # due to e.g. dark counts and faults of the detector\n",
    "            \n",
    "            if tdc_updated:\n",
    "                # *1e9 is to convert from s to ns\n",
    "                if (tdc2_batch-tdc1_batch)*1e9 < physical_max_t and \\\n",
    "                    (tdc2_batch-tdc1_batch)*1e9 > physical_min_t:\n",
    "                    if abs(xmax-xmin) < x_threshold and abs(ymax-ymin) < y_threshold:\n",
    "                        df_str = df_str + batch_lines\n",
    "                        batch += 1\n",
    "                    else:\n",
    "                        if np.random.rand()<1/1250:   # arbitrary number that determines when to plot pics\n",
    "                            many_e = pd.read_csv(StringIO('toa,tot,x,y,tdc1,tdc2,batch\\n'+batch_lines))\n",
    "                            try:\n",
    "                                many_e.plot(x='x',y='y',linestyle='None',marker='o')\n",
    "                                plt.show()\n",
    "                            except:\n",
    "                                None\n",
    "                        many_electron_reject +=1\n",
    "                        if many_electron_reject % 5_000==0:\n",
    "                            print(f'{many_electron_reject:_} physical batches were \\\n",
    "                                  rejected due to many electrons')\n",
    "                else:\n",
    "                    unphysical_reject += 1\n",
    "                    if unphysical_reject % 5_000 == 0:\n",
    "                        print(f'{unphysical_reject:_} batches were rejected due time gating')\n",
    "                        \n",
    "\n",
    "                    \n",
    "                tdc_updated = False\n",
    "                batch_lines =''\n",
    "                xmax = 0\n",
    "                xmin = 1000\n",
    "                ymax = 0\n",
    "                ymin = 1000\n",
    "                \n",
    "############################################ TDC1  #######################################\n",
    "\n",
    "\n",
    "            # when the difference bw tdc1 and toa exceeds the threshold we need to update tdc1\n",
    "            while toa-tdc1>=t1_eps:\n",
    "                tdc1 = tdc1_next\n",
    "                tdc1_next = next(tdc1_iter)\n",
    "                \n",
    "                # Handle overflow\n",
    "                tdc1_next = overflow_corr(tdc1_next,tdc1_overflow_counter,tdc_overflow_threshold)\n",
    "                \n",
    "                if tdc1 > tdc1_next + overflow_threshold:\n",
    "                    tdc1_overflow_counter += 1\n",
    "                   # print('tdc1 %s tdc1_next %s tdc2 %s toa %s' % (tdc1,tdc1_next ,tdc2,toa))\n",
    "\n",
    "                    tdc1_next += tdc_overflow_threshold\n",
    "                    print('### TDC1 Overflow NO %s' %tdc1_overflow_counter )\n",
    "                    print('tdc1 %s tdc1_next %s tdc2 %s toa %s' % (tdc1,tdc1_next ,tdc2,toa))\n",
    "\n",
    "\n",
    "                \n",
    "                \n",
    "            if toa-tdc1 >=0 and toa-tdc1<t1_eps:  \n",
    "                # We assume that tdc1 signal must be the first signal hence >0\n",
    "                # if the difference between time of arrival (toa) and tdc1 signal\n",
    "                # is below threshold and toa-tdc2 is below threshold we write into the file\n",
    "                if abs(toa-tdc2) < t2_eps:\n",
    "                    line = ''.join(re_search.split(line))[:-1] + (', %s , %s , %s\\n' % (tdc1,tdc2,batch))\n",
    "                    tdc1_batch = tdc1\n",
    "                    tdc2_batch = tdc2\n",
    "                    batch_lines = batch_lines + line\n",
    "                    x,y = line.split(',')[2:4]\n",
    "                    x,y = int(x),int(y)\n",
    "                    xmax = max(x,xmax)\n",
    "                    xmin = min(x,xmin)\n",
    "                    ymax = max(y,ymax)\n",
    "                    ymin = min(y,ymin)\n",
    "                else:\n",
    "                    tdc2_reject +=1\n",
    "                    if tdc2_reject %100_000 == 0:\n",
    "                        print(f'{tdc2_reject:_} lines were rejected due to tdc2 mismatch')\n",
    "            else:\n",
    "                tdc1_reject += 1\n",
    "                if tdc1_reject %100_000 == 0:\n",
    "                        print(f'{tdc1_reject:_} lines were rejected due to tdc1 mismatch')\n",
    "                        \n",
    "print('\\n #########______######### \\n')\n",
    "\n",
    "\n",
    "\n"
   ]
  },
  {
   "cell_type": "code",
   "execution_count": 98,
   "metadata": {
    "scrolled": true
   },
   "outputs": [
    {
     "name": "stdout",
     "output_type": "stream",
     "text": [
      "tdc1_reject: 3_114_600 \n",
      "\n",
      "tdc2_reject: 19_274_108 \n",
      "\n",
      "many_electron_reject: 68_159 \n",
      "\n",
      "tdc1_overflow_counter: 6 \n",
      "\n",
      "tdc2_overflow_counter: 6 \n",
      "\n",
      "unphysical_reject: 691_631 \n",
      "\n",
      "batch: 117_928 \n",
      "\n"
     ]
    }
   ],
   "source": [
    "all_counters = {'tdc1_reject':tdc1_reject,'tdc2_reject':tdc2_reject,\n",
    "               'many_electron_reject':many_electron_reject,\n",
    "               'tdc1_overflow_counter':tdc1_overflow_counter,\n",
    "               'tdc2_overflow_counter':tdc2_overflow_counter,\n",
    "               'unphysical_reject':unphysical_reject,\n",
    "               'batch':batch}\n",
    "for name,val in all_counters.items():\n",
    "    print(f'{name}: {val:_} \\n')"
   ]
  },
  {
   "cell_type": "code",
   "execution_count": 36,
   "metadata": {
    "scrolled": false
   },
   "outputs": [
    {
     "name": "stdout",
     "output_type": "stream",
     "text": [
      "tdc1_reject: 68_201 \n",
      "\n",
      "tdc2_reject: 173_222 \n",
      "\n",
      "many_electron_reject: 117 \n",
      "\n",
      "tdc1_overflow_counter: 0 \n",
      "\n",
      "tdc2_overflow_counter: 0 \n",
      "\n",
      "unphysical_reject: 21_396 \n",
      "\n"
     ]
    }
   ],
   "source": [
    "for name,val in all_counters.items():\n",
    "    print(f'{name}: {val:_} \\n')"
   ]
  },
  {
   "cell_type": "code",
   "execution_count": 95,
   "metadata": {},
   "outputs": [],
   "source": [
    "tmp =  pd.read_csv('new_background11.csv')\n",
    "tmp.delta_t = tmp.delta_t*1e9"
   ]
  },
  {
   "cell_type": "code",
   "execution_count": 96,
   "metadata": {},
   "outputs": [
    {
     "data": {
      "text/html": [
       "<div>\n",
       "<style scoped>\n",
       "    .dataframe tbody tr th:only-of-type {\n",
       "        vertical-align: middle;\n",
       "    }\n",
       "\n",
       "    .dataframe tbody tr th {\n",
       "        vertical-align: top;\n",
       "    }\n",
       "\n",
       "    .dataframe thead th {\n",
       "        text-align: right;\n",
       "    }\n",
       "</style>\n",
       "<table border=\"1\" class=\"dataframe\">\n",
       "  <thead>\n",
       "    <tr style=\"text-align: right;\">\n",
       "      <th></th>\n",
       "      <th>batch</th>\n",
       "      <th>x</th>\n",
       "      <th>y</th>\n",
       "      <th>delta_t</th>\n",
       "    </tr>\n",
       "  </thead>\n",
       "  <tbody>\n",
       "    <tr>\n",
       "      <th>count</th>\n",
       "      <td>110000.000000</td>\n",
       "      <td>110000.000000</td>\n",
       "      <td>110000.000000</td>\n",
       "      <td>110000.000000</td>\n",
       "    </tr>\n",
       "    <tr>\n",
       "      <th>mean</th>\n",
       "      <td>54999.500000</td>\n",
       "      <td>95.933292</td>\n",
       "      <td>100.301015</td>\n",
       "      <td>4790.052696</td>\n",
       "    </tr>\n",
       "    <tr>\n",
       "      <th>std</th>\n",
       "      <td>31754.409143</td>\n",
       "      <td>32.648802</td>\n",
       "      <td>28.162456</td>\n",
       "      <td>0.980316</td>\n",
       "    </tr>\n",
       "    <tr>\n",
       "      <th>min</th>\n",
       "      <td>0.000000</td>\n",
       "      <td>43.074919</td>\n",
       "      <td>24.296113</td>\n",
       "      <td>4785.418696</td>\n",
       "    </tr>\n",
       "    <tr>\n",
       "      <th>25%</th>\n",
       "      <td>27499.750000</td>\n",
       "      <td>70.558930</td>\n",
       "      <td>80.337601</td>\n",
       "      <td>4789.324976</td>\n",
       "    </tr>\n",
       "    <tr>\n",
       "      <th>50%</th>\n",
       "      <td>54999.500000</td>\n",
       "      <td>90.675468</td>\n",
       "      <td>98.975940</td>\n",
       "      <td>4790.100093</td>\n",
       "    </tr>\n",
       "    <tr>\n",
       "      <th>75%</th>\n",
       "      <td>82499.250000</td>\n",
       "      <td>116.983751</td>\n",
       "      <td>119.817289</td>\n",
       "      <td>4790.624999</td>\n",
       "    </tr>\n",
       "    <tr>\n",
       "      <th>max</th>\n",
       "      <td>109999.000000</td>\n",
       "      <td>214.823393</td>\n",
       "      <td>195.395987</td>\n",
       "      <td>4794.793995</td>\n",
       "    </tr>\n",
       "  </tbody>\n",
       "</table>\n",
       "</div>"
      ],
      "text/plain": [
       "               batch              x              y        delta_t\n",
       "count  110000.000000  110000.000000  110000.000000  110000.000000\n",
       "mean    54999.500000      95.933292     100.301015    4790.052696\n",
       "std     31754.409143      32.648802      28.162456       0.980316\n",
       "min         0.000000      43.074919      24.296113    4785.418696\n",
       "25%     27499.750000      70.558930      80.337601    4789.324976\n",
       "50%     54999.500000      90.675468      98.975940    4790.100093\n",
       "75%     82499.250000     116.983751     119.817289    4790.624999\n",
       "max    109999.000000     214.823393     195.395987    4794.793995"
      ]
     },
     "execution_count": 96,
     "metadata": {},
     "output_type": "execute_result"
    }
   ],
   "source": [
    "tmp.describe()"
   ]
  },
  {
   "cell_type": "code",
   "execution_count": null,
   "metadata": {
    "scrolled": true
   },
   "outputs": [],
   "source": [
    "tmp2 = pd.read_csv('preprocessed11.csv')\n",
    "tmp2.info()"
   ]
  },
  {
   "cell_type": "code",
   "execution_count": null,
   "metadata": {},
   "outputs": [],
   "source": [
    "tmp2=final_processing(tmp2,debug=True)"
   ]
  },
  {
   "cell_type": "code",
   "execution_count": null,
   "metadata": {
    "scrolled": false
   },
   "outputs": [],
   "source": [
    "x,y=line_hist(tmp.delta_t*1e9,bins=np.linspace(4785,4795,105),normalized=False,linestyle='None')"
   ]
  },
  {
   "cell_type": "code",
   "execution_count": null,
   "metadata": {},
   "outputs": [],
   "source": []
  },
  {
   "cell_type": "code",
   "execution_count": null,
   "metadata": {},
   "outputs": [],
   "source": [
    "(x*y).sum()/y.sum()"
   ]
  },
  {
   "cell_type": "code",
   "execution_count": null,
   "metadata": {},
   "outputs": [],
   "source": [
    "x,y=line_hist(tmp.delta_t*1e9,bins=np.linspace(0,10000,5000),normalized=False,linestyle='None')\n",
    "ycs = np.cumsum(y)\n",
    "plt.plot(x,ycs/ycs[-1])"
   ]
  },
  {
   "cell_type": "code",
   "execution_count": null,
   "metadata": {},
   "outputs": [],
   "source": [
    "(tmp['delta_t']*1e9<4795).sum()"
   ]
  },
  {
   "cell_type": "code",
   "execution_count": null,
   "metadata": {},
   "outputs": [],
   "source": [
    "sns.displot(data=tmp[tmp['delta_t']*1e9<4795],x='x',y='y',bins=100)"
   ]
  },
  {
   "cell_type": "code",
   "execution_count": null,
   "metadata": {},
   "outputs": [],
   "source": []
  },
  {
   "cell_type": "code",
   "execution_count": null,
   "metadata": {},
   "outputs": [],
   "source": [
    "tmp.loc[26_715].toa1"
   ]
  },
  {
   "cell_type": "code",
   "execution_count": null,
   "metadata": {},
   "outputs": [],
   "source": [
    "np.longdouble?"
   ]
  },
  {
   "cell_type": "code",
   "execution_count": null,
   "metadata": {},
   "outputs": [],
   "source": [
    "print(final_processing(df_str))"
   ]
  },
  {
   "cell_type": "code",
   "execution_count": null,
   "metadata": {},
   "outputs": [],
   "source": [
    "pd.read_csv('preprocessed110.csv')"
   ]
  },
  {
   "cell_type": "code",
   "execution_count": null,
   "metadata": {},
   "outputs": [],
   "source": [
    "np.finfo('longdouble')"
   ]
  },
  {
   "cell_type": "code",
   "execution_count": null,
   "metadata": {},
   "outputs": [],
   "source": [
    "np.finfo('float64')"
   ]
  },
  {
   "cell_type": "code",
   "execution_count": null,
   "metadata": {},
   "outputs": [],
   "source": []
  }
 ],
 "metadata": {
  "kernelspec": {
   "display_name": "Python 3",
   "language": "python",
   "name": "python3"
  },
  "language_info": {
   "codemirror_mode": {
    "name": "ipython",
    "version": 3
   },
   "file_extension": ".py",
   "mimetype": "text/x-python",
   "name": "python",
   "nbconvert_exporter": "python",
   "pygments_lexer": "ipython3",
   "version": "3.8.5"
  }
 },
 "nbformat": 4,
 "nbformat_minor": 4
}
