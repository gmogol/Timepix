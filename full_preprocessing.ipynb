{
 "cells": [
  {
   "cell_type": "code",
   "execution_count": 24,
   "metadata": {},
   "outputs": [],
   "source": [
    "import pandas as pd\n",
    "import matplotlib.pyplot as plt\n",
    "import numpy as np\n",
    "from ipynb.fs.defs.tdc_data_analysis import line_hist"
   ]
  },
  {
   "cell_type": "code",
   "execution_count": null,
   "metadata": {},
   "outputs": [],
   "source": []
  },
  {
   "cell_type": "code",
   "execution_count": 2,
   "metadata": {},
   "outputs": [],
   "source": [
    "def preproces_tdcs(filename=None,debug=False,tdc_df=None):\n",
    "    ''' \n",
    "    Args:\n",
    "        filename : string\n",
    "            name of the file\n",
    "        debug : bool\n",
    "              if True returns all dataframes\n",
    "        tdc_df : pd.DataFrame Object\n",
    "            instead of reading from file one can give the df directly\n",
    "    Returns:\n",
    "        time_df : pd.DataFrame Object\n",
    "            \n",
    "    It takes the data file for TDC's ONLY, which is assumed to be in the form\n",
    "    TDCn: t0.\n",
    "    We first seperate TDC's apart and then merge them, which creates nulls.\n",
    "    The nulls for TDC2 are back filled i.e. if a cell N is null then it's filled \n",
    "    with the last cell <N which isn't null. TDC1 nulls aren't filled but rather dropped\n",
    "    because we are really interested in TDC2. Finally we calculate the time difference\n",
    "    between TD1 and TDC2. Finally we gate the difference by 5*10^4 ns = 50 us.\n",
    "    '''\n",
    "    if filename is not None:\n",
    "        tpx_df =pd.read_csv(filename,\n",
    "                    sep=':',\n",
    "                    error_bad_lines=False,\n",
    "                    warn_bad_lines=False,\n",
    "                    header=None)\n",
    "    elif tdc_df is not None:\n",
    "        tpx_df = tdc_df\n",
    "    else:\n",
    "        raise(Exception('Either a filename or a tdc data frame needs to be given!'))\n",
    "    tpx_df.columns = ['tdc','time']\n",
    "\n",
    "    print('tpx_df nulls\\n',tpx_df.isna().sum())\n",
    "    tdc_one = tpx_df[tpx_df.tdc == 'TDC1']\n",
    "    tdc_two = tpx_df[tpx_df.tdc == 'TDC2']\n",
    "    time_df = tdc_one[['time']].join(tdc_two.time,how='outer',lsuffix='1',rsuffix='2')\n",
    "    time_df['time2'] = time_df['time2'].fillna(method='bfill')\n",
    "    time_df['time1'] = time_df['time1'].fillna(method='bfill')\n",
    "\n",
    "    #time_df.dropna(inplace=True)\n",
    "    time_df = time_df.astype(np.float64)\n",
    "    time_df['delta_t'] = (time_df.time2-time_df.time1)*1e9\n",
    "    time_df.reset_index(inplace=True)\n",
    "    time_df.drop('index',axis=1,inplace=True)\n",
    "    #time_df = time_df[np.abs(time_df.delta_t)< 5e3]\n",
    "    if debug:\n",
    "        return tpx_df, tdc_one, tdc_two, time_df\n",
    "    else:\n",
    "        print(time_df.head(10))\n",
    "        return time_df"
   ]
  },
  {
   "cell_type": "code",
   "execution_count": 232,
   "metadata": {},
   "outputs": [
    {
     "name": "stdout",
     "output_type": "stream",
     "text": [
      "tpx_df nulls\n",
      " tdc     0\n",
      "time    0\n",
      "dtype: int64\n"
     ]
    }
   ],
   "source": [
    "_,tdc_one_bg, tdc_two_bg,_= preproces_tdcs('tdc8.txt',debug=True)"
   ]
  },
  {
   "cell_type": "code",
   "execution_count": null,
   "metadata": {},
   "outputs": [],
   "source": []
  },
  {
   "cell_type": "code",
   "execution_count": null,
   "metadata": {},
   "outputs": [],
   "source": []
  },
  {
   "cell_type": "code",
   "execution_count": 4,
   "metadata": {},
   "outputs": [
    {
     "data": {
      "text/plain": [
       "638120"
      ]
     },
     "execution_count": 4,
     "metadata": {},
     "output_type": "execute_result"
    }
   ],
   "source": [
    "len(tdc_one_bg)"
   ]
  },
  {
   "cell_type": "code",
   "execution_count": 5,
   "metadata": {},
   "outputs": [
    {
     "data": {
      "text/plain": [
       "747017"
      ]
     },
     "execution_count": 5,
     "metadata": {},
     "output_type": "execute_result"
    }
   ],
   "source": [
    "len(tdc_two_bg)"
   ]
  },
  {
   "cell_type": "code",
   "execution_count": 6,
   "metadata": {},
   "outputs": [
    {
     "data": {
      "text/plain": [
       "638120"
      ]
     },
     "execution_count": 6,
     "metadata": {},
     "output_type": "execute_result"
    }
   ],
   "source": [
    "len(tdc_one_bg)"
   ]
  },
  {
   "cell_type": "code",
   "execution_count": 104,
   "metadata": {},
   "outputs": [],
   "source": [
    "def final_processing(df_str,debug=False):\n",
    "    if debug:\n",
    "        tpx_data = df_str\n",
    "    else:\n",
    "        tpx_data = pd.read_csv(StringIO(df_str),index_col=False)\n",
    "    tpx_data['totx'] = tpx_data['tot']*tpx_data['x']\n",
    "    tpx_data['toty'] = tpx_data['tot']*tpx_data['y']\n",
    "    tpx_data['toa1'] = (tpx_data['toa']-tpx_data['tdc1'])\n",
    "    tpx_data['toa2'] = (tpx_data['tdc2']-tpx_data['toa'])\n",
    "    tpx_data['delta_t'] = (tpx_data['tdc2']-tpx_data['tdc1'])\n",
    "    tpx_data['ones'] =1\n",
    "    batches = tpx_data.groupby('batch').sum()\n",
    "    batches['toa1'] = batches['toa1']/batches['ones']\n",
    "    batches['toa2'] = batches['toa2']/batches['ones']\n",
    "    batches['delta_t'] = batches['delta_t']/batches['ones']\n",
    "    batches['x'] = batches['totx']/batches['tot']\n",
    "    batches['y'] = batches['toty']/batches['tot']\n",
    "    batches.drop(['toa','tot','tdc1','tdc2','totx','toty','ones'],axis=1,inplace=True)\n",
    "    if debug:\n",
    "        return batches\n",
    "    return batches.to_csv(header=False)"
   ]
  },
  {
   "cell_type": "code",
   "execution_count": 8,
   "metadata": {},
   "outputs": [],
   "source": [
    "from io import StringIO"
   ]
  },
  {
   "cell_type": "code",
   "execution_count": 9,
   "metadata": {},
   "outputs": [
    {
     "data": {
      "text/plain": [
       "26.8435456"
      ]
     },
     "execution_count": 9,
     "metadata": {},
     "output_type": "execute_result"
    }
   ],
   "source": [
    "np.float64(25*2**30/1e9)"
   ]
  },
  {
   "cell_type": "code",
   "execution_count": 10,
   "metadata": {},
   "outputs": [
    {
     "ename": "NameError",
     "evalue": "name 'line_counter' is not defined",
     "output_type": "error",
     "traceback": [
      "\u001b[0;31m---------------------------------------------------------------------------\u001b[0m",
      "\u001b[0;31mNameError\u001b[0m                                 Traceback (most recent call last)",
      "\u001b[0;32m<ipython-input-10-b450ef05062d>\u001b[0m in \u001b[0;36m<module>\u001b[0;34m\u001b[0m\n\u001b[0;32m----> 1\u001b[0;31m \u001b[0mprint\u001b[0m\u001b[0;34m(\u001b[0m\u001b[0;34mf\"Line is {line_counter:,}\"\u001b[0m\u001b[0;34m)\u001b[0m\u001b[0;34m\u001b[0m\u001b[0;34m\u001b[0m\u001b[0m\n\u001b[0m",
      "\u001b[0;31mNameError\u001b[0m: name 'line_counter' is not defined"
     ]
    }
   ],
   "source": [
    "print(f\"Line is {line_counter:,}\")"
   ]
  },
  {
   "cell_type": "code",
   "execution_count": 233,
   "metadata": {
    "scrolled": false
   },
   "outputs": [
    {
     "name": "stdout",
     "output_type": "stream",
     "text": [
      "1_000_000 lines read\n",
      "100_000 lines were rejected due to tdc2 mismatch\n",
      "2_000_000 lines read\n",
      "200_000 lines were rejected due to tdc2 mismatch\n",
      "\n",
      "Batch numer 20_000 is written\n",
      "2_331_179 lines read\n",
      "-----\n",
      "5_000 batches were rejected due to many electrons\n"
     ]
    },
    {
     "data": {
      "image/png": "[encoded data removed]",
      "text/plain": [
       "<Figure size 432x288 with 1 Axes>"
      ]
     },
     "metadata": {
      "needs_background": "light"
     },
     "output_type": "display_data"
    },
    {
     "name": "stdout",
     "output_type": "stream",
     "text": [
      "3_000_000 lines read\n",
      "100_000 lines were rejected due to tdc1 mismatch\n",
      "### TOA Overflow NO 1\n",
      "toa_prev 26.8432881046875 toa 26.844766946874998 tdc1 26.8432837567688 tdc2 26.8432885492187\n",
      "300_000 lines were rejected due to tdc2 mismatch\n"
     ]
    },
    {
     "data": {
      "image/png": "[encoded data removed]",
      "text/plain": [
       "<Figure size 432x288 with 1 Axes>"
      ]
     },
     "metadata": {
      "needs_background": "light"
     },
     "output_type": "display_data"
    },
    {
     "name": "stdout",
     "output_type": "stream",
     "text": [
      "4_000_000 lines read\n",
      "10_000 batches were rejected due to many electrons\n",
      "400_000 lines were rejected due to tdc2 mismatch\n",
      "\n",
      "Batch numer 40_000 is written\n",
      "4_666_546 lines read\n",
      "-----\n",
      "5_000_000 lines read\n"
     ]
    },
    {
     "data": {
      "image/png": "[encoded data removed]",
      "text/plain": [
       "<Figure size 432x288 with 1 Axes>"
      ]
     },
     "metadata": {
      "needs_background": "light"
     },
     "output_type": "display_data"
    },
    {
     "data": {
      "image/png": "[encoded data removed]",
      "text/plain": [
       "<Figure size 432x288 with 1 Axes>"
      ]
     },
     "metadata": {
      "needs_background": "light"
     },
     "output_type": "display_data"
    },
    {
     "name": "stdout",
     "output_type": "stream",
     "text": [
      "500_000 lines were rejected due to tdc2 mismatch\n",
      "200_000 lines were rejected due to tdc1 mismatch\n"
     ]
    },
    {
     "data": {
      "image/png": "[encoded data removed]",
      "text/plain": [
       "<Figure size 432x288 with 1 Axes>"
      ]
     },
     "metadata": {
      "needs_background": "light"
     },
     "output_type": "display_data"
    },
    {
     "name": "stdout",
     "output_type": "stream",
     "text": [
      "6_000_000 lines read\n"
     ]
    },
    {
     "data": {
      "image/png": "[encoded data removed]",
      "text/plain": [
       "<Figure size 432x288 with 1 Axes>"
      ]
     },
     "metadata": {
      "needs_background": "light"
     },
     "output_type": "display_data"
    },
    {
     "name": "stdout",
     "output_type": "stream",
     "text": [
      "### TOA Overflow NO 2\n",
      "toa_prev 53.6860586046875 toa 53.6870919171875 tdc1 53.686054253125 tdc2 53.686059040625\n",
      "15_000 batches were rejected due to many electrons\n",
      "600_000 lines were rejected due to tdc2 mismatch\n",
      "7_000_000 lines read\n",
      "\n",
      "Batch numer 60_000 is written\n",
      "7_003_923 lines read\n",
      "-----\n",
      "8_000_000 lines read\n",
      "700_000 lines were rejected due to tdc2 mismatch\n",
      "300_000 lines were rejected due to tdc1 mismatch\n"
     ]
    },
    {
     "data": {
      "image/png": "[encoded data removed]",
      "text/plain": [
       "<Figure size 432x288 with 1 Axes>"
      ]
     },
     "metadata": {
      "needs_background": "light"
     },
     "output_type": "display_data"
    },
    {
     "name": "stdout",
     "output_type": "stream",
     "text": [
      "9_000_000 lines read\n",
      "20_000 batches were rejected due to many electrons\n",
      "800_000 lines were rejected due to tdc2 mismatch\n",
      "\n",
      "Batch numer 80_000 is written\n",
      "9_369_977 lines read\n",
      "-----\n",
      "10_000_000 lines read\n",
      "### TOA Overflow NO 3\n",
      "toa_prev 80.529615959375 toa 80.53076879062499 tdc1 80.5296271729126 tdc2 80.5294288893188\n",
      "900_000 lines were rejected due to tdc2 mismatch\n"
     ]
    },
    {
     "data": {
      "image/png": "[encoded data removed]",
      "text/plain": [
       "<Figure size 432x288 with 1 Axes>"
      ]
     },
     "metadata": {
      "needs_background": "light"
     },
     "output_type": "display_data"
    },
    {
     "name": "stdout",
     "output_type": "stream",
     "text": [
      "11_000_000 lines read\n",
      "25_000 batches were rejected due to many electrons\n",
      "1_000_000 lines were rejected due to tdc2 mismatch\n",
      "\n",
      "Batch numer 100_000 is written\n",
      "11_723_762 lines read\n",
      "-----\n",
      "400_000 lines were rejected due to tdc1 mismatch\n",
      "12_000_000 lines read\n",
      "1_100_000 lines were rejected due to tdc2 mismatch\n",
      "13_000_000 lines read\n",
      "30_000 batches were rejected due to many electrons\n",
      "### TDC2 Overflow NO 1\n",
      "tdc2 107.372405525519 tdc2_next 107.37467885468749 tdc1 107.371344810156 toa 107.3723913265625\n",
      "### TOA Overflow NO 4\n",
      "toa_prev 107.3732297453125 toa 107.3746785125 tdc1 107.373225389319 tdc2 107.372405525519\n",
      "### TDC1 Overflow NO 1\n",
      "tdc1 107.374165678644 tdc1_next 107.3751059682251 tdc2 107.37467885468749 toa 107.3746785125\n",
      "1_200_000 lines were rejected due to tdc2 mismatch\n",
      "14_000_000 lines read\n",
      "\n",
      "Batch numer 120_000 is written\n",
      "14_103_460 lines read\n",
      "-----\n",
      "500_000 lines were rejected due to tdc1 mismatch\n"
     ]
    },
    {
     "data": {
      "image/png": "[encoded data removed]",
      "text/plain": [
       "<Figure size 432x288 with 1 Axes>"
      ]
     },
     "metadata": {
      "needs_background": "light"
     },
     "output_type": "display_data"
    },
    {
     "name": "stdout",
     "output_type": "stream",
     "text": [
      "15_000_000 lines read\n",
      "1_300_000 lines were rejected due to tdc2 mismatch\n"
     ]
    },
    {
     "data": {
      "image/png": "[encoded data removed]",
      "text/plain": [
       "<Figure size 432x288 with 1 Axes>"
      ]
     },
     "metadata": {
      "needs_background": "light"
     },
     "output_type": "display_data"
    },
    {
     "data": {
      "image/png": "[encoded data removed]",
      "text/plain": [
       "<Figure size 432x288 with 1 Axes>"
      ]
     },
     "metadata": {
      "needs_background": "light"
     },
     "output_type": "display_data"
    },
    {
     "name": "stdout",
     "output_type": "stream",
     "text": [
      "35_000 batches were rejected due to many electrons\n",
      "16_000_000 lines read\n",
      "1_400_000 lines were rejected due to tdc2 mismatch\n",
      "\n",
      "Batch numer 140_000 is written\n",
      "16_457_260 lines read\n",
      "-----\n",
      "17_000_000 lines read\n",
      "### TOA Overflow NO 5\n",
      "toa_prev 134.2176698828125 toa 134.2184914734375 tdc1 134.21770172291258 tdc2 134.21767029765618\n",
      "1_500_000 lines were rejected due to tdc2 mismatch\n",
      "600_000 lines were rejected due to tdc1 mismatch\n",
      "18_000_000 lines read\n",
      "40_000 batches were rejected due to many electrons\n",
      "1_600_000 lines were rejected due to tdc2 mismatch\n",
      "\n",
      "Batch numer 160_000 is written\n",
      "18_785_716 lines read\n",
      "-----\n",
      "19_000_000 lines read\n",
      "1_700_000 lines were rejected due to tdc2 mismatch\n",
      "20_000_000 lines read\n",
      "45_000 batches were rejected due to many electrons\n",
      "700_000 lines were rejected due to tdc1 mismatch\n",
      "### TOA Overflow NO 6\n",
      "toa_prev 161.06071669375 toa 161.0613956 tdc1 161.0603990572876 tdc2 161.0605327471313\n",
      "1_800_000 lines were rejected due to tdc2 mismatch\n"
     ]
    },
    {
     "data": {
      "image/png": "[encoded data removed]",
      "text/plain": [
       "<Figure size 432x288 with 1 Axes>"
      ]
     },
     "metadata": {
      "needs_background": "light"
     },
     "output_type": "display_data"
    },
    {
     "name": "stdout",
     "output_type": "stream",
     "text": [
      "21_000_000 lines read\n",
      "\n",
      "Batch numer 180_000 is written\n",
      "21_164_141 lines read\n",
      "-----\n",
      "1_900_000 lines were rejected due to tdc2 mismatch\n",
      "22_000_000 lines read\n"
     ]
    },
    {
     "data": {
      "image/png": "[encoded data removed]",
      "text/plain": [
       "<Figure size 432x288 with 1 Axes>"
      ]
     },
     "metadata": {
      "needs_background": "light"
     },
     "output_type": "display_data"
    },
    {
     "name": "stdout",
     "output_type": "stream",
     "text": [
      "50_000 batches were rejected due to many electrons\n",
      "2_000_000 lines were rejected due to tdc2 mismatch\n",
      "23_000_000 lines read\n"
     ]
    },
    {
     "data": {
      "image/png": "[encoded data removed]",
      "text/plain": [
       "<Figure size 432x288 with 1 Axes>"
      ]
     },
     "metadata": {
      "needs_background": "light"
     },
     "output_type": "display_data"
    },
    {
     "data": {
      "image/png": "[encoded data removed]",
      "text/plain": [
       "<Figure size 432x288 with 1 Axes>"
      ]
     },
     "metadata": {
      "needs_background": "light"
     },
     "output_type": "display_data"
    },
    {
     "name": "stdout",
     "output_type": "stream",
     "text": [
      "\n",
      "Batch numer 200_000 is written\n",
      "23_506_796 lines read\n",
      "-----\n",
      "800_000 lines were rejected due to tdc1 mismatch\n",
      "24_000_000 lines read\n",
      "2_100_000 lines were rejected due to tdc2 mismatch\n",
      "### TOA Overflow NO 7\n",
      "toa_prev 187.904638953125 toa 187.9055133859375 tdc1 187.90399858255 tdc2 187.904639398175\n",
      "55_000 batches were rejected due to many electrons\n",
      "25_000_000 lines read\n",
      "2_200_000 lines were rejected due to tdc2 mismatch\n",
      "\n",
      "Batch numer 220_000 is written\n",
      "25_842_005 lines read\n",
      "-----\n",
      "26_000_000 lines read\n",
      "900_000 lines were rejected due to tdc1 mismatch\n",
      "2_300_000 lines were rejected due to tdc2 mismatch\n"
     ]
    },
    {
     "data": {
      "image/png": "[encoded data removed]",
      "text/plain": [
       "<Figure size 432x288 with 1 Axes>"
      ]
     },
     "metadata": {
      "needs_background": "light"
     },
     "output_type": "display_data"
    },
    {
     "name": "stdout",
     "output_type": "stream",
     "text": [
      "27_000_000 lines read\n",
      "60_000 batches were rejected due to many electrons\n"
     ]
    },
    {
     "data": {
      "image/png": "[encoded data removed]",
      "text/plain": [
       "<Figure size 432x288 with 1 Axes>"
      ]
     },
     "metadata": {
      "needs_background": "light"
     },
     "output_type": "display_data"
    },
    {
     "name": "stdout",
     "output_type": "stream",
     "text": [
      "2_400_000 lines were rejected due to tdc2 mismatch\n",
      "### TDC2 Overflow NO 2\n",
      "tdc2 214.747223045569 tdc2_next 214.74848888203124 tdc1 214.7447230526 toa 214.7472226578125\n",
      "### TDC1 Overflow NO 2\n",
      "tdc1 214.747543826819 tdc1_next 214.7484840927063 tdc2 214.747223045569 toa 214.7475482734375\n",
      "### TOA Overflow NO 8\n",
      "toa_prev 214.7482237921875 toa 214.7484885015625 tdc1 214.747543826819 tdc2 214.74848888203124\n",
      "28_000_000 lines read\n",
      "\n",
      "Batch numer 240_000 is written\n",
      "28_197_768 lines read\n",
      "-----\n",
      "2_500_000 lines were rejected due to tdc2 mismatch\n",
      "29_000_000 lines read\n",
      "1_000_000 lines were rejected due to tdc1 mismatch\n"
     ]
    },
    {
     "data": {
      "image/png": "[encoded data removed]",
      "text/plain": [
       "<Figure size 432x288 with 1 Axes>"
      ]
     },
     "metadata": {
      "needs_background": "light"
     },
     "output_type": "display_data"
    },
    {
     "name": "stdout",
     "output_type": "stream",
     "text": [
      "65_000 batches were rejected due to many electrons\n",
      "2_600_000 lines were rejected due to tdc2 mismatch\n",
      "30_000_000 lines read\n",
      "\n",
      "Batch numer 260_000 is written\n",
      "30_559_195 lines read\n",
      "-----\n",
      "31_000_000 lines read\n",
      "2_700_000 lines were rejected due to tdc2 mismatch\n",
      "### TOA Overflow NO 9\n",
      "toa_prev 241.5910723390625 toa 241.591946778125 tdc1 241.59106799583128 tdc2 241.59107278593748\n",
      "70_000 batches were rejected due to many electrons\n",
      "32_000_000 lines read\n",
      "1_100_000 lines were rejected due to tdc1 mismatch\n",
      "2_800_000 lines were rejected due to tdc2 mismatch\n",
      "\n",
      "Batch numer 280_000 is written\n",
      "32_910_710 lines read\n",
      "-----\n",
      "33_000_000 lines read\n",
      "2_900_000 lines were rejected due to tdc2 mismatch\n"
     ]
    },
    {
     "data": {
      "image/png": "[encoded data removed]",
      "text/plain": [
       "<Figure size 432x288 with 1 Axes>"
      ]
     },
     "metadata": {
      "needs_background": "light"
     },
     "output_type": "display_data"
    },
    {
     "name": "stdout",
     "output_type": "stream",
     "text": [
      "75_000 batches were rejected due to many electrons\n",
      "34_000_000 lines read\n",
      "### TOA Overflow NO 10\n",
      "toa_prev 268.4353778078125 toa 268.435687159375 tdc1 268.4347057057251 tdc2 268.4353782455688\n",
      "3_000_000 lines were rejected due to tdc2 mismatch\n",
      "35_000_000 lines read\n",
      "1_200_000 lines were rejected due to tdc1 mismatch\n",
      "\n",
      "Batch numer 300_000 is written\n",
      "35_267_857 lines read\n",
      "-----\n",
      "3_100_000 lines were rejected due to tdc2 mismatch\n",
      "36_000_000 lines read\n",
      "80_000 batches were rejected due to many electrons\n",
      "3_200_000 lines were rejected due to tdc2 mismatch\n",
      "37_000_000 lines read\n",
      "\n",
      "Batch numer 320_000 is written\n",
      "37_607_258 lines read\n",
      "-----\n",
      "1_300_000 lines were rejected due to tdc1 mismatch\n",
      "3_300_000 lines were rejected due to tdc2 mismatch\n",
      "### TOA Overflow NO 11\n",
      "toa_prev 295.2789614265625 toa 295.280051978125 tdc1 295.2783169807251 tdc2 295.27896187109377\n",
      "38_000_000 lines read\n",
      "85_000 batches were rejected due to many electrons\n",
      "39_000_000 lines read\n",
      "3_400_000 lines were rejected due to tdc2 mismatch\n",
      "\n",
      "Batch numer 340_000 is written\n",
      "39_933_961 lines read\n",
      "-----\n",
      "40_000_000 lines read\n",
      "3_500_000 lines were rejected due to tdc2 mismatch\n"
     ]
    },
    {
     "data": {
      "image/png": "[encoded data removed]",
      "text/plain": [
       "<Figure size 432x288 with 1 Axes>"
      ]
     },
     "metadata": {
      "needs_background": "light"
     },
     "output_type": "display_data"
    },
    {
     "name": "stdout",
     "output_type": "stream",
     "text": [
      "1_400_000 lines were rejected due to tdc1 mismatch\n",
      "90_000 batches were rejected due to many electrons\n",
      "41_000_000 lines read\n",
      "3_600_000 lines were rejected due to tdc2 mismatch\n",
      "### TDC2 Overflow NO 3\n",
      "tdc2 322.121583936456 tdc2_next 322.1227852703125 tdc1 322.120899995312 toa 322.121583540625\n",
      "### TDC1 Overflow NO 3\n",
      "tdc1 322.1218402375 tdc1_next 322.1227804799438 tdc2 322.1227852703125 toa 322.1223701265625\n",
      "### TOA Overflow NO 12\n",
      "toa_prev 322.12237011718753 toa 322.122784890625 tdc1 322.1218402375 tdc2 322.1227852703125\n",
      "42_000_000 lines read\n"
     ]
    },
    {
     "data": {
      "image/png": "[encoded data removed]",
      "text/plain": [
       "<Figure size 432x288 with 1 Axes>"
      ]
     },
     "metadata": {
      "needs_background": "light"
     },
     "output_type": "display_data"
    },
    {
     "data": {
      "image/png": "[encoded data removed]",
      "text/plain": [
       "<Figure size 432x288 with 1 Axes>"
      ]
     },
     "metadata": {
      "needs_background": "light"
     },
     "output_type": "display_data"
    },
    {
     "name": "stdout",
     "output_type": "stream",
     "text": [
      "\n",
      "Batch numer 360_000 is written\n",
      "42_297_760 lines read\n",
      "-----\n",
      "3_700_000 lines were rejected due to tdc2 mismatch\n",
      "43_000_000 lines read\n",
      "95_000 batches were rejected due to many electrons\n"
     ]
    },
    {
     "data": {
      "image/png": "[encoded data removed]",
      "text/plain": [
       "<Figure size 432x288 with 1 Axes>"
      ]
     },
     "metadata": {
      "needs_background": "light"
     },
     "output_type": "display_data"
    },
    {
     "name": "stdout",
     "output_type": "stream",
     "text": [
      "1_500_000 lines were rejected due to tdc1 mismatch\n",
      "3_800_000 lines were rejected due to tdc2 mismatch\n",
      "44_000_000 lines read\n",
      "\n",
      "Batch numer 380_000 is written\n",
      "44_650_449 lines read\n",
      "-----\n",
      "### TOA Overflow NO 13\n",
      "toa_prev 348.96519926562496 toa 348.96624572656253 tdc1 348.9643607447876 tdc2 348.96519971328127\n",
      "3_900_000 lines were rejected due to tdc2 mismatch\n",
      "45_000_000 lines read\n",
      "100_000 batches were rejected due to many electrons\n",
      "46_000_000 lines read\n",
      "4_000_000 lines were rejected due to tdc2 mismatch\n",
      "1_600_000 lines were rejected due to tdc1 mismatch\n"
     ]
    },
    {
     "data": {
      "image/png": "[encoded data removed]",
      "text/plain": [
       "<Figure size 432x288 with 1 Axes>"
      ]
     },
     "metadata": {
      "needs_background": "light"
     },
     "output_type": "display_data"
    },
    {
     "name": "stdout",
     "output_type": "stream",
     "text": [
      "47_000_000 lines read\n",
      "\n",
      "Batch numer 400_000 is written\n",
      "47_017_867 lines read\n",
      "-----\n"
     ]
    },
    {
     "data": {
      "image/png": "[encoded data removed]",
      "text/plain": [
       "<Figure size 432x288 with 1 Axes>"
      ]
     },
     "metadata": {
      "needs_background": "light"
     },
     "output_type": "display_data"
    },
    {
     "name": "stdout",
     "output_type": "stream",
     "text": [
      "4_100_000 lines were rejected due to tdc2 mismatch\n",
      "105_000 batches were rejected due to many electrons\n",
      "48_000_000 lines read\n",
      "### TOA Overflow NO 14\n",
      "toa_prev 375.8088105359375 toa 375.810338178125 tdc1 375.8085959494751 tdc2 375.8080836080688\n",
      "4_200_000 lines were rejected due to tdc2 mismatch\n",
      "49_000_000 lines read\n",
      "\n",
      "Batch numer 420_000 is written\n",
      "49_369_497 lines read\n",
      "-----\n",
      "1_700_000 lines were rejected due to tdc1 mismatch\n",
      "4_300_000 lines were rejected due to tdc2 mismatch\n",
      "110_000 batches were rejected due to many electrons\n",
      "50_000_000 lines read\n",
      "4_400_000 lines were rejected due to tdc2 mismatch\n"
     ]
    },
    {
     "data": {
      "image/png": "[encoded data removed]",
      "text/plain": [
       "<Figure size 432x288 with 1 Axes>"
      ]
     },
     "metadata": {
      "needs_background": "light"
     },
     "output_type": "display_data"
    },
    {
     "name": "stdout",
     "output_type": "stream",
     "text": [
      "51_000_000 lines read\n",
      "\n",
      "Batch numer 440_000 is written\n",
      "51_714_339 lines read\n",
      "-----\n",
      "### TOA Overflow NO 15\n",
      "toa_prev 402.652864628125 toa 402.65325868749994 tdc1 402.6523139710937 tdc2 402.6532590390625\n",
      "4_500_000 lines were rejected due to tdc2 mismatch\n",
      "52_000_000 lines read\n",
      "115_000 batches were rejected due to many electrons\n",
      "1_800_000 lines were rejected due to tdc1 mismatch\n",
      "53_000_000 lines read\n",
      "4_600_000 lines were rejected due to tdc2 mismatch\n",
      "54_000_000 lines read\n",
      "\n",
      "Batch numer 460_000 is written\n",
      "54_055_237 lines read\n",
      "-----\n",
      "4_700_000 lines were rejected due to tdc2 mismatch\n",
      "120_000 batches were rejected due to many electrons\n",
      "55_000_000 lines read\n",
      "### TDC2 Overflow NO 4\n",
      "tdc2 429.49596691249997 tdc2_next 429.4968547380188 tdc1 429.494085420312 toa 429.4956351296875\n",
      "### TDC1 Overflow NO 4\n",
      "tdc1 429.495966022656 tdc1_next 429.49690632369385 tdc2 429.49596691249997 toa 429.49596652500003\n",
      "### TOA Overflow NO 16\n",
      "toa_prev 429.49596647343753 toa 429.49685438593747 tdc1 429.495966022656 tdc2 429.49596691249997\n",
      "1_900_000 lines were rejected due to tdc1 mismatch\n",
      "4_800_000 lines were rejected due to tdc2 mismatch\n",
      "56_000_000 lines read\n"
     ]
    },
    {
     "data": {
      "image/png": "[encoded data removed]",
      "text/plain": [
       "<Figure size 432x288 with 1 Axes>"
      ]
     },
     "metadata": {
      "needs_background": "light"
     },
     "output_type": "display_data"
    },
    {
     "name": "stdout",
     "output_type": "stream",
     "text": [
      "\n",
      "Batch numer 480_000 is written\n",
      "56_406_006 lines read\n",
      "-----\n",
      "4_900_000 lines were rejected due to tdc2 mismatch\n",
      "125_000 batches were rejected due to many electrons\n",
      "57_000_000 lines read\n",
      "5_000_000 lines were rejected due to tdc2 mismatch\n",
      "58_000_000 lines read\n",
      "2_000_000 lines were rejected due to tdc1 mismatch\n"
     ]
    },
    {
     "data": {
      "image/png": "[encoded data removed]",
      "text/plain": [
       "<Figure size 432x288 with 1 Axes>"
      ]
     },
     "metadata": {
      "needs_background": "light"
     },
     "output_type": "display_data"
    },
    {
     "name": "stdout",
     "output_type": "stream",
     "text": [
      "### TOA Overflow NO 17\n",
      "toa_prev 456.3396248390625 toa 456.3404712421875 tdc1 456.33962049843745 tdc2 456.3396252880188\n",
      "\n",
      "Batch numer 500_000 is written\n",
      "58_740_470 lines read\n",
      "-----\n",
      "130_000 batches were rejected due to many electrons\n",
      "5_100_000 lines were rejected due to tdc2 mismatch\n",
      "59_000_000 lines read\n"
     ]
    },
    {
     "data": {
      "image/png": "[encoded data removed]",
      "text/plain": [
       "<Figure size 432x288 with 1 Axes>"
      ]
     },
     "metadata": {
      "needs_background": "light"
     },
     "output_type": "display_data"
    },
    {
     "name": "stdout",
     "output_type": "stream",
     "text": [
      "60_000_000 lines read\n",
      "5_200_000 lines were rejected due to tdc2 mismatch\n",
      "2_100_000 lines were rejected due to tdc1 mismatch\n",
      "61_000_000 lines read\n",
      "\n",
      "Batch numer 520_000 is written\n",
      "61_116_796 lines read\n",
      "-----\n",
      "135_000 batches were rejected due to many electrons\n"
     ]
    },
    {
     "data": {
      "image/png": "[encoded data removed]",
      "text/plain": [
       "<Figure size 432x288 with 1 Axes>"
      ]
     },
     "metadata": {
      "needs_background": "light"
     },
     "output_type": "display_data"
    },
    {
     "name": "stdout",
     "output_type": "stream",
     "text": [
      "5_300_000 lines were rejected due to tdc2 mismatch\n",
      "62_000_000 lines read\n",
      "### TOA Overflow NO 18\n",
      "toa_prev 483.18351573124994 toa 483.18575050156244 tdc1 483.18331601770626 tdc2 483.18284801041256\n",
      "5_400_000 lines were rejected due to tdc2 mismatch\n",
      "63_000_000 lines read\n",
      "140_000 batches were rejected due to many electrons\n",
      "\n",
      "Batch numer 540_000 is written\n",
      "63_491_228 lines read\n",
      "-----\n",
      "5_500_000 lines were rejected due to tdc2 mismatch\n",
      "2_200_000 lines were rejected due to tdc1 mismatch\n"
     ]
    },
    {
     "data": {
      "image/png": "[encoded data removed]",
      "text/plain": [
       "<Figure size 432x288 with 1 Axes>"
      ]
     },
     "metadata": {
      "needs_background": "light"
     },
     "output_type": "display_data"
    },
    {
     "name": "stdout",
     "output_type": "stream",
     "text": [
      "64_000_000 lines read\n",
      "5_600_000 lines were rejected due to tdc2 mismatch\n",
      "65_000_000 lines read\n"
     ]
    },
    {
     "data": {
      "image/png": "[encoded data removed]",
      "text/plain": [
       "<Figure size 432x288 with 1 Axes>"
      ]
     },
     "metadata": {
      "needs_background": "light"
     },
     "output_type": "display_data"
    },
    {
     "name": "stdout",
     "output_type": "stream",
     "text": [
      "### TOA Overflow NO 19\n",
      "toa_prev 510.0272774671875 toa 510.0279860828125 tdc1 510.02704129791255 tdc2 510.02727791614376\n",
      "145_000 batches were rejected due to many electrons\n",
      "\n",
      "Batch numer 560_000 is written\n",
      "65_806_999 lines read\n",
      "-----\n",
      "5_700_000 lines were rejected due to tdc2 mismatch\n",
      "66_000_000 lines read\n",
      "2_300_000 lines were rejected due to tdc1 mismatch\n",
      "67_000_000 lines read\n",
      "5_800_000 lines were rejected due to tdc2 mismatch\n",
      "68_000_000 lines read\n",
      "150_000 batches were rejected due to many electrons\n",
      "\n",
      "Batch numer 580_000 is written\n",
      "68_129_807 lines read\n",
      "-----\n",
      "5_900_000 lines were rejected due to tdc2 mismatch\n",
      "### TDC2 Overflow NO 5\n",
      "tdc2 536.870564239062 tdc2_next 536.87133654375 tdc1 536.868694326819 toa 536.8705638390625\n",
      "### TDC1 Overflow NO 5\n",
      "tdc1 536.8705747762999 tdc1_next 536.8715149361938 tdc2 536.870564239062 toa 536.8705638390625\n",
      "### TOA Overflow NO 20\n",
      "toa_prev 536.8705791234376 toa 536.871336159375 tdc1 536.8705747762999 tdc2 536.870564239062\n",
      "69_000_000 lines read\n",
      "6_000_000 lines were rejected due to tdc2 mismatch\n",
      "2_400_000 lines were rejected due to tdc1 mismatch\n",
      "70_000_000 lines read\n",
      "155_000 batches were rejected due to many electrons\n",
      "\n",
      "Batch numer 600_000 is written\n",
      "70_452_803 lines read\n",
      "-----\n",
      "6_100_000 lines were rejected due to tdc2 mismatch\n",
      "71_000_000 lines read\n"
     ]
    },
    {
     "data": {
      "image/png": "[encoded data removed]",
      "text/plain": [
       "<Figure size 432x288 with 1 Axes>"
      ]
     },
     "metadata": {
      "needs_background": "light"
     },
     "output_type": "display_data"
    },
    {
     "name": "stdout",
     "output_type": "stream",
     "text": [
      "6_200_000 lines were rejected due to tdc2 mismatch\n",
      "72_000_000 lines read\n",
      "### TOA Overflow NO 21\n",
      "toa_prev 563.7142355609375 toa 563.7145517328124 tdc1 563.7142405585938 tdc2 563.7139838151\n",
      "### TOA Overflow NO 22\n",
      "toa_prev 590.5576876593749 toa 590.5580972390624 tdc1 590.5569663591125 tdc2 590.5578788234375\n",
      "6_300_000 lines were rejected due to tdc2 mismatch\n",
      "160_000 batches were rejected due to many electrons\n",
      "6_400_000 lines were rejected due to tdc2 mismatch\n",
      "6_500_000 lines were rejected due to tdc2 mismatch\n",
      "6_600_000 lines were rejected due to tdc2 mismatch\n",
      "2_500_000 lines were rejected due to tdc1 mismatch\n",
      "6_700_000 lines were rejected due to tdc2 mismatch\n",
      "6_800_000 lines were rejected due to tdc2 mismatch\n",
      "73_000_000 lines read\n",
      "6_900_000 lines were rejected due to tdc2 mismatch\n",
      "165_000 batches were rejected due to many electrons\n",
      "7_000_000 lines were rejected due to tdc2 mismatch\n",
      "7_100_000 lines were rejected due to tdc2 mismatch\n",
      "7_200_000 lines were rejected due to tdc2 mismatch\n",
      "7_300_000 lines were rejected due to tdc2 mismatch\n",
      "7_400_000 lines were rejected due to tdc2 mismatch\n",
      "7_500_000 lines were rejected due to tdc2 mismatch\n",
      "7_600_000 lines were rejected due to tdc2 mismatch\n",
      "170_000 batches were rejected due to many electrons\n",
      "7_700_000 lines were rejected due to tdc2 mismatch\n",
      "74_000_000 lines read\n",
      "7_800_000 lines were rejected due to tdc2 mismatch\n",
      "7_900_000 lines were rejected due to tdc2 mismatch\n",
      "8_000_000 lines were rejected due to tdc2 mismatch\n",
      "8_100_000 lines were rejected due to tdc2 mismatch\n",
      "8_200_000 lines were rejected due to tdc2 mismatch\n",
      "8_300_000 lines were rejected due to tdc2 mismatch\n",
      "175_000 batches were rejected due to many electrons\n",
      "8_400_000 lines were rejected due to tdc2 mismatch\n",
      "8_500_000 lines were rejected due to tdc2 mismatch\n",
      "8_600_000 lines were rejected due to tdc2 mismatch\n",
      "75_000_000 lines read\n",
      "8_700_000 lines were rejected due to tdc2 mismatch\n",
      "8_800_000 lines were rejected due to tdc2 mismatch\n",
      "8_900_000 lines were rejected due to tdc2 mismatch\n",
      "180_000 batches were rejected due to many electrons\n",
      "9_000_000 lines were rejected due to tdc2 mismatch\n",
      "9_100_000 lines were rejected due to tdc2 mismatch\n",
      "9_200_000 lines were rejected due to tdc2 mismatch\n",
      "9_300_000 lines were rejected due to tdc2 mismatch\n",
      "2_600_000 lines were rejected due to tdc1 mismatch\n",
      "9_400_000 lines were rejected due to tdc2 mismatch\n",
      "9_500_000 lines were rejected due to tdc2 mismatch\n",
      "### TOA Overflow NO 23\n",
      "toa_prev 617.4014239781251 toa 617.4027627640625 tdc1 617.4007178117187 tdc2 617.4014311895812\n",
      "9_600_000 lines were rejected due to tdc2 mismatch\n",
      "76_000_000 lines read\n",
      "185_000 batches were rejected due to many electrons\n",
      "9_700_000 lines were rejected due to tdc2 mismatch\n",
      "9_800_000 lines were rejected due to tdc2 mismatch\n",
      "9_900_000 lines were rejected due to tdc2 mismatch\n",
      "10_000_000 lines were rejected due to tdc2 mismatch\n",
      "10_100_000 lines were rejected due to tdc2 mismatch\n",
      "10_200_000 lines were rejected due to tdc2 mismatch\n",
      "190_000 batches were rejected due to many electrons\n",
      "10_300_000 lines were rejected due to tdc2 mismatch\n",
      "10_400_000 lines were rejected due to tdc2 mismatch\n",
      "10_500_000 lines were rejected due to tdc2 mismatch\n",
      "77_000_000 lines read\n",
      "10_600_000 lines were rejected due to tdc2 mismatch\n",
      "10_700_000 lines were rejected due to tdc2 mismatch\n",
      "10_800_000 lines were rejected due to tdc2 mismatch\n",
      "10_900_000 lines were rejected due to tdc2 mismatch\n",
      "195_000 batches were rejected due to many electrons\n",
      "11_000_000 lines were rejected due to tdc2 mismatch\n",
      "11_100_000 lines were rejected due to tdc2 mismatch\n",
      "11_200_000 lines were rejected due to tdc2 mismatch\n",
      "11_300_000 lines were rejected due to tdc2 mismatch\n",
      "11_400_000 lines were rejected due to tdc2 mismatch\n",
      "11_500_000 lines were rejected due to tdc2 mismatch\n",
      "78_000_000 lines read\n",
      "11_600_000 lines were rejected due to tdc2 mismatch\n",
      "200_000 batches were rejected due to many electrons\n",
      "11_700_000 lines were rejected due to tdc2 mismatch\n",
      "11_800_000 lines were rejected due to tdc2 mismatch\n",
      "11_900_000 lines were rejected due to tdc2 mismatch\n",
      "12_000_000 lines were rejected due to tdc2 mismatch\n",
      "12_100_000 lines were rejected due to tdc2 mismatch\n",
      "2_700_000 lines were rejected due to tdc1 mismatch\n",
      "12_200_000 lines were rejected due to tdc2 mismatch\n",
      "205_000 batches were rejected due to many electrons\n",
      "12_300_000 lines were rejected due to tdc2 mismatch\n",
      "12_400_000 lines were rejected due to tdc2 mismatch\n",
      "79_000_000 lines read\n",
      "12_500_000 lines were rejected due to tdc2 mismatch\n",
      "12_600_000 lines were rejected due to tdc2 mismatch\n",
      "### TDC2 Overflow NO 6\n",
      "tdc2 644.244978251038 tdc2_next 644.2462492572876 tdc1 644.243414783594 toa 644.2449764890625\n",
      "### TDC1 Overflow NO 6\n",
      "tdc1 644.244355084631 tdc1_next 644.2452953859374 tdc2 644.244978251038 toa 644.2449764890625\n",
      "### TOA Overflow NO 24\n",
      "toa_prev 644.2449763328125 toa 644.246148403125 tdc1 644.244355084631 tdc2 644.244978251038\n",
      "12_700_000 lines were rejected due to tdc2 mismatch\n",
      "12_800_000 lines were rejected due to tdc2 mismatch\n",
      "12_900_000 lines were rejected due to tdc2 mismatch\n",
      "210_000 batches were rejected due to many electrons\n",
      "13_000_000 lines were rejected due to tdc2 mismatch\n",
      "13_100_000 lines were rejected due to tdc2 mismatch\n",
      "13_200_000 lines were rejected due to tdc2 mismatch\n",
      "13_300_000 lines were rejected due to tdc2 mismatch\n",
      "80_000_000 lines read\n",
      "2_800_000 lines were rejected due to tdc1 mismatch\n",
      "13_400_000 lines were rejected due to tdc2 mismatch\n",
      "13_500_000 lines were rejected due to tdc2 mismatch\n",
      "215_000 batches were rejected due to many electrons\n",
      "13_600_000 lines were rejected due to tdc2 mismatch\n",
      "13_700_000 lines were rejected due to tdc2 mismatch\n",
      "13_800_000 lines were rejected due to tdc2 mismatch\n",
      "13_900_000 lines were rejected due to tdc2 mismatch\n",
      "14_000_000 lines were rejected due to tdc2 mismatch\n",
      "14_100_000 lines were rejected due to tdc2 mismatch\n",
      "220_000 batches were rejected due to many electrons\n",
      "14_200_000 lines were rejected due to tdc2 mismatch\n",
      "81_000_000 lines read\n",
      "14_300_000 lines were rejected due to tdc2 mismatch\n",
      "14_400_000 lines were rejected due to tdc2 mismatch\n",
      "14_500_000 lines were rejected due to tdc2 mismatch\n",
      "14_600_000 lines were rejected due to tdc2 mismatch\n",
      "14_700_000 lines were rejected due to tdc2 mismatch\n",
      "225_000 batches were rejected due to many electrons\n",
      "14_800_000 lines were rejected due to tdc2 mismatch\n",
      "2_900_000 lines were rejected due to tdc1 mismatch\n",
      "14_900_000 lines were rejected due to tdc2 mismatch\n",
      "15_000_000 lines were rejected due to tdc2 mismatch\n",
      "15_100_000 lines were rejected due to tdc2 mismatch\n",
      "82_000_000 lines read\n",
      "15_200_000 lines were rejected due to tdc2 mismatch\n",
      "15_300_000 lines were rejected due to tdc2 mismatch\n",
      "15_400_000 lines were rejected due to tdc2 mismatch\n",
      "230_000 batches were rejected due to many electrons\n",
      "15_500_000 lines were rejected due to tdc2 mismatch\n",
      "15_600_000 lines were rejected due to tdc2 mismatch\n",
      "15_700_000 lines were rejected due to tdc2 mismatch\n",
      "### TOA Overflow NO 25\n",
      "toa_prev 671.0885234125 toa 671.089794490625 tdc1 671.0879696455688 tdc2 671.0888032132812\n",
      "15_800_000 lines were rejected due to tdc2 mismatch\n",
      "15_900_000 lines were rejected due to tdc2 mismatch\n",
      "16_000_000 lines were rejected due to tdc2 mismatch\n",
      "235_000 batches were rejected due to many electrons\n",
      "83_000_000 lines read\n",
      "16_100_000 lines were rejected due to tdc2 mismatch\n",
      "16_200_000 lines were rejected due to tdc2 mismatch\n",
      "16_300_000 lines were rejected due to tdc2 mismatch\n",
      "16_400_000 lines were rejected due to tdc2 mismatch\n",
      "16_500_000 lines were rejected due to tdc2 mismatch\n",
      "16_600_000 lines were rejected due to tdc2 mismatch\n",
      "16_700_000 lines were rejected due to tdc2 mismatch\n",
      "240_000 batches were rejected due to many electrons\n",
      "16_800_000 lines were rejected due to tdc2 mismatch\n",
      "16_900_000 lines were rejected due to tdc2 mismatch\n",
      "17_000_000 lines were rejected due to tdc2 mismatch\n",
      "84_000_000 lines read\n",
      "17_100_000 lines were rejected due to tdc2 mismatch\n",
      "17_200_000 lines were rejected due to tdc2 mismatch\n",
      "3_000_000 lines were rejected due to tdc1 mismatch\n",
      "17_300_000 lines were rejected due to tdc2 mismatch\n",
      "245_000 batches were rejected due to many electrons\n",
      "17_400_000 lines were rejected due to tdc2 mismatch\n",
      "17_500_000 lines were rejected due to tdc2 mismatch\n"
     ]
    },
    {
     "name": "stdout",
     "output_type": "stream",
     "text": [
      "17_600_000 lines were rejected due to tdc2 mismatch\n",
      "17_700_000 lines were rejected due to tdc2 mismatch\n",
      "17_800_000 lines were rejected due to tdc2 mismatch\n",
      "17_900_000 lines were rejected due to tdc2 mismatch\n",
      "85_000_000 lines read\n",
      "18_000_000 lines were rejected due to tdc2 mismatch\n",
      "250_000 batches were rejected due to many electrons\n",
      "18_100_000 lines were rejected due to tdc2 mismatch\n",
      "18_200_000 lines were rejected due to tdc2 mismatch\n",
      "18_300_000 lines were rejected due to tdc2 mismatch\n",
      "18_400_000 lines were rejected due to tdc2 mismatch\n",
      "18_500_000 lines were rejected due to tdc2 mismatch\n",
      "18_600_000 lines were rejected due to tdc2 mismatch\n",
      "255_000 batches were rejected due to many electrons\n",
      "18_700_000 lines were rejected due to tdc2 mismatch\n",
      "18_800_000 lines were rejected due to tdc2 mismatch\n",
      "86_000_000 lines read\n",
      "18_900_000 lines were rejected due to tdc2 mismatch\n",
      "### TOA Overflow NO 26\n",
      "toa_prev 697.9313092765624 toa 697.9321954390624 tdc1 697.9307299041626 tdc2 697.9315421020813\n",
      "3_100_000 lines were rejected due to tdc1 mismatch\n",
      "19_000_000 lines were rejected due to tdc2 mismatch\n",
      "19_100_000 lines were rejected due to tdc2 mismatch\n",
      "19_200_000 lines were rejected due to tdc2 mismatch\n",
      "19_300_000 lines were rejected due to tdc2 mismatch\n",
      "260_000 batches were rejected due to many electrons\n",
      "19_400_000 lines were rejected due to tdc2 mismatch\n",
      "19_500_000 lines were rejected due to tdc2 mismatch\n",
      "19_600_000 lines were rejected due to tdc2 mismatch\n",
      "19_700_000 lines were rejected due to tdc2 mismatch\n",
      "19_800_000 lines were rejected due to tdc2 mismatch\n",
      "87_000_000 lines read\n",
      "19_900_000 lines were rejected due to tdc2 mismatch\n",
      "265_000 batches were rejected due to many electrons\n",
      "20_000_000 lines were rejected due to tdc2 mismatch\n",
      "20_100_000 lines were rejected due to tdc2 mismatch\n",
      "20_200_000 lines were rejected due to tdc2 mismatch\n",
      "20_300_000 lines were rejected due to tdc2 mismatch\n",
      "20_400_000 lines were rejected due to tdc2 mismatch\n",
      "20_500_000 lines were rejected due to tdc2 mismatch\n",
      "20_600_000 lines were rejected due to tdc2 mismatch\n",
      "270_000 batches were rejected due to many electrons\n",
      "20_700_000 lines were rejected due to tdc2 mismatch\n",
      "88_000_000 lines read\n",
      "20_800_000 lines were rejected due to tdc2 mismatch\n",
      "20_900_000 lines were rejected due to tdc2 mismatch\n",
      "21_000_000 lines were rejected due to tdc2 mismatch\n",
      "21_100_000 lines were rejected due to tdc2 mismatch\n",
      "21_200_000 lines were rejected due to tdc2 mismatch\n",
      "21_300_000 lines were rejected due to tdc2 mismatch\n",
      "275_000 batches were rejected due to many electrons\n",
      "21_400_000 lines were rejected due to tdc2 mismatch\n",
      "3_200_000 lines were rejected due to tdc1 mismatch\n",
      "21_500_000 lines were rejected due to tdc2 mismatch\n",
      "21_600_000 lines were rejected due to tdc2 mismatch\n",
      "89_000_000 lines read\n",
      "21_700_000 lines were rejected due to tdc2 mismatch\n",
      "21_800_000 lines were rejected due to tdc2 mismatch\n",
      "21_900_000 lines were rejected due to tdc2 mismatch\n",
      "280_000 batches were rejected due to many electrons\n",
      "22_000_000 lines were rejected due to tdc2 mismatch\n",
      "### TOA Overflow NO 27\n",
      "toa_prev 724.7750872515624 toa 724.7759492765624 tdc1 724.7743404109375 tdc2 724.7752854955688\n",
      "22_100_000 lines were rejected due to tdc2 mismatch\n",
      "22_200_000 lines were rejected due to tdc2 mismatch\n",
      "22_300_000 lines were rejected due to tdc2 mismatch\n",
      "22_400_000 lines were rejected due to tdc2 mismatch\n",
      "22_500_000 lines were rejected due to tdc2 mismatch\n",
      "285_000 batches were rejected due to many electrons\n",
      "22_600_000 lines were rejected due to tdc2 mismatch\n",
      "90_000_000 lines read\n",
      "22_700_000 lines were rejected due to tdc2 mismatch\n",
      "3_300_000 lines were rejected due to tdc1 mismatch\n",
      "22_800_000 lines were rejected due to tdc2 mismatch\n",
      "22_900_000 lines were rejected due to tdc2 mismatch\n",
      "23_000_000 lines were rejected due to tdc2 mismatch\n",
      "23_100_000 lines were rejected due to tdc2 mismatch\n",
      "290_000 batches were rejected due to many electrons\n",
      "23_200_000 lines were rejected due to tdc2 mismatch\n",
      "23_300_000 lines were rejected due to tdc2 mismatch\n",
      "3_400_000 lines were rejected due to tdc1 mismatch\n",
      "23_400_000 lines were rejected due to tdc2 mismatch\n",
      "91_000_000 lines read\n",
      "23_500_000 lines were rejected due to tdc2 mismatch\n",
      "23_600_000 lines were rejected due to tdc2 mismatch\n",
      "3_500_000 lines were rejected due to tdc1 mismatch\n",
      "295_000 batches were rejected due to many electrons\n",
      "23_700_000 lines were rejected due to tdc2 mismatch\n",
      "23_800_000 lines were rejected due to tdc2 mismatch\n",
      "23_900_000 lines were rejected due to tdc2 mismatch\n",
      "24_000_000 lines were rejected due to tdc2 mismatch\n",
      "24_100_000 lines were rejected due to tdc2 mismatch\n",
      "24_200_000 lines were rejected due to tdc2 mismatch\n",
      "92_000_000 lines read\n",
      "3_600_000 lines were rejected due to tdc1 mismatch\n",
      "300_000 batches were rejected due to many electrons\n",
      "24_300_000 lines were rejected due to tdc2 mismatch\n",
      "24_400_000 lines were rejected due to tdc2 mismatch\n",
      "24_500_000 lines were rejected due to tdc2 mismatch\n",
      "24_600_000 lines were rejected due to tdc2 mismatch\n",
      "24_700_000 lines were rejected due to tdc2 mismatch\n",
      "24_800_000 lines were rejected due to tdc2 mismatch\n",
      "305_000 batches were rejected due to many electrons\n",
      "24_900_000 lines were rejected due to tdc2 mismatch\n",
      "### TDC2 Overflow NO 7\n",
      "tdc2 751.617359804687 tdc2_next 751.6198228562499 tdc1 751.614176469269 toa 751.6171616624999\n",
      "### TOA Overflow NO 28\n",
      "toa_prev 751.6188306640624 toa 751.6196287187499 tdc1 751.617937532812 tdc2 751.6198228562499\n",
      "### TDC1 Overflow NO 7\n",
      "tdc1 751.618877798694 tdc1_next 751.6198180643188 tdc2 751.6198228562499 toa 751.6196287187499\n",
      "25_000_000 lines were rejected due to tdc2 mismatch\n",
      "3_700_000 lines were rejected due to tdc1 mismatch\n",
      "93_000_000 lines read\n",
      "25_100_000 lines were rejected due to tdc2 mismatch\n",
      "25_200_000 lines were rejected due to tdc2 mismatch\n",
      "25_300_000 lines were rejected due to tdc2 mismatch\n",
      "25_400_000 lines were rejected due to tdc2 mismatch\n",
      "310_000 batches were rejected due to many electrons\n",
      "25_500_000 lines were rejected due to tdc2 mismatch\n",
      "25_600_000 lines were rejected due to tdc2 mismatch\n",
      "25_700_000 lines were rejected due to tdc2 mismatch\n",
      "25_800_000 lines were rejected due to tdc2 mismatch\n",
      "25_900_000 lines were rejected due to tdc2 mismatch\n",
      "94_000_000 lines read\n",
      "26_000_000 lines were rejected due to tdc2 mismatch\n",
      "26_100_000 lines were rejected due to tdc2 mismatch\n",
      "315_000 batches were rejected due to many electrons\n",
      "26_200_000 lines were rejected due to tdc2 mismatch\n",
      "26_300_000 lines were rejected due to tdc2 mismatch\n",
      "3_800_000 lines were rejected due to tdc1 mismatch\n",
      "26_400_000 lines were rejected due to tdc2 mismatch\n",
      "26_500_000 lines were rejected due to tdc2 mismatch\n",
      "26_600_000 lines were rejected due to tdc2 mismatch\n",
      "26_700_000 lines were rejected due to tdc2 mismatch\n",
      "320_000 batches were rejected due to many electrons\n",
      "26_800_000 lines were rejected due to tdc2 mismatch\n",
      "26_900_000 lines were rejected due to tdc2 mismatch\n",
      "95_000_000 lines read\n",
      "27_000_000 lines were rejected due to tdc2 mismatch\n",
      "27_100_000 lines were rejected due to tdc2 mismatch\n",
      "27_200_000 lines were rejected due to tdc2 mismatch\n",
      "27_300_000 lines were rejected due to tdc2 mismatch\n",
      "27_400_000 lines were rejected due to tdc2 mismatch\n",
      "325_000 batches were rejected due to many electrons\n",
      "27_500_000 lines were rejected due to tdc2 mismatch\n",
      "27_600_000 lines were rejected due to tdc2 mismatch\n",
      "27_700_000 lines were rejected due to tdc2 mismatch\n",
      "27_800_000 lines were rejected due to tdc2 mismatch\n",
      "96_000_000 lines read\n",
      "27_900_000 lines were rejected due to tdc2 mismatch\n",
      "28_000_000 lines were rejected due to tdc2 mismatch\n",
      "330_000 batches were rejected due to many electrons\n",
      "### TOA Overflow NO 29\n",
      "toa_prev 778.4627479765625 toa 778.4633681406249 tdc1 778.4623735817688 tdc2 778.4618137637999\n",
      "28_100_000 lines were rejected due to tdc2 mismatch\n",
      "28_200_000 lines were rejected due to tdc2 mismatch\n",
      "28_300_000 lines were rejected due to tdc2 mismatch\n",
      "28_400_000 lines were rejected due to tdc2 mismatch\n",
      "28_500_000 lines were rejected due to tdc2 mismatch\n",
      "28_600_000 lines were rejected due to tdc2 mismatch\n",
      "3_900_000 lines were rejected due to tdc1 mismatch\n",
      "28_700_000 lines were rejected due to tdc2 mismatch\n",
      "335_000 batches were rejected due to many electrons\n",
      "97_000_000 lines read\n",
      "28_800_000 lines were rejected due to tdc2 mismatch\n"
     ]
    },
    {
     "name": "stdout",
     "output_type": "stream",
     "text": [
      "28_900_000 lines were rejected due to tdc2 mismatch\n",
      "29_000_000 lines were rejected due to tdc2 mismatch\n",
      "29_100_000 lines were rejected due to tdc2 mismatch\n",
      "29_200_000 lines were rejected due to tdc2 mismatch\n",
      "340_000 batches were rejected due to many electrons\n",
      "29_300_000 lines were rejected due to tdc2 mismatch\n",
      "29_400_000 lines were rejected due to tdc2 mismatch\n",
      "29_500_000 lines were rejected due to tdc2 mismatch\n",
      "29_600_000 lines were rejected due to tdc2 mismatch\n",
      "98_000_000 lines read\n",
      "29_700_000 lines were rejected due to tdc2 mismatch\n",
      "29_800_000 lines were rejected due to tdc2 mismatch\n",
      "29_900_000 lines were rejected due to tdc2 mismatch\n",
      "345_000 batches were rejected due to many electrons\n",
      "4_000_000 lines were rejected due to tdc1 mismatch\n",
      "30_000_000 lines were rejected due to tdc2 mismatch\n",
      "30_100_000 lines were rejected due to tdc2 mismatch\n",
      "30_200_000 lines were rejected due to tdc2 mismatch\n",
      "30_300_000 lines were rejected due to tdc2 mismatch\n",
      "30_400_000 lines were rejected due to tdc2 mismatch\n",
      "4_100_000 lines were rejected due to tdc1 mismatch\n",
      "350_000 batches were rejected due to many electrons\n",
      "99_000_000 lines read\n",
      "30_500_000 lines were rejected due to tdc2 mismatch\n",
      "30_600_000 lines were rejected due to tdc2 mismatch\n",
      "30_700_000 lines were rejected due to tdc2 mismatch\n",
      "30_800_000 lines were rejected due to tdc2 mismatch\n",
      "4_200_000 lines were rejected due to tdc1 mismatch\n",
      "30_900_000 lines were rejected due to tdc2 mismatch\n",
      "31_000_000 lines were rejected due to tdc2 mismatch\n",
      "355_000 batches were rejected due to many electrons\n",
      "### TOA Overflow NO 30\n",
      "toa_prev 805.3053589296875 toa 805.30752471875 tdc1 805.305085593225 tdc2 805.3039112385376\n",
      "31_100_000 lines were rejected due to tdc2 mismatch\n",
      "31_200_000 lines were rejected due to tdc2 mismatch\n",
      "31_300_000 lines were rejected due to tdc2 mismatch\n",
      "100_000_000 lines read\n",
      "31_400_000 lines were rejected due to tdc2 mismatch\n",
      "31_500_000 lines were rejected due to tdc2 mismatch\n",
      "31_600_000 lines were rejected due to tdc2 mismatch\n",
      "360_000 batches were rejected due to many electrons\n",
      "31_700_000 lines were rejected due to tdc2 mismatch\n",
      "31_800_000 lines were rejected due to tdc2 mismatch\n",
      "31_900_000 lines were rejected due to tdc2 mismatch\n",
      "32_000_000 lines were rejected due to tdc2 mismatch\n",
      "32_100_000 lines were rejected due to tdc2 mismatch\n",
      "32_200_000 lines were rejected due to tdc2 mismatch\n",
      "101_000_000 lines read\n",
      "32_300_000 lines were rejected due to tdc2 mismatch\n",
      "365_000 batches were rejected due to many electrons\n",
      "32_400_000 lines were rejected due to tdc2 mismatch\n",
      "4_300_000 lines were rejected due to tdc1 mismatch\n",
      "32_500_000 lines were rejected due to tdc2 mismatch\n",
      "32_600_000 lines were rejected due to tdc2 mismatch\n",
      "32_700_000 lines were rejected due to tdc2 mismatch\n",
      "32_800_000 lines were rejected due to tdc2 mismatch\n",
      "32_900_000 lines were rejected due to tdc2 mismatch\n",
      "370_000 batches were rejected due to many electrons\n",
      "33_000_000 lines were rejected due to tdc2 mismatch\n",
      "33_100_000 lines were rejected due to tdc2 mismatch\n",
      "33_200_000 lines were rejected due to tdc2 mismatch\n",
      "102_000_000 lines read\n",
      "33_300_000 lines were rejected due to tdc2 mismatch\n",
      "33_400_000 lines were rejected due to tdc2 mismatch\n",
      "33_500_000 lines were rejected due to tdc2 mismatch\n",
      "33_600_000 lines were rejected due to tdc2 mismatch\n",
      "375_000 batches were rejected due to many electrons\n",
      "33_700_000 lines were rejected due to tdc2 mismatch\n",
      "\n",
      "Batch numer 620_000 is written\n",
      "102_524_221 lines read\n",
      "-----\n",
      "33_800_000 lines were rejected due to tdc2 mismatch\n",
      "33_900_000 lines were rejected due to tdc2 mismatch\n",
      "34_000_000 lines were rejected due to tdc2 mismatch\n",
      "34_100_000 lines were rejected due to tdc2 mismatch\n",
      "103_000_000 lines read\n",
      "34_200_000 lines were rejected due to tdc2 mismatch\n",
      "4_400_000 lines were rejected due to tdc1 mismatch\n",
      "380_000 batches were rejected due to many electrons\n",
      "34_300_000 lines were rejected due to tdc2 mismatch\n",
      "### TOA Overflow NO 31\n",
      "toa_prev 832.1474563875 toa 832.1502494078125 tdc1 832.1468900234374 tdc2 832.1473559815064\n",
      "34_400_000 lines were rejected due to tdc2 mismatch\n",
      "34_500_000 lines were rejected due to tdc2 mismatch\n",
      "34_600_000 lines were rejected due to tdc2 mismatch\n",
      "34_700_000 lines were rejected due to tdc2 mismatch\n",
      "34_800_000 lines were rejected due to tdc2 mismatch\n",
      "34_900_000 lines were rejected due to tdc2 mismatch\n",
      "385_000 batches were rejected due to many electrons\n",
      "35_000_000 lines were rejected due to tdc2 mismatch\n",
      "104_000_000 lines read\n",
      "35_100_000 lines were rejected due to tdc2 mismatch\n",
      "35_200_000 lines were rejected due to tdc2 mismatch\n",
      "35_300_000 lines were rejected due to tdc2 mismatch\n",
      "35_400_000 lines were rejected due to tdc2 mismatch\n",
      "35_500_000 lines were rejected due to tdc2 mismatch\n",
      "390_000 batches were rejected due to many electrons\n",
      "35_600_000 lines were rejected due to tdc2 mismatch\n",
      "35_700_000 lines were rejected due to tdc2 mismatch\n",
      "35_800_000 lines were rejected due to tdc2 mismatch\n",
      "4_500_000 lines were rejected due to tdc1 mismatch\n",
      "35_900_000 lines were rejected due to tdc2 mismatch\n",
      "105_000_000 lines read\n",
      "36_000_000 lines were rejected due to tdc2 mismatch\n",
      "36_100_000 lines were rejected due to tdc2 mismatch\n",
      "36_200_000 lines were rejected due to tdc2 mismatch\n",
      "395_000 batches were rejected due to many electrons\n",
      "36_300_000 lines were rejected due to tdc2 mismatch\n",
      "36_400_000 lines were rejected due to tdc2 mismatch\n",
      "36_500_000 lines were rejected due to tdc2 mismatch\n",
      "36_600_000 lines were rejected due to tdc2 mismatch\n",
      "36_700_000 lines were rejected due to tdc2 mismatch\n",
      "36_800_000 lines were rejected due to tdc2 mismatch\n",
      "400_000 batches were rejected due to many electrons\n",
      "106_000_000 lines read\n",
      "36_900_000 lines were rejected due to tdc2 mismatch\n",
      "37_000_000 lines were rejected due to tdc2 mismatch\n",
      "37_100_000 lines were rejected due to tdc2 mismatch\n",
      "37_200_000 lines were rejected due to tdc2 mismatch\n",
      "37_300_000 lines were rejected due to tdc2 mismatch\n",
      "37_400_000 lines were rejected due to tdc2 mismatch\n",
      "37_500_000 lines were rejected due to tdc2 mismatch\n",
      "405_000 batches were rejected due to many electrons\n",
      "37_600_000 lines were rejected due to tdc2 mismatch\n",
      "### TDC2 Overflow NO 8\n",
      "tdc2 858.993344534631 tdc2_next 858.9942848247375 tdc1 858.99239944375 toa 858.9929262859375\n",
      "### TOA Overflow NO 32\n",
      "toa_prev 858.99292619375 toa 858.9935313921875 tdc1 858.99239944375 tdc2 858.993344534631\n",
      "### TDC1 Overflow NO 8\n",
      "tdc1 858.9933397447879 tdc1_next 858.9942800343749 tdc2 858.993344534631 toa 858.9935313921875\n",
      "37_700_000 lines were rejected due to tdc2 mismatch\n",
      "37_800_000 lines were rejected due to tdc2 mismatch\n",
      "107_000_000 lines read\n",
      "37_900_000 lines were rejected due to tdc2 mismatch\n",
      "38_000_000 lines were rejected due to tdc2 mismatch\n",
      "38_100_000 lines were rejected due to tdc2 mismatch\n",
      "410_000 batches were rejected due to many electrons\n",
      "38_200_000 lines were rejected due to tdc2 mismatch\n",
      "4_600_000 lines were rejected due to tdc1 mismatch\n",
      "38_300_000 lines were rejected due to tdc2 mismatch\n",
      "38_400_000 lines were rejected due to tdc2 mismatch\n",
      "38_500_000 lines were rejected due to tdc2 mismatch\n",
      "38_600_000 lines were rejected due to tdc2 mismatch\n",
      "38_700_000 lines were rejected due to tdc2 mismatch\n",
      "108_000_000 lines read\n",
      "38_800_000 lines were rejected due to tdc2 mismatch\n",
      "415_000 batches were rejected due to many electrons\n",
      "38_900_000 lines were rejected due to tdc2 mismatch\n",
      "39_000_000 lines were rejected due to tdc2 mismatch\n",
      "39_100_000 lines were rejected due to tdc2 mismatch\n",
      "39_200_000 lines were rejected due to tdc2 mismatch\n",
      "39_300_000 lines were rejected due to tdc2 mismatch\n",
      "39_400_000 lines were rejected due to tdc2 mismatch\n",
      "420_000 batches were rejected due to many electrons\n",
      "39_500_000 lines were rejected due to tdc2 mismatch\n",
      "39_600_000 lines were rejected due to tdc2 mismatch\n",
      "109_000_000 lines read\n",
      "4_700_000 lines were rejected due to tdc1 mismatch\n",
      "39_700_000 lines were rejected due to tdc2 mismatch\n",
      "39_800_000 lines were rejected due to tdc2 mismatch\n",
      "39_900_000 lines were rejected due to tdc2 mismatch\n",
      "40_000_000 lines were rejected due to tdc2 mismatch\n",
      "425_000 batches were rejected due to many electrons\n",
      "40_100_000 lines were rejected due to tdc2 mismatch\n",
      "40_200_000 lines were rejected due to tdc2 mismatch\n",
      "40_300_000 lines were rejected due to tdc2 mismatch\n"
     ]
    },
    {
     "name": "stdout",
     "output_type": "stream",
     "text": [
      "40_400_000 lines were rejected due to tdc2 mismatch\n",
      "40_500_000 lines were rejected due to tdc2 mismatch\n",
      "110_000_000 lines read\n",
      "40_600_000 lines were rejected due to tdc2 mismatch\n",
      "430_000 batches were rejected due to many electrons\n",
      "40_700_000 lines were rejected due to tdc2 mismatch\n",
      "4_800_000 lines were rejected due to tdc1 mismatch\n",
      "### TOA Overflow NO 33\n",
      "toa_prev 885.8369513140625 toa 885.837830090625 tdc1 885.8368984924438 tdc2 885.83690328125\n",
      "40_800_000 lines were rejected due to tdc2 mismatch\n",
      "40_900_000 lines were rejected due to tdc2 mismatch\n",
      "41_000_000 lines were rejected due to tdc2 mismatch\n",
      "41_100_000 lines were rejected due to tdc2 mismatch\n",
      "41_200_000 lines were rejected due to tdc2 mismatch\n",
      "41_300_000 lines were rejected due to tdc2 mismatch\n",
      "435_000 batches were rejected due to many electrons\n",
      "41_400_000 lines were rejected due to tdc2 mismatch\n",
      "111_000_000 lines read\n",
      "41_500_000 lines were rejected due to tdc2 mismatch\n",
      "41_600_000 lines were rejected due to tdc2 mismatch\n",
      "41_700_000 lines were rejected due to tdc2 mismatch\n",
      "41_800_000 lines were rejected due to tdc2 mismatch\n",
      "41_900_000 lines were rejected due to tdc2 mismatch\n",
      "440_000 batches were rejected due to many electrons\n",
      "42_000_000 lines were rejected due to tdc2 mismatch\n",
      "42_100_000 lines were rejected due to tdc2 mismatch\n",
      "42_200_000 lines were rejected due to tdc2 mismatch\n",
      "4_900_000 lines were rejected due to tdc1 mismatch\n",
      "42_300_000 lines were rejected due to tdc2 mismatch\n",
      "112_000_000 lines read\n",
      "42_400_000 lines were rejected due to tdc2 mismatch\n",
      "42_500_000 lines were rejected due to tdc2 mismatch\n",
      "445_000 batches were rejected due to many electrons\n",
      "42_600_000 lines were rejected due to tdc2 mismatch\n",
      "42_700_000 lines were rejected due to tdc2 mismatch\n",
      "42_800_000 lines were rejected due to tdc2 mismatch\n",
      "42_900_000 lines were rejected due to tdc2 mismatch\n",
      "43_000_000 lines were rejected due to tdc2 mismatch\n",
      "43_100_000 lines were rejected due to tdc2 mismatch\n",
      "43_200_000 lines were rejected due to tdc2 mismatch\n",
      "450_000 batches were rejected due to many electrons\n",
      "113_000_000 lines read\n",
      "43_300_000 lines were rejected due to tdc2 mismatch\n",
      "43_400_000 lines were rejected due to tdc2 mismatch\n",
      "43_500_000 lines were rejected due to tdc2 mismatch\n",
      "43_600_000 lines were rejected due to tdc2 mismatch\n",
      "43_700_000 lines were rejected due to tdc2 mismatch\n",
      "43_800_000 lines were rejected due to tdc2 mismatch\n",
      "5_000_000 lines were rejected due to tdc1 mismatch\n",
      "455_000 batches were rejected due to many electrons\n",
      "43_900_000 lines were rejected due to tdc2 mismatch\n",
      "### TOA Overflow NO 34\n",
      "toa_prev 912.680448434375 toa 912.6805567031249 tdc1 912.6803433317688 tdc2 912.6803481239563\n",
      "44_000_000 lines were rejected due to tdc2 mismatch\n",
      "44_100_000 lines were rejected due to tdc2 mismatch\n",
      "114_000_000 lines read\n",
      "44_200_000 lines were rejected due to tdc2 mismatch\n",
      "44_300_000 lines were rejected due to tdc2 mismatch\n",
      "44_400_000 lines were rejected due to tdc2 mismatch\n",
      "44_500_000 lines were rejected due to tdc2 mismatch\n",
      "460_000 batches were rejected due to many electrons\n",
      "44_600_000 lines were rejected due to tdc2 mismatch\n",
      "44_700_000 lines were rejected due to tdc2 mismatch\n",
      "44_800_000 lines were rejected due to tdc2 mismatch\n",
      "44_900_000 lines were rejected due to tdc2 mismatch\n",
      "45_000_000 lines were rejected due to tdc2 mismatch\n",
      "45_100_000 lines were rejected due to tdc2 mismatch\n",
      "115_000_000 lines read\n",
      "465_000 batches were rejected due to many electrons\n",
      "45_200_000 lines were rejected due to tdc2 mismatch\n",
      "45_300_000 lines were rejected due to tdc2 mismatch\n",
      "45_400_000 lines were rejected due to tdc2 mismatch\n",
      "45_500_000 lines were rejected due to tdc2 mismatch\n",
      "5_100_000 lines were rejected due to tdc1 mismatch\n",
      "45_600_000 lines were rejected due to tdc2 mismatch\n",
      "45_700_000 lines were rejected due to tdc2 mismatch\n",
      "470_000 batches were rejected due to many electrons\n",
      "45_800_000 lines were rejected due to tdc2 mismatch\n",
      "45_900_000 lines were rejected due to tdc2 mismatch\n",
      "116_000_000 lines read\n",
      "46_000_000 lines were rejected due to tdc2 mismatch\n",
      "46_100_000 lines were rejected due to tdc2 mismatch\n",
      "46_200_000 lines were rejected due to tdc2 mismatch\n",
      "46_300_000 lines were rejected due to tdc2 mismatch\n",
      "5_200_000 lines were rejected due to tdc1 mismatch\n",
      "46_400_000 lines were rejected due to tdc2 mismatch\n",
      "475_000 batches were rejected due to many electrons\n",
      "46_500_000 lines were rejected due to tdc2 mismatch\n",
      "46_600_000 lines were rejected due to tdc2 mismatch\n",
      "46_700_000 lines were rejected due to tdc2 mismatch\n",
      "46_800_000 lines were rejected due to tdc2 mismatch\n",
      "46_900_000 lines were rejected due to tdc2 mismatch\n",
      "117_000_000 lines read\n",
      "47_000_000 lines were rejected due to tdc2 mismatch\n",
      "480_000 batches were rejected due to many electrons\n",
      "47_100_000 lines were rejected due to tdc2 mismatch\n",
      "### TOA Overflow NO 35\n",
      "toa_prev 939.5238935265625 toa 939.5245024796874 tdc1 939.5230309604126 tdc2 939.5240607018188\n",
      "47_200_000 lines were rejected due to tdc2 mismatch\n",
      "47_300_000 lines were rejected due to tdc2 mismatch\n",
      "47_400_000 lines were rejected due to tdc2 mismatch\n",
      "47_500_000 lines were rejected due to tdc2 mismatch\n",
      "47_600_000 lines were rejected due to tdc2 mismatch\n",
      "47_700_000 lines were rejected due to tdc2 mismatch\n",
      "485_000 batches were rejected due to many electrons\n",
      "47_800_000 lines were rejected due to tdc2 mismatch\n",
      "118_000_000 lines read\n",
      "47_900_000 lines were rejected due to tdc2 mismatch\n",
      "48_000_000 lines were rejected due to tdc2 mismatch\n",
      "48_100_000 lines were rejected due to tdc2 mismatch\n",
      "48_200_000 lines were rejected due to tdc2 mismatch\n",
      "48_300_000 lines were rejected due to tdc2 mismatch\n",
      "48_400_000 lines were rejected due to tdc2 mismatch\n",
      "490_000 batches were rejected due to many electrons\n",
      "48_500_000 lines were rejected due to tdc2 mismatch\n",
      "48_600_000 lines were rejected due to tdc2 mismatch\n",
      "48_700_000 lines were rejected due to tdc2 mismatch\n",
      "119_000_000 lines read\n",
      "48_800_000 lines were rejected due to tdc2 mismatch\n",
      "48_900_000 lines were rejected due to tdc2 mismatch\n",
      "49_000_000 lines were rejected due to tdc2 mismatch\n",
      "495_000 batches were rejected due to many electrons\n",
      "49_100_000 lines were rejected due to tdc2 mismatch\n",
      "5_300_000 lines were rejected due to tdc1 mismatch\n",
      "49_200_000 lines were rejected due to tdc2 mismatch\n",
      "49_300_000 lines were rejected due to tdc2 mismatch\n",
      "49_400_000 lines were rejected due to tdc2 mismatch\n",
      "49_500_000 lines were rejected due to tdc2 mismatch\n",
      "49_600_000 lines were rejected due to tdc2 mismatch\n",
      "49_700_000 lines were rejected due to tdc2 mismatch\n",
      "500_000 batches were rejected due to many electrons\n",
      "120_000_000 lines read\n",
      "49_800_000 lines were rejected due to tdc2 mismatch\n",
      "49_900_000 lines were rejected due to tdc2 mismatch\n",
      "50_000_000 lines were rejected due to tdc2 mismatch\n",
      "50_100_000 lines were rejected due to tdc2 mismatch\n",
      "50_200_000 lines were rejected due to tdc2 mismatch\n",
      "50_300_000 lines were rejected due to tdc2 mismatch\n",
      "505_000 batches were rejected due to many electrons\n",
      "50_400_000 lines were rejected due to tdc2 mismatch\n",
      "### TDC2 Overflow NO 9\n",
      "tdc2 966.367604078906 tdc2_next 966.3685443234375 tdc1 966.365718793488 toa 966.3676059421875\n",
      "### TDC1 Overflow NO 9\n",
      "tdc1 966.3675992903629 tdc1_next 966.3685395328124 tdc2 966.367604078906 toa 966.3676059421875\n",
      "### TOA Overflow NO 36\n",
      "toa_prev 966.367605890625 toa 966.3694018734375 tdc1 966.3675992903629 tdc2 966.367604078906\n",
      "50_500_000 lines were rejected due to tdc2 mismatch\n",
      "5_400_000 lines were rejected due to tdc1 mismatch\n",
      "50_600_000 lines were rejected due to tdc2 mismatch\n",
      "121_000_000 lines read\n",
      "50_700_000 lines were rejected due to tdc2 mismatch\n",
      "50_800_000 lines were rejected due to tdc2 mismatch\n",
      "50_900_000 lines were rejected due to tdc2 mismatch\n",
      "510_000 batches were rejected due to many electrons\n",
      "51_000_000 lines were rejected due to tdc2 mismatch\n",
      "51_100_000 lines were rejected due to tdc2 mismatch\n",
      "51_200_000 lines were rejected due to tdc2 mismatch\n",
      "51_300_000 lines were rejected due to tdc2 mismatch\n",
      "5_500_000 lines were rejected due to tdc1 mismatch\n",
      "51_400_000 lines were rejected due to tdc2 mismatch\n",
      "122_000_000 lines read\n",
      "51_500_000 lines were rejected due to tdc2 mismatch\n",
      "515_000 batches were rejected due to many electrons\n",
      "51_600_000 lines were rejected due to tdc2 mismatch\n"
     ]
    },
    {
     "name": "stdout",
     "output_type": "stream",
     "text": [
      "51_700_000 lines were rejected due to tdc2 mismatch\n",
      "51_800_000 lines were rejected due to tdc2 mismatch\n",
      "51_900_000 lines were rejected due to tdc2 mismatch\n",
      "5_600_000 lines were rejected due to tdc1 mismatch\n",
      "52_000_000 lines were rejected due to tdc2 mismatch\n",
      "52_100_000 lines were rejected due to tdc2 mismatch\n",
      "520_000 batches were rejected due to many electrons\n",
      "52_200_000 lines were rejected due to tdc2 mismatch\n",
      "52_300_000 lines were rejected due to tdc2 mismatch\n",
      "123_000_000 lines read\n",
      "52_400_000 lines were rejected due to tdc2 mismatch\n",
      "52_500_000 lines were rejected due to tdc2 mismatch\n",
      "52_600_000 lines were rejected due to tdc2 mismatch\n",
      "52_700_000 lines were rejected due to tdc2 mismatch\n",
      "525_000 batches were rejected due to many electrons\n",
      "52_800_000 lines were rejected due to tdc2 mismatch\n",
      "5_700_000 lines were rejected due to tdc1 mismatch\n",
      "52_900_000 lines were rejected due to tdc2 mismatch\n",
      "53_000_000 lines were rejected due to tdc2 mismatch\n",
      "53_100_000 lines were rejected due to tdc2 mismatch\n",
      "53_200_000 lines were rejected due to tdc2 mismatch\n",
      "124_000_000 lines read\n",
      "53_300_000 lines were rejected due to tdc2 mismatch\n",
      "53_400_000 lines were rejected due to tdc2 mismatch\n",
      "530_000 batches were rejected due to many electrons\n",
      "53_500_000 lines were rejected due to tdc2 mismatch\n",
      "### TOA Overflow NO 37\n",
      "toa_prev 993.2111492234375 toa 993.211230471875 tdc1 993.2111580028625 tdc2 993.2111654137999\n",
      "53_600_000 lines were rejected due to tdc2 mismatch\n",
      "53_700_000 lines were rejected due to tdc2 mismatch\n",
      "5_800_000 lines were rejected due to tdc1 mismatch\n",
      "53_800_000 lines were rejected due to tdc2 mismatch\n",
      "53_900_000 lines were rejected due to tdc2 mismatch\n",
      "535_000 batches were rejected due to many electrons\n",
      "54_000_000 lines were rejected due to tdc2 mismatch\n",
      "125_000_000 lines read\n",
      "54_100_000 lines were rejected due to tdc2 mismatch\n",
      "54_200_000 lines were rejected due to tdc2 mismatch\n",
      "5_900_000 lines were rejected due to tdc1 mismatch\n",
      "54_300_000 lines were rejected due to tdc2 mismatch\n",
      "54_400_000 lines were rejected due to tdc2 mismatch\n",
      "54_500_000 lines were rejected due to tdc2 mismatch\n",
      "540_000 batches were rejected due to many electrons\n",
      "54_600_000 lines were rejected due to tdc2 mismatch\n",
      "54_700_000 lines were rejected due to tdc2 mismatch\n",
      "54_800_000 lines were rejected due to tdc2 mismatch\n",
      "126_000_000 lines read\n",
      "54_900_000 lines were rejected due to tdc2 mismatch\n",
      "55_000_000 lines were rejected due to tdc2 mismatch\n",
      "55_100_000 lines were rejected due to tdc2 mismatch\n",
      "545_000 batches were rejected due to many electrons\n",
      "55_200_000 lines were rejected due to tdc2 mismatch\n",
      "55_300_000 lines were rejected due to tdc2 mismatch\n",
      "55_400_000 lines were rejected due to tdc2 mismatch\n",
      "55_500_000 lines were rejected due to tdc2 mismatch\n",
      "55_600_000 lines were rejected due to tdc2 mismatch\n",
      "55_700_000 lines were rejected due to tdc2 mismatch\n",
      "6_000_000 lines were rejected due to tdc1 mismatch\n",
      "55_800_000 lines were rejected due to tdc2 mismatch\n",
      "127_000_000 lines read\n",
      "550_000 batches were rejected due to many electrons\n",
      "55_900_000 lines were rejected due to tdc2 mismatch\n",
      "56_000_000 lines were rejected due to tdc2 mismatch\n",
      "56_100_000 lines were rejected due to tdc2 mismatch\n",
      "56_200_000 lines were rejected due to tdc2 mismatch\n",
      "56_300_000 lines were rejected due to tdc2 mismatch\n",
      "56_400_000 lines were rejected due to tdc2 mismatch\n",
      "56_500_000 lines were rejected due to tdc2 mismatch\n",
      "555_000 batches were rejected due to many electrons\n",
      "56_600_000 lines were rejected due to tdc2 mismatch\n",
      "### TOA Overflow NO 38\n",
      "toa_prev 1020.0547105843749 toa 1020.0547789671874 tdc1 1020.054662978125 tdc2 1020.0546677703124\n",
      "56_700_000 lines were rejected due to tdc2 mismatch\n",
      "128_000_000 lines read\n",
      "56_800_000 lines were rejected due to tdc2 mismatch\n",
      "56_900_000 lines were rejected due to tdc2 mismatch\n",
      "57_000_000 lines were rejected due to tdc2 mismatch\n",
      "57_100_000 lines were rejected due to tdc2 mismatch\n",
      "560_000 batches were rejected due to many electrons\n",
      "57_200_000 lines were rejected due to tdc2 mismatch\n",
      "57_300_000 lines were rejected due to tdc2 mismatch\n",
      "57_400_000 lines were rejected due to tdc2 mismatch\n",
      "57_500_000 lines were rejected due to tdc2 mismatch\n",
      "57_600_000 lines were rejected due to tdc2 mismatch\n",
      "57_700_000 lines were rejected due to tdc2 mismatch\n",
      "129_000_000 lines read\n",
      "57_800_000 lines were rejected due to tdc2 mismatch\n",
      "565_000 batches were rejected due to many electrons\n",
      "57_900_000 lines were rejected due to tdc2 mismatch\n",
      "58_000_000 lines were rejected due to tdc2 mismatch\n",
      "58_100_000 lines were rejected due to tdc2 mismatch\n",
      "58_200_000 lines were rejected due to tdc2 mismatch\n",
      "58_300_000 lines were rejected due to tdc2 mismatch\n",
      "58_400_000 lines were rejected due to tdc2 mismatch\n",
      "58_500_000 lines were rejected due to tdc2 mismatch\n",
      "570_000 batches were rejected due to many electrons\n",
      "6_100_000 lines were rejected due to tdc1 mismatch\n",
      "58_600_000 lines were rejected due to tdc2 mismatch\n",
      "130_000_000 lines read\n",
      "58_700_000 lines were rejected due to tdc2 mismatch\n",
      "58_800_000 lines were rejected due to tdc2 mismatch\n",
      "58_900_000 lines were rejected due to tdc2 mismatch\n",
      "59_000_000 lines were rejected due to tdc2 mismatch\n",
      "59_100_000 lines were rejected due to tdc2 mismatch\n",
      "575_000 batches were rejected due to many electrons\n",
      "59_200_000 lines were rejected due to tdc2 mismatch\n",
      "59_300_000 lines were rejected due to tdc2 mismatch\n",
      "59_400_000 lines were rejected due to tdc2 mismatch\n",
      "59_500_000 lines were rejected due to tdc2 mismatch\n",
      "131_000_000 lines read\n",
      "59_600_000 lines were rejected due to tdc2 mismatch\n",
      "59_700_000 lines were rejected due to tdc2 mismatch\n",
      "59_800_000 lines were rejected due to tdc2 mismatch\n",
      "580_000 batches were rejected due to many electrons\n",
      "59_900_000 lines were rejected due to tdc2 mismatch\n",
      "### TOA Overflow NO 39\n",
      "toa_prev 1046.89821295625 toa 1046.8985429515626 tdc1 1046.89813196875 tdc2 1046.8981746007812\n",
      "60_000_000 lines were rejected due to tdc2 mismatch\n",
      "60_100_000 lines were rejected due to tdc2 mismatch\n",
      "60_200_000 lines were rejected due to tdc2 mismatch\n",
      "60_300_000 lines were rejected due to tdc2 mismatch\n",
      "60_400_000 lines were rejected due to tdc2 mismatch\n",
      "585_000 batches were rejected due to many electrons\n",
      "60_500_000 lines were rejected due to tdc2 mismatch\n",
      "132_000_000 lines read\n",
      "60_600_000 lines were rejected due to tdc2 mismatch\n",
      "60_700_000 lines were rejected due to tdc2 mismatch\n",
      "60_800_000 lines were rejected due to tdc2 mismatch\n",
      "60_900_000 lines were rejected due to tdc2 mismatch\n",
      "61_000_000 lines were rejected due to tdc2 mismatch\n",
      "61_100_000 lines were rejected due to tdc2 mismatch\n",
      "590_000 batches were rejected due to many electrons\n",
      "6_200_000 lines were rejected due to tdc1 mismatch\n",
      "61_200_000 lines were rejected due to tdc2 mismatch\n",
      "61_300_000 lines were rejected due to tdc2 mismatch\n",
      "61_400_000 lines were rejected due to tdc2 mismatch\n",
      "133_000_000 lines read\n",
      "61_500_000 lines were rejected due to tdc2 mismatch\n",
      "61_600_000 lines were rejected due to tdc2 mismatch\n",
      "61_700_000 lines were rejected due to tdc2 mismatch\n",
      "595_000 batches were rejected due to many electrons\n",
      "61_800_000 lines were rejected due to tdc2 mismatch\n",
      "61_900_000 lines were rejected due to tdc2 mismatch\n",
      "62_000_000 lines were rejected due to tdc2 mismatch\n",
      "6_300_000 lines were rejected due to tdc1 mismatch\n",
      "62_100_000 lines were rejected due to tdc2 mismatch\n",
      "62_200_000 lines were rejected due to tdc2 mismatch\n",
      "134_000_000 lines read\n",
      "62_300_000 lines were rejected due to tdc2 mismatch\n",
      "600_000 batches were rejected due to many electrons\n",
      "62_400_000 lines were rejected due to tdc2 mismatch\n",
      "62_500_000 lines were rejected due to tdc2 mismatch\n",
      "62_600_000 lines were rejected due to tdc2 mismatch\n",
      "62_700_000 lines were rejected due to tdc2 mismatch\n",
      "62_800_000 lines were rejected due to tdc2 mismatch\n",
      "62_900_000 lines were rejected due to tdc2 mismatch\n",
      "605_000 batches were rejected due to many electrons\n",
      "6_400_000 lines were rejected due to tdc1 mismatch\n",
      "63_000_000 lines were rejected due to tdc2 mismatch\n",
      "### TDC2 Overflow NO 10\n",
      "tdc2 1073.74181263255 tdc2_next 1073.74368199375 tdc1 1073.740580153381 toa 1073.7416686921874\n",
      "### TDC1 Overflow NO 10\n",
      "tdc1 1073.741520408069 tdc1_next 1073.7424606973937 tdc2 1073.74181263255 toa 1073.7416686921874\n",
      "### TOA Overflow NO 40\n",
      "toa_prev 1073.74171984375 toa 1073.7424758875 tdc1 1073.741520408069 tdc2 1073.74181263255\n",
      "63_100_000 lines were rejected due to tdc2 mismatch\n"
     ]
    },
    {
     "name": "stdout",
     "output_type": "stream",
     "text": [
      "63_200_000 lines were rejected due to tdc2 mismatch\n",
      "135_000_000 lines read\n",
      "63_300_000 lines were rejected due to tdc2 mismatch\n",
      "63_400_000 lines were rejected due to tdc2 mismatch\n",
      "63_500_000 lines were rejected due to tdc2 mismatch\n",
      "63_600_000 lines were rejected due to tdc2 mismatch\n",
      "610_000 batches were rejected due to many electrons\n",
      "63_700_000 lines were rejected due to tdc2 mismatch\n",
      "63_800_000 lines were rejected due to tdc2 mismatch\n",
      "63_900_000 lines were rejected due to tdc2 mismatch\n",
      "64_000_000 lines were rejected due to tdc2 mismatch\n",
      "64_100_000 lines were rejected due to tdc2 mismatch\n",
      "136_000_000 lines read\n",
      "64_200_000 lines were rejected due to tdc2 mismatch\n",
      "615_000 batches were rejected due to many electrons\n",
      "64_300_000 lines were rejected due to tdc2 mismatch\n",
      "64_400_000 lines were rejected due to tdc2 mismatch\n",
      "64_500_000 lines were rejected due to tdc2 mismatch\n",
      "64_600_000 lines were rejected due to tdc2 mismatch\n",
      "64_700_000 lines were rejected due to tdc2 mismatch\n",
      "64_800_000 lines were rejected due to tdc2 mismatch\n",
      "64_900_000 lines were rejected due to tdc2 mismatch\n",
      "620_000 batches were rejected due to many electrons\n",
      "65_000_000 lines were rejected due to tdc2 mismatch\n",
      "137_000_000 lines read\n",
      "65_100_000 lines were rejected due to tdc2 mismatch\n",
      "65_200_000 lines were rejected due to tdc2 mismatch\n",
      "65_300_000 lines were rejected due to tdc2 mismatch\n",
      "65_400_000 lines were rejected due to tdc2 mismatch\n",
      "65_500_000 lines were rejected due to tdc2 mismatch\n",
      "65_600_000 lines were rejected due to tdc2 mismatch\n",
      "625_000 batches were rejected due to many electrons\n",
      "6_500_000 lines were rejected due to tdc1 mismatch\n",
      "65_700_000 lines were rejected due to tdc2 mismatch\n",
      "65_800_000 lines were rejected due to tdc2 mismatch\n",
      "65_900_000 lines were rejected due to tdc2 mismatch\n",
      "66_000_000 lines were rejected due to tdc2 mismatch\n",
      "138_000_000 lines read\n",
      "66_100_000 lines were rejected due to tdc2 mismatch\n",
      "66_200_000 lines were rejected due to tdc2 mismatch\n",
      "630_000 batches were rejected due to many electrons\n",
      "66_300_000 lines were rejected due to tdc2 mismatch\n",
      "### TOA Overflow NO 41\n",
      "toa_prev 1100.585357815625 toa 1100.5872272265624 tdc1 1100.5851763317687 tdc2 1100.5853359309874\n",
      "66_400_000 lines were rejected due to tdc2 mismatch\n",
      "66_500_000 lines were rejected due to tdc2 mismatch\n",
      "66_600_000 lines were rejected due to tdc2 mismatch\n",
      "66_700_000 lines were rejected due to tdc2 mismatch\n",
      "66_800_000 lines were rejected due to tdc2 mismatch\n",
      "635_000 batches were rejected due to many electrons\n",
      "66_900_000 lines were rejected due to tdc2 mismatch\n",
      "139_000_000 lines read\n",
      "67_000_000 lines were rejected due to tdc2 mismatch\n",
      "67_100_000 lines were rejected due to tdc2 mismatch\n",
      "67_200_000 lines were rejected due to tdc2 mismatch\n",
      "67_300_000 lines were rejected due to tdc2 mismatch\n",
      "67_400_000 lines were rejected due to tdc2 mismatch\n",
      "67_500_000 lines were rejected due to tdc2 mismatch\n",
      "640_000 batches were rejected due to many electrons\n",
      "67_600_000 lines were rejected due to tdc2 mismatch\n",
      "67_700_000 lines were rejected due to tdc2 mismatch\n",
      "67_800_000 lines were rejected due to tdc2 mismatch\n",
      "6_600_000 lines were rejected due to tdc1 mismatch\n",
      "140_000_000 lines read\n",
      "67_900_000 lines were rejected due to tdc2 mismatch\n",
      "68_000_000 lines were rejected due to tdc2 mismatch\n",
      "68_100_000 lines were rejected due to tdc2 mismatch\n",
      "68_200_000 lines were rejected due to tdc2 mismatch\n",
      "645_000 batches were rejected due to many electrons\n",
      "68_300_000 lines were rejected due to tdc2 mismatch\n",
      "68_400_000 lines were rejected due to tdc2 mismatch\n",
      "68_500_000 lines were rejected due to tdc2 mismatch\n",
      "68_600_000 lines were rejected due to tdc2 mismatch\n",
      "68_700_000 lines were rejected due to tdc2 mismatch\n",
      "141_000_000 lines read\n",
      "6_700_000 lines were rejected due to tdc1 mismatch\n",
      "650_000 batches were rejected due to many electrons\n",
      "68_800_000 lines were rejected due to tdc2 mismatch\n",
      "68_900_000 lines were rejected due to tdc2 mismatch\n",
      "69_000_000 lines were rejected due to tdc2 mismatch\n",
      "69_100_000 lines were rejected due to tdc2 mismatch\n",
      "6_800_000 lines were rejected due to tdc1 mismatch\n",
      "69_200_000 lines were rejected due to tdc2 mismatch\n",
      "69_300_000 lines were rejected due to tdc2 mismatch\n",
      "655_000 batches were rejected due to many electrons\n",
      "69_400_000 lines were rejected due to tdc2 mismatch\n",
      "### TOA Overflow NO 42\n",
      "toa_prev 1127.4288810906248 toa 1127.4296666687499 tdc1 1127.4287118864563 tdc2 1127.4293571692688\n",
      "69_500_000 lines were rejected due to tdc2 mismatch\n",
      "142_000_000 lines read\n",
      "69_600_000 lines were rejected due to tdc2 mismatch\n",
      "69_700_000 lines were rejected due to tdc2 mismatch\n",
      "69_800_000 lines were rejected due to tdc2 mismatch\n",
      "69_900_000 lines were rejected due to tdc2 mismatch\n",
      "6_900_000 lines were rejected due to tdc1 mismatch\n",
      "660_000 batches were rejected due to many electrons\n",
      "70_000_000 lines were rejected due to tdc2 mismatch\n",
      "70_100_000 lines were rejected due to tdc2 mismatch\n",
      "70_200_000 lines were rejected due to tdc2 mismatch\n",
      "70_300_000 lines were rejected due to tdc2 mismatch\n",
      "70_400_000 lines were rejected due to tdc2 mismatch\n",
      "143_000_000 lines read\n",
      "70_500_000 lines were rejected due to tdc2 mismatch\n",
      "665_000 batches were rejected due to many electrons\n",
      "70_600_000 lines were rejected due to tdc2 mismatch\n",
      "70_700_000 lines were rejected due to tdc2 mismatch\n",
      "70_800_000 lines were rejected due to tdc2 mismatch\n",
      "7_000_000 lines were rejected due to tdc1 mismatch\n",
      "70_900_000 lines were rejected due to tdc2 mismatch\n",
      "71_000_000 lines were rejected due to tdc2 mismatch\n",
      "71_100_000 lines were rejected due to tdc2 mismatch\n",
      "71_200_000 lines were rejected due to tdc2 mismatch\n",
      "670_000 batches were rejected due to many electrons\n",
      "71_300_000 lines were rejected due to tdc2 mismatch\n",
      "144_000_000 lines read\n",
      "71_400_000 lines were rejected due to tdc2 mismatch\n",
      "71_500_000 lines were rejected due to tdc2 mismatch\n",
      "71_600_000 lines were rejected due to tdc2 mismatch\n",
      "7_100_000 lines were rejected due to tdc1 mismatch\n",
      "71_700_000 lines were rejected due to tdc2 mismatch\n",
      "71_800_000 lines were rejected due to tdc2 mismatch\n",
      "675_000 batches were rejected due to many electrons\n",
      "71_900_000 lines were rejected due to tdc2 mismatch\n",
      "72_000_000 lines were rejected due to tdc2 mismatch\n",
      "72_100_000 lines were rejected due to tdc2 mismatch\n",
      "72_200_000 lines were rejected due to tdc2 mismatch\n",
      "145_000_000 lines read\n",
      "72_300_000 lines were rejected due to tdc2 mismatch\n",
      "72_400_000 lines were rejected due to tdc2 mismatch\n",
      "680_000 batches were rejected due to many electrons\n",
      "72_500_000 lines were rejected due to tdc2 mismatch\n",
      "### TOA Overflow NO 43\n",
      "toa_prev 1154.2714726718748 toa 1154.2729024843748 tdc1 1154.2713815716124 tdc2 1154.2716752117187\n",
      "72_600_000 lines were rejected due to tdc2 mismatch\n",
      "72_700_000 lines were rejected due to tdc2 mismatch\n",
      "72_800_000 lines were rejected due to tdc2 mismatch\n",
      "72_900_000 lines were rejected due to tdc2 mismatch\n",
      "73_000_000 lines were rejected due to tdc2 mismatch\n",
      "73_100_000 lines were rejected due to tdc2 mismatch\n",
      "685_000 batches were rejected due to many electrons\n",
      "146_000_000 lines read\n",
      "73_200_000 lines were rejected due to tdc2 mismatch\n",
      "73_300_000 lines were rejected due to tdc2 mismatch\n",
      "73_400_000 lines were rejected due to tdc2 mismatch\n",
      "73_500_000 lines were rejected due to tdc2 mismatch\n",
      "73_600_000 lines were rejected due to tdc2 mismatch\n",
      "73_700_000 lines were rejected due to tdc2 mismatch\n",
      "690_000 batches were rejected due to many electrons\n",
      "73_800_000 lines were rejected due to tdc2 mismatch\n",
      "7_200_000 lines were rejected due to tdc1 mismatch\n",
      "73_900_000 lines were rejected due to tdc2 mismatch\n",
      "74_000_000 lines were rejected due to tdc2 mismatch\n",
      "147_000_000 lines read\n",
      "74_100_000 lines were rejected due to tdc2 mismatch\n",
      "74_200_000 lines were rejected due to tdc2 mismatch\n",
      "74_300_000 lines were rejected due to tdc2 mismatch\n",
      "74_400_000 lines were rejected due to tdc2 mismatch\n",
      "695_000 batches were rejected due to many electrons\n",
      "74_500_000 lines were rejected due to tdc2 mismatch\n",
      "74_600_000 lines were rejected due to tdc2 mismatch\n",
      "74_700_000 lines were rejected due to tdc2 mismatch\n",
      "74_800_000 lines were rejected due to tdc2 mismatch\n",
      "74_900_000 lines were rejected due to tdc2 mismatch\n",
      "75_000_000 lines were rejected due to tdc2 mismatch\n",
      "148_000_000 lines read\n"
     ]
    },
    {
     "name": "stdout",
     "output_type": "stream",
     "text": [
      "700_000 batches were rejected due to many electrons\n",
      "75_100_000 lines were rejected due to tdc2 mismatch\n",
      "75_200_000 lines were rejected due to tdc2 mismatch\n",
      "75_300_000 lines were rejected due to tdc2 mismatch\n",
      "75_400_000 lines were rejected due to tdc2 mismatch\n",
      "75_500_000 lines were rejected due to tdc2 mismatch\n",
      "75_600_000 lines were rejected due to tdc2 mismatch\n",
      "75_700_000 lines were rejected due to tdc2 mismatch\n",
      "705_000 batches were rejected due to many electrons\n",
      "75_800_000 lines were rejected due to tdc2 mismatch\n",
      "7_300_000 lines were rejected due to tdc1 mismatch\n",
      "### TDC2 Overflow NO 11\n",
      "tdc2 1181.1159824387998 tdc2_next 1181.1178133299436 tdc1 1181.115037360413 toa 1181.115672984375\n",
      "### TOA Overflow NO 44\n",
      "toa_prev 1181.1156729046875 toa 1181.1162829265622 tdc1 1181.115037360413 tdc2 1181.1159824387998\n",
      "### TDC1 Overflow NO 11\n",
      "tdc1 1181.115977650256 tdc1_next 1181.1169179747376 tdc2 1181.1159824387998 toa 1181.1162829265622\n",
      "75_900_000 lines were rejected due to tdc2 mismatch\n",
      "149_000_000 lines read\n",
      "76_000_000 lines were rejected due to tdc2 mismatch\n",
      "76_100_000 lines were rejected due to tdc2 mismatch\n",
      "76_200_000 lines were rejected due to tdc2 mismatch\n",
      "76_300_000 lines were rejected due to tdc2 mismatch\n",
      "710_000 batches were rejected due to many electrons\n",
      "76_400_000 lines were rejected due to tdc2 mismatch\n",
      "76_500_000 lines were rejected due to tdc2 mismatch\n",
      "76_600_000 lines were rejected due to tdc2 mismatch\n",
      "76_700_000 lines were rejected due to tdc2 mismatch\n",
      "76_800_000 lines were rejected due to tdc2 mismatch\n",
      "150_000_000 lines read\n",
      "7_400_000 lines were rejected due to tdc1 mismatch\n",
      "76_900_000 lines were rejected due to tdc2 mismatch\n",
      "715_000 batches were rejected due to many electrons\n",
      "77_000_000 lines were rejected due to tdc2 mismatch\n",
      "77_100_000 lines were rejected due to tdc2 mismatch\n",
      "77_200_000 lines were rejected due to tdc2 mismatch\n",
      "77_300_000 lines were rejected due to tdc2 mismatch\n",
      "77_400_000 lines were rejected due to tdc2 mismatch\n",
      "77_500_000 lines were rejected due to tdc2 mismatch\n",
      "720_000 batches were rejected due to many electrons\n",
      "77_600_000 lines were rejected due to tdc2 mismatch\n",
      "77_700_000 lines were rejected due to tdc2 mismatch\n",
      "151_000_000 lines read\n",
      "77_800_000 lines were rejected due to tdc2 mismatch\n",
      "77_900_000 lines were rejected due to tdc2 mismatch\n",
      "7_500_000 lines were rejected due to tdc1 mismatch\n",
      "78_000_000 lines were rejected due to tdc2 mismatch\n"
     ]
    },
    {
     "ename": "StopIteration",
     "evalue": "",
     "output_type": "error",
     "traceback": [
      "\u001b[0;31m---------------------------------------------------------------------------\u001b[0m",
      "\u001b[0;31mStopIteration\u001b[0m                             Traceback (most recent call last)",
      "\u001b[0;32m<ipython-input-233-a44e2a5c05a8>\u001b[0m in \u001b[0;36m<module>\u001b[0;34m\u001b[0m\n\u001b[1;32m    129\u001b[0m             \u001b[0;32mwhile\u001b[0m \u001b[0mabs\u001b[0m\u001b[0;34m(\u001b[0m\u001b[0mtoa\u001b[0m\u001b[0;34m-\u001b[0m\u001b[0mtdc2\u001b[0m\u001b[0;34m)\u001b[0m \u001b[0;34m>=\u001b[0m \u001b[0mabs\u001b[0m\u001b[0;34m(\u001b[0m\u001b[0mtoa\u001b[0m\u001b[0;34m-\u001b[0m\u001b[0mtdc2_next\u001b[0m\u001b[0;34m)\u001b[0m\u001b[0;34m:\u001b[0m\u001b[0;34m\u001b[0m\u001b[0;34m\u001b[0m\u001b[0m\n\u001b[1;32m    130\u001b[0m                 \u001b[0mtdc2\u001b[0m \u001b[0;34m=\u001b[0m \u001b[0mtdc2_next\u001b[0m\u001b[0;34m\u001b[0m\u001b[0;34m\u001b[0m\u001b[0m\n\u001b[0;32m--> 131\u001b[0;31m                 \u001b[0m_\u001b[0m \u001b[0;34m,\u001b[0m\u001b[0mtdc2_next\u001b[0m \u001b[0;34m=\u001b[0m \u001b[0mnext\u001b[0m\u001b[0;34m(\u001b[0m\u001b[0mtdc2_iter\u001b[0m\u001b[0;34m)\u001b[0m\u001b[0;34m\u001b[0m\u001b[0;34m\u001b[0m\u001b[0m\n\u001b[0m\u001b[1;32m    132\u001b[0m \u001b[0;34m\u001b[0m\u001b[0m\n\u001b[1;32m    133\u001b[0m                 \u001b[0;31m# Handle overflow\u001b[0m\u001b[0;34m\u001b[0m\u001b[0;34m\u001b[0m\u001b[0;34m\u001b[0m\u001b[0m\n",
      "\u001b[0;31mStopIteration\u001b[0m: "
     ]
    }
   ],
   "source": [
    "NTOTBATCHES = -1\n",
    "NBATCH = 20_000\n",
    "BEGINLINE= 0\n",
    "line_counter = 0\n",
    "NLINES = -1\n",
    "batch = 0\n",
    "\n",
    "tdc_updated = False\n",
    "\n",
    "t1_eps = 9e-4 #tdc1 tolerance\n",
    "t2_eps = 3e-6 #tdc2 tolerance\n",
    "\n",
    "x_threshold = 15\n",
    "y_threshold = 15\n",
    "xmax = 0\n",
    "xmin = 1000 # detector has only 256x256 pixels\n",
    "ymax = 0\n",
    "ymin = 1000 # detector has only 256x256 pixels\n",
    "\n",
    "batch_lines = ''\n",
    "df_str = ''\n",
    "\n",
    "many_electron_reject = 0\n",
    "tdc1_reject = 0\n",
    "tdc2_reject= 0\n",
    "\n",
    "toa_overflow_counter = 0\n",
    "tdc1_overflow_counter = 0\n",
    "tdc2_overflow_counter = 0\n",
    "\n",
    "toa_overflow_threshold = (25*2**30/1e9)\n",
    "tdc_overflow_threshold = (25*2**32/1e9)\n",
    "\n",
    "tdc1_overflow = False\n",
    "tdc2_overflow = False\n",
    "toa_overflow = False\n",
    "\n",
    "overflow_threshold = 10    # sets after which we start checking overflow\n",
    "\n",
    "toa = 0\n",
    "\n",
    "\n",
    "\n",
    "tdc1_iter = tdc_one_bg.time.iteritems()\n",
    "_ ,tdc1 = next(tdc1_iter)\n",
    "_ , tdc1_next = next(tdc1_iter)\n",
    "\n",
    "\n",
    "tdc2_iter = tdc_two_bg.time.iteritems()\n",
    "_ ,tdc2 = next(tdc2_iter)\n",
    "_ , tdc2_next = next(tdc2_iter)\n",
    "\n",
    "header = 'batch,x,y,toa1,toa2,delta_t\\n'\n",
    "\n",
    "\n",
    "with open('preprocessed110.csv','w') as wfile:\n",
    "    wfile.write('')\n",
    "\n",
    "import re\n",
    "re_search = re.compile('\\w+:')\n",
    "with open('converted8.txt','r') as rfile:\n",
    "    with open('preprocessed110.csv','a') as afile:\n",
    "        afile.write(header)\n",
    "        \n",
    "        def overflow_corr(num,num_counter,num_threshold): #corrects for overflow\n",
    "            return num + num_counter*num_threshold\n",
    "        \n",
    "        for line in rfile:\n",
    "            line_counter+=1\n",
    "            if line_counter < BEGINLINE:\n",
    "    #            toa_overflow_counter =3 #for 12_000_000\n",
    "                continue\n",
    "                \n",
    "            if line_counter %1_000_000 == 0:\n",
    "                print(f'{line_counter:_} lines read')\n",
    "\n",
    "            \n",
    "            if batch % NBATCH == 0 and batch>0 and df_str != '':\n",
    "                df_str='toa,tot,x,y,tdc1,tdc2,batch\\n'+df_str\n",
    "                to_write = final_processing(df_str)\n",
    "                afile.write(to_write)\n",
    "                to_write = ''\n",
    "                #break\n",
    "                df_str = ''\n",
    "                print(f'\\nBatch numer {batch:_} is written')\n",
    "                print(f'{line_counter:_} lines read')\n",
    "                print('-----')\n",
    "\n",
    "\n",
    "                \n",
    "            if batch == NTOTBATCHES:\n",
    "                print('NBATCHES reached')\n",
    "                break\n",
    "            if line_counter == NLINES:\n",
    "                print('NLINES reached')\n",
    "                break\n",
    "\n",
    "                    \n",
    "############################################ TOA #######################################\n",
    "                \n",
    "                \n",
    "            str_list = line.split('TOA:')\n",
    "            try:\n",
    "                toa_prev = toa\n",
    "                toa = np.float64(str_list[1].split(',')[0])\n",
    "                toa2 = toa\n",
    "                toa = overflow_corr(toa,toa_overflow_counter,toa_overflow_threshold)\n",
    "                    \n",
    "                if toa_prev > toa + overflow_threshold:\n",
    "                    \n",
    "                    toa_overflow_counter += 1\n",
    "                    #print('toa2 %s tdc1 %s' % (toa2,tdc1))\n",
    "                    #print('toa_prev %s toa %s toa_prev-toa %s' % (toa_prev,toa,toa_prev-toa))\n",
    "                    toa += toa_overflow_threshold\n",
    "                    print('### TOA Overflow NO %s' %toa_overflow_counter )\n",
    "                    print('toa_prev %s toa %s tdc1 %s tdc2 %s'  % (toa_prev,toa,tdc1,tdc2))\n",
    "                    \n",
    "\n",
    "                \n",
    "            except IndexError: # This only happens for tdc lines\n",
    "                continue\n",
    "\n",
    "                \n",
    "############################################ TDC2  #######################################\n",
    "\n",
    "                \n",
    "            # tdc2 iterator is only updated when the difference of toa with the current tdc2\n",
    "            # is greater than the difference of toa with the next tdc2\n",
    "            while abs(toa-tdc2) >= abs(toa-tdc2_next):\n",
    "                tdc2 = tdc2_next\n",
    "                _ ,tdc2_next = next(tdc2_iter)\n",
    "                \n",
    "                # Handle overflow\n",
    "                tdc2_next = overflow_corr(tdc2_next,tdc2_overflow_counter,tdc_overflow_threshold)\n",
    "                \n",
    "                if tdc2 > tdc2_next+overflow_threshold:\n",
    "                   # print('tdc2 %s tdc2_next %s tdc1 %s toa %s' % (tdc2,tdc2_next ,tdc1,toa))\n",
    "\n",
    "                    tdc2_overflow_counter += 1\n",
    "                    tdc2_next += tdc_overflow_threshold\n",
    "                    print('### TDC2 Overflow NO %s' %tdc2_overflow_counter )\n",
    "                    print('tdc2 %s tdc2_next %s tdc1 %s toa %s' % (tdc2,tdc2_next ,tdc1,toa))\n",
    "\n",
    "\n",
    "                    \n",
    "\n",
    "                    \n",
    "                tdc_updated = True\n",
    "    \n",
    "    \n",
    "############################################ MANY ELECTRON  #######################################\n",
    "\n",
    "            # We want to gate >1 electron events. This is achieved by putting a max-min threshold\n",
    "            # on x and y. \n",
    "            if tdc_updated:\n",
    "                if abs(xmax-xmin) < x_threshold and abs(ymax-ymin) < y_threshold:\n",
    "                    df_str = df_str + batch_lines\n",
    "                    batch += 1\n",
    "                else:\n",
    "                    if np.random.rand()<1/2500:\n",
    "                        many_e = pd.read_csv(StringIO(header+batch_lines))\n",
    "                        try:\n",
    "                            many_e.plot(x='x',y='y',linestyle='None',marker='o')\n",
    "                            plt.show()\n",
    "                        except:\n",
    "                            None\n",
    "                    many_electron_reject +=1\n",
    "                    if many_electron_reject % 5_000==0:\n",
    "                        print(f'{many_electron_reject:_} batches were rejected due to many electrons')\n",
    "\n",
    "\n",
    "                    \n",
    "                tdc_updated = False\n",
    "                batch_lines =''\n",
    "                xmax = 0\n",
    "                xmin = 1000\n",
    "                ymax = 0\n",
    "                ymin = 1000\n",
    "                \n",
    "############################################ TDC1  #######################################\n",
    "\n",
    "\n",
    "            # when the difference bw tdc1 and toa exceeds the threshold we need to update tdc1\n",
    "            while toa-tdc1>=t1_eps:\n",
    "                tdc1 = tdc1_next\n",
    "                _ ,tdc1_next = next(tdc1_iter)\n",
    "                \n",
    "                # Handle overflow\n",
    "                tdc1_next = overflow_corr(tdc1_next,tdc1_overflow_counter,tdc_overflow_threshold)\n",
    "                \n",
    "                if tdc1 > tdc1_next + overflow_threshold:\n",
    "                    tdc1_overflow_counter += 1\n",
    "                   # print('tdc1 %s tdc1_next %s tdc2 %s toa %s' % (tdc1,tdc1_next ,tdc2,toa))\n",
    "\n",
    "                    tdc1_next += tdc_overflow_threshold\n",
    "                    print('### TDC1 Overflow NO %s' %tdc1_overflow_counter )\n",
    "                    print('tdc1 %s tdc1_next %s tdc2 %s toa %s' % (tdc1,tdc1_next ,tdc2,toa))\n",
    "\n",
    "\n",
    "                \n",
    "                \n",
    "            if toa-tdc1 >=0 and toa-tdc1<t1_eps:  \n",
    "                # We assume that tdc1 signal must be the first signal hence >0\n",
    "                # if the difference between time of arrival (toa) and tdc1 signal\n",
    "                # is below threshold and toa-tdc2 is below threshold we write into the file\n",
    "                if abs(toa-tdc2) < t2_eps:\n",
    "                    line = ''.join(re_search.split(line))[:-1] + (', %s , %s , %s\\n' % (tdc1,tdc2,batch))\n",
    "                    batch_lines = batch_lines + line\n",
    "                    x,y = line.split(',')[2:4]\n",
    "                    x,y = int(x),int(y)\n",
    "                    xmax = max(x,xmax)\n",
    "                    xmin = min(x,xmin)\n",
    "                    ymax = max(y,ymax)\n",
    "                    ymin = min(y,ymin)\n",
    "                else:\n",
    "                    tdc2_reject +=1\n",
    "                    if tdc2_reject %100_000 == 0:\n",
    "                        print(f'{tdc2_reject:_} lines were rejected due to tdc2 mismatch')\n",
    "            else:\n",
    "                tdc1_reject += 1\n",
    "                if tdc1_reject %100_000 == 0:\n",
    "                        print(f'{tdc1_reject:_} lines were rejected due to tdc1 mismatch')\n"
   ]
  },
  {
   "cell_type": "code",
   "execution_count": 197,
   "metadata": {},
   "outputs": [
    {
     "data": {
      "text/html": [
       "<div>\n",
       "<style scoped>\n",
       "    .dataframe tbody tr th:only-of-type {\n",
       "        vertical-align: middle;\n",
       "    }\n",
       "\n",
       "    .dataframe tbody tr th {\n",
       "        vertical-align: top;\n",
       "    }\n",
       "\n",
       "    .dataframe thead th {\n",
       "        text-align: right;\n",
       "    }\n",
       "</style>\n",
       "<table border=\"1\" class=\"dataframe\">\n",
       "  <thead>\n",
       "    <tr style=\"text-align: right;\">\n",
       "      <th></th>\n",
       "      <th>batch</th>\n",
       "      <th>x</th>\n",
       "      <th>y</th>\n",
       "      <th>toa1</th>\n",
       "      <th>toa2</th>\n",
       "      <th>delta_t</th>\n",
       "    </tr>\n",
       "  </thead>\n",
       "  <tbody>\n",
       "    <tr>\n",
       "      <th>count</th>\n",
       "      <td>580000.000000</td>\n",
       "      <td>580000.000000</td>\n",
       "      <td>580000.000000</td>\n",
       "      <td>580000.000000</td>\n",
       "      <td>580000.000000</td>\n",
       "      <td>580000.000000</td>\n",
       "    </tr>\n",
       "    <tr>\n",
       "      <th>mean</th>\n",
       "      <td>289999.500000</td>\n",
       "      <td>145.349196</td>\n",
       "      <td>64.248827</td>\n",
       "      <td>-281.949661</td>\n",
       "      <td>281.950025</td>\n",
       "      <td>0.000364</td>\n",
       "    </tr>\n",
       "    <tr>\n",
       "      <th>std</th>\n",
       "      <td>167431.722402</td>\n",
       "      <td>39.087894</td>\n",
       "      <td>35.143083</td>\n",
       "      <td>170.667567</td>\n",
       "      <td>170.667566</td>\n",
       "      <td>0.000293</td>\n",
       "    </tr>\n",
       "    <tr>\n",
       "      <th>min</th>\n",
       "      <td>0.000000</td>\n",
       "      <td>15.000000</td>\n",
       "      <td>23.333333</td>\n",
       "      <td>-590.557999</td>\n",
       "      <td>-0.000002</td>\n",
       "      <td>-0.000002</td>\n",
       "    </tr>\n",
       "    <tr>\n",
       "      <th>25%</th>\n",
       "      <td>144999.750000</td>\n",
       "      <td>122.664690</td>\n",
       "      <td>38.906814</td>\n",
       "      <td>-429.496418</td>\n",
       "      <td>134.217728</td>\n",
       "      <td>0.000062</td>\n",
       "    </tr>\n",
       "    <tr>\n",
       "      <th>50%</th>\n",
       "      <td>289999.500000</td>\n",
       "      <td>161.065485</td>\n",
       "      <td>48.447018</td>\n",
       "      <td>-295.278123</td>\n",
       "      <td>295.279002</td>\n",
       "      <td>0.000342</td>\n",
       "    </tr>\n",
       "    <tr>\n",
       "      <th>75%</th>\n",
       "      <td>434999.250000</td>\n",
       "      <td>172.085410</td>\n",
       "      <td>83.664921</td>\n",
       "      <td>-134.217367</td>\n",
       "      <td>429.496730</td>\n",
       "      <td>0.000621</td>\n",
       "    </tr>\n",
       "    <tr>\n",
       "      <th>max</th>\n",
       "      <td>579999.000000</td>\n",
       "      <td>214.823393</td>\n",
       "      <td>227.000000</td>\n",
       "      <td>0.000900</td>\n",
       "      <td>590.558004</td>\n",
       "      <td>0.000900</td>\n",
       "    </tr>\n",
       "  </tbody>\n",
       "</table>\n",
       "</div>"
      ],
      "text/plain": [
       "               batch              x              y           toa1  \\\n",
       "count  580000.000000  580000.000000  580000.000000  580000.000000   \n",
       "mean   289999.500000     145.349196      64.248827    -281.949661   \n",
       "std    167431.722402      39.087894      35.143083     170.667567   \n",
       "min         0.000000      15.000000      23.333333    -590.557999   \n",
       "25%    144999.750000     122.664690      38.906814    -429.496418   \n",
       "50%    289999.500000     161.065485      48.447018    -295.278123   \n",
       "75%    434999.250000     172.085410      83.664921    -134.217367   \n",
       "max    579999.000000     214.823393     227.000000       0.000900   \n",
       "\n",
       "                toa2        delta_t  \n",
       "count  580000.000000  580000.000000  \n",
       "mean      281.950025       0.000364  \n",
       "std       170.667566       0.000293  \n",
       "min        -0.000002      -0.000002  \n",
       "25%       134.217728       0.000062  \n",
       "50%       295.279002       0.000342  \n",
       "75%       429.496730       0.000621  \n",
       "max       590.558004       0.000900  "
      ]
     },
     "execution_count": 197,
     "metadata": {},
     "output_type": "execute_result"
    }
   ],
   "source": [
    "tmp=pd.read_csv('preprocessed110.csv')\n",
    "tmp.describe()"
   ]
  },
  {
   "cell_type": "code",
   "execution_count": 13,
   "metadata": {
    "scrolled": true
   },
   "outputs": [
    {
     "name": "stdout",
     "output_type": "stream",
     "text": [
      "<class 'pandas.core.frame.DataFrame'>\n",
      "RangeIndex: 688833 entries, 0 to 688832\n",
      "Data columns (total 7 columns):\n",
      " #   Column  Non-Null Count   Dtype  \n",
      "---  ------  --------------   -----  \n",
      " 0   toa     688833 non-null  float64\n",
      " 1   tot     688833 non-null  int64  \n",
      " 2   x       688833 non-null  int64  \n",
      " 3   y       688833 non-null  int64  \n",
      " 4   tdc1    688833 non-null  float64\n",
      " 5   tdc2    688833 non-null  float64\n",
      " 6   batch   688833 non-null  int64  \n",
      "dtypes: float64(3), int64(4)\n",
      "memory usage: 36.8 MB\n"
     ]
    }
   ],
   "source": [
    "tmp2 = pd.read_csv('preprocessed11.csv')\n",
    "tmp2.info()"
   ]
  },
  {
   "cell_type": "code",
   "execution_count": 23,
   "metadata": {},
   "outputs": [],
   "source": [
    "tmp2=final_processing(tmp2,debug=True)"
   ]
  },
  {
   "cell_type": "code",
   "execution_count": 226,
   "metadata": {
    "scrolled": false
   },
   "outputs": [
    {
     "data": {
      "image/png": "[encoded data removed]",
      "text/plain": [
       "<Figure size 432x288 with 1 Axes>"
      ]
     },
     "metadata": {
      "needs_background": "light"
     },
     "output_type": "display_data"
    }
   ],
   "source": [
    "x,y=line_hist(tmp.delta_t*1e9,bins=np.linspace(4785,4795,105),normalized=False,linestyle='None')"
   ]
  },
  {
   "cell_type": "code",
   "execution_count": 230,
   "metadata": {},
   "outputs": [
    {
     "data": {
      "text/plain": [
       "4790.051635545818"
      ]
     },
     "execution_count": 230,
     "metadata": {},
     "output_type": "execute_result"
    }
   ],
   "source": [
    "(x*y).sum()/y.sum()"
   ]
  },
  {
   "cell_type": "code",
   "execution_count": 190,
   "metadata": {},
   "outputs": [
    {
     "data": {
      "image/png": "[encoded data removed]",
      "text/plain": [
       "<Figure size 432x288 with 1 Axes>"
      ]
     },
     "metadata": {
      "needs_background": "light"
     },
     "output_type": "display_data"
    },
    {
     "data": {
      "text/plain": [
       "[<matplotlib.lines.Line2D at 0x7fbb5ae82190>]"
      ]
     },
     "execution_count": 190,
     "metadata": {},
     "output_type": "execute_result"
    },
    {
     "data": {
      "image/png": "[encoded data removed]",
      "text/plain": [
       "<Figure size 432x288 with 1 Axes>"
      ]
     },
     "metadata": {
      "needs_background": "light"
     },
     "output_type": "display_data"
    }
   ],
   "source": [
    "x,y=line_hist(tmp.delta_t*1e9,bins=np.linspace(0,10000,5000),normalized=False,linestyle='None')\n",
    "ycs = np.cumsum(y)\n",
    "plt.plot(x,ycs/ycs[-1])"
   ]
  },
  {
   "cell_type": "code",
   "execution_count": 222,
   "metadata": {},
   "outputs": [
    {
     "data": {
      "text/plain": [
       "111814"
      ]
     },
     "execution_count": 222,
     "metadata": {},
     "output_type": "execute_result"
    }
   ],
   "source": [
    "(tmp['delta_t']*1e9<4795).sum()"
   ]
  },
  {
   "cell_type": "code",
   "execution_count": 225,
   "metadata": {},
   "outputs": [
    {
     "data": {
      "text/plain": [
       "<seaborn.axisgrid.FacetGrid at 0x7fbb59e09220>"
      ]
     },
     "execution_count": 225,
     "metadata": {},
     "output_type": "execute_result"
    },
    {
     "data": {
      "image/png": "[encoded data removed]",
      "text/plain": [
       "<Figure size 360x360 with 1 Axes>"
      ]
     },
     "metadata": {
      "needs_background": "light"
     },
     "output_type": "display_data"
    }
   ],
   "source": [
    "sns.displot(data=tmp[tmp['delta_t']*1e9<4795],x='x',y='y',bins=100)"
   ]
  },
  {
   "cell_type": "code",
   "execution_count": null,
   "metadata": {},
   "outputs": [],
   "source": []
  },
  {
   "cell_type": "code",
   "execution_count": 97,
   "metadata": {},
   "outputs": [
    {
     "data": {
      "text/plain": [
       "-26843111064.48568"
      ]
     },
     "execution_count": 97,
     "metadata": {},
     "output_type": "execute_result"
    }
   ],
   "source": [
    "tmp.loc[26_715].toa1"
   ]
  },
  {
   "cell_type": "code",
   "execution_count": 103,
   "metadata": {},
   "outputs": [],
   "source": [
    "np.longdouble?"
   ]
  },
  {
   "cell_type": "code",
   "execution_count": null,
   "metadata": {},
   "outputs": [],
   "source": [
    "print(final_processing(df_str))"
   ]
  },
  {
   "cell_type": "code",
   "execution_count": null,
   "metadata": {},
   "outputs": [],
   "source": [
    "pd.read_csv('preprocessed110.csv')"
   ]
  },
  {
   "cell_type": "code",
   "execution_count": 110,
   "metadata": {},
   "outputs": [
    {
     "data": {
      "text/plain": [
       "finfo(resolution=1e-18, min=-1.189731495357231765e+4932, max=1.189731495357231765e+4932, dtype=float128)"
      ]
     },
     "execution_count": 110,
     "metadata": {},
     "output_type": "execute_result"
    }
   ],
   "source": [
    "np.finfo('longdouble')"
   ]
  },
  {
   "cell_type": "code",
   "execution_count": 111,
   "metadata": {},
   "outputs": [
    {
     "data": {
      "text/plain": [
       "finfo(resolution=1e-15, min=-1.7976931348623157e+308, max=1.7976931348623157e+308, dtype=float64)"
      ]
     },
     "execution_count": 111,
     "metadata": {},
     "output_type": "execute_result"
    }
   ],
   "source": [
    "np.finfo('float64')"
   ]
  },
  {
   "cell_type": "code",
   "execution_count": null,
   "metadata": {},
   "outputs": [],
   "source": []
  }
 ],
 "metadata": {
  "kernelspec": {
   "display_name": "Python 3",
   "language": "python",
   "name": "python3"
  },
  "language_info": {
   "codemirror_mode": {
    "name": "ipython",
    "version": 3
   },
   "file_extension": ".py",
   "mimetype": "text/x-python",
   "name": "python",
   "nbconvert_exporter": "python",
   "pygments_lexer": "ipython3",
   "version": "3.8.5"
  }
 },
 "nbformat": 4,
 "nbformat_minor": 4
}
